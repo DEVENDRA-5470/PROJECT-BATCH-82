{
 "cells": [
  {
   "cell_type": "code",
   "execution_count": null,
   "id": "766358a6-7aba-4b08-81d2-b82681a641c9",
   "metadata": {},
   "outputs": [],
   "source": [
    "A wrapper is basically something usually a function or class \n",
    "that sits around another function or object to add some extra\n",
    "behavior without changing the original code."
   ]
  },
  {
   "cell_type": "code",
   "execution_count": 2,
   "id": "55cef09f-fead-48c8-bd80-ae518266d8ea",
   "metadata": {},
   "outputs": [
    {
     "name": "stdout",
     "output_type": "stream",
     "text": [
      "Before calling function\n",
      "After calling function\n",
      "Hello Aman\n"
     ]
    }
   ],
   "source": [
    "def greet(name):\n",
    "    return f\"Hello {name}\"\n",
    "\n",
    "def wapper(fun):\n",
    "    def inner(name):\n",
    "        print(\"Before calling function\")\n",
    "        result=fun(name)\n",
    "        print(\"After calling function\")\n",
    "        return result\n",
    "    return inner\n",
    "\n",
    "new_greet=wapper(greet)\n",
    "print(new_greet(\"Aman\"))"
   ]
  },
  {
   "cell_type": "code",
   "execution_count": 14,
   "id": "cb920831-c7b6-4d89-acac-27fee0e045d5",
   "metadata": {},
   "outputs": [
    {
     "name": "stdout",
     "output_type": "stream",
     "text": [
      "please login first\n"
     ]
    }
   ],
   "source": [
    "def login_requried(fun):\n",
    "    def inner():\n",
    "        if True:\n",
    "            print(\"please login first\")\n",
    "            return \n",
    "        fun()\n",
    "        print(\"logging success redirecting...\")\n",
    "    return inner\n",
    "\n",
    "@login_requried\n",
    "def product():\n",
    "    print(\"product fetched\")\n",
    "product()\n",
    "\n",
    "@login_requried\n",
    "def all_customer():\n",
    "    print(\"this is customer list\")\n",
    "\n",
    "@login_requried\n",
    "def all_books():\n",
    "    print(\"This is books list\")\n",
    "    \n",
    "@login_requried\n",
    "def delete_books():\n",
    "    print(\"Deleting books\")"
   ]
  },
  {
   "cell_type": "code",
   "execution_count": 15,
   "id": "e24f4903-7c4e-4926-a1f6-72a2dd75d387",
   "metadata": {},
   "outputs": [
    {
     "name": "stdout",
     "output_type": "stream",
     "text": [
      "please login first\n"
     ]
    }
   ],
   "source": [
    "delete_books()"
   ]
  },
  {
   "cell_type": "code",
   "execution_count": 28,
   "id": "f91d9fc5-d7d8-4caf-8584-632cf9035046",
   "metadata": {},
   "outputs": [
    {
     "name": "stdout",
     "output_type": "stream",
     "text": [
      "60\n",
      "This fuction are used to some addition operation\n",
      "add\n",
      "{}\n"
     ]
    }
   ],
   "source": [
    "def add(a,b):\n",
    "    \"\"\"This fuction are used to some addition operation\"\"\"\n",
    "    return a+b\n",
    "\n",
    "r=add(a=30,b=30)\n",
    "print(r)\n",
    "print(add.__doc__)\n",
    "print(add.__name__)\n",
    "print(add.__dict__)"
   ]
  },
  {
   "cell_type": "code",
   "execution_count": 37,
   "id": "d673bc53-794a-410c-a887-7bfcd4415681",
   "metadata": {},
   "outputs": [
    {
     "name": "stdout",
     "output_type": "stream",
     "text": [
      "product fetched\n",
      "logging success redirecting...\n",
      "this function used to fetch product list \n",
      "product\n"
     ]
    }
   ],
   "source": [
    "from functools import wraps\n",
    "def login_requried(fun):\n",
    "    @wraps(fun)\n",
    "    def inner():\n",
    "        fun()\n",
    "        print(\"logging success redirecting...\")\n",
    "    return inner\n",
    "\n",
    "@login_requried\n",
    "def product():\n",
    "    \"\"\" this function used to fetch product list \"\"\"\n",
    "    print(\"product fetched\")\n",
    "product()\n",
    "print(product.__doc__)\n",
    "print(product.__name__)"
   ]
  }
 ],
 "metadata": {
  "kernelspec": {
   "display_name": "Python 3 (ipykernel)",
   "language": "python",
   "name": "python3"
  },
  "language_info": {
   "codemirror_mode": {
    "name": "ipython",
    "version": 3
   },
   "file_extension": ".py",
   "mimetype": "text/x-python",
   "name": "python",
   "nbconvert_exporter": "python",
   "pygments_lexer": "ipython3",
   "version": "3.13.7"
  }
 },
 "nbformat": 4,
 "nbformat_minor": 5
}
