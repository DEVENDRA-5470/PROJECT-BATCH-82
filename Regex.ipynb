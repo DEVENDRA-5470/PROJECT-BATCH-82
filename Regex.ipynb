{
 "cells": [
  {
   "cell_type": "code",
   "execution_count": 28,
   "id": "14dc8da7-cb03-4e95-b3d0-adea29482297",
   "metadata": {},
   "outputs": [
    {
     "name": "stdout",
     "output_type": "stream",
     "text": [
      "True\n"
     ]
    }
   ],
   "source": [
    "import re\n",
    "text=\"Hello world, Hello again\"\n",
    "# Check only at the beggining of the string\n",
    "# Return a match object if found else None\n",
    "res=re.match(r\"Hello\",text)\n",
    "print(bool(res))"
   ]
  },
  {
   "cell_type": "code",
   "execution_count": 16,
   "id": "144f2527-8cfa-423b-9012-344469090a38",
   "metadata": {},
   "outputs": [
    {
     "name": "stdout",
     "output_type": "stream",
     "text": [
      "True\n"
     ]
    }
   ],
   "source": [
    "import re\n",
    "text=\"Hello world, Hello again\"\n",
    "res=re.search(r\"Hello\",text)\n",
    "print(bool(res))"
   ]
  },
  {
   "cell_type": "code",
   "execution_count": 23,
   "id": "5b6d68b7-2600-4b43-a391-a0c626b0fa0d",
   "metadata": {},
   "outputs": [
    {
     "name": "stdout",
     "output_type": "stream",
     "text": [
      "['world']\n"
     ]
    }
   ],
   "source": [
    "import re\n",
    "text=\"Hello world, Hello again\"\n",
    "res=re.findall(r\"world\",text)\n",
    "print(res)"
   ]
  },
  {
   "cell_type": "code",
   "execution_count": 29,
   "id": "a32f4f3a-21c0-41e5-9709-58abb83aa019",
   "metadata": {},
   "outputs": [
    {
     "name": "stdout",
     "output_type": "stream",
     "text": [
      "Hello (0, 5)\n",
      "Hello (13, 18)\n"
     ]
    }
   ],
   "source": [
    "import re\n",
    "text=\"Hello world, Hello again\"\n",
    "for match in re.finditer(r\"Hello\",text):\n",
    "    print(match.group(),match.span())"
   ]
  },
  {
   "cell_type": "code",
   "execution_count": 44,
   "id": "6bf5b4d1-487a-4b72-8c07-3dfec9610757",
   "metadata": {},
   "outputs": [
    {
     "name": "stdout",
     "output_type": "stream",
     "text": [
      "['cat', 'cut', 'cot']\n"
     ]
    }
   ],
   "source": [
    "# Meta characters.\n",
    "import re\n",
    "text=\"cat\\ncaat\\ncut\\ncot\\ncart\\ncoolt\"\n",
    "res=re.findall(r\"c.t\",text)\n",
    "print(res)\n"
   ]
  },
  {
   "cell_type": "code",
   "execution_count": 49,
   "id": "643327ee-46e1-4e37-b479-18e471e42fde",
   "metadata": {},
   "outputs": [
    {
     "name": "stdout",
     "output_type": "stream",
     "text": [
      "True\n"
     ]
    }
   ],
   "source": [
    "import re\n",
    "text=\"Hello world team of DS\"\n",
    "res=re.match(r\"^Hello\",text)\n",
    "print(bool(res))\n"
   ]
  },
  {
   "cell_type": "code",
   "execution_count": 67,
   "id": "376afcec-d283-4678-85c2-f7a49a208b15",
   "metadata": {},
   "outputs": [
    {
     "name": "stdout",
     "output_type": "stream",
     "text": [
      "True\n"
     ]
    }
   ],
   "source": [
    "import re\n",
    "text=\"This is the end of the worldworld\"\n",
    "res=re.search(r\"world$\",text)\n",
    "print(bool(res))\n"
   ]
  },
  {
   "cell_type": "code",
   "execution_count": 91,
   "id": "164d968e-628d-4d2d-a171-759933b11fed",
   "metadata": {},
   "outputs": [
    {
     "name": "stdout",
     "output_type": "stream",
     "text": [
      "['o', 'ok', 'okkk', 'okkkk', 'o', 'okk']\n"
     ]
    }
   ],
   "source": [
    "text=\"o ok okkk okkkk ookk\"\n",
    "res=re.findall(r\"ok*\",text)\n",
    "print(res)"
   ]
  },
  {
   "cell_type": "code",
   "execution_count": 92,
   "id": "297ae6e1-c5e6-4e63-92a4-afa2f375d9de",
   "metadata": {},
   "outputs": [
    {
     "name": "stdout",
     "output_type": "stream",
     "text": [
      "['ok', 'okkk', 'okkkk']\n"
     ]
    }
   ],
   "source": [
    "text=\"o ok okkk okkkk\"\n",
    "res=re.findall(r\"ok+\",text)\n",
    "print(res)"
   ]
  },
  {
   "cell_type": "code",
   "execution_count": 102,
   "id": "3b3e779b-07ab-48df-819d-fd8c6e0ed4c0",
   "metadata": {},
   "outputs": [
    {
     "name": "stdout",
     "output_type": "stream",
     "text": [
      "['okkk', 'okkk']\n"
     ]
    }
   ],
   "source": [
    "text=\"o ok okkk okkkk\"\n",
    "res=re.findall(r\"ok{3}\",text)\n",
    "print(res)"
   ]
  },
  {
   "cell_type": "code",
   "execution_count": 124,
   "id": "f0045810-6bb0-4a90-8bd7-6a6aba2b03f4",
   "metadata": {},
   "outputs": [
    {
     "name": "stdout",
     "output_type": "stream",
     "text": [
      "['okkk', 'okkk']\n"
     ]
    }
   ],
   "source": [
    "text=\"ok okk okkk okkkk\"\n",
    "res=re.findall(r\"o{1}k{3}\",text)\n",
    "print(res)"
   ]
  },
  {
   "cell_type": "code",
   "execution_count": 138,
   "id": "32b825cc-1135-40ad-9b62-fa3ffcb77d4d",
   "metadata": {},
   "outputs": [
    {
     "name": "stdout",
     "output_type": "stream",
     "text": [
      "['colour']\n"
     ]
    }
   ],
   "source": [
    "text=\"color colour dolor\"\n",
    "res=re.findall(r\"colou?r\",text)\n",
    "print(res)"
   ]
  },
  {
   "cell_type": "code",
   "execution_count": 1,
   "id": "6851fcf8-ccac-4578-9e45-13c608ecd2b3",
   "metadata": {},
   "outputs": [],
   "source": [
    "# Character class.\n",
    "# import re\n",
    "# text=\"abc ABC 123 908 XYZ xyz @ . / # $\"\n",
    "# print(re.findall(r'[a-z,A-Z,5-9]',text))\n",
    "# print(re.findall(r'[a-z]',text))\n",
    "# print(re.findall(r'[A-Z]',text))\n",
    "# print(re.findall(r'[0-9]',text))\n",
    "# print(re.findall(r'[@./#$]',text))\n",
    "\n"
   ]
  },
  {
   "cell_type": "code",
   "execution_count": 13,
   "id": "e56841b3-7d03-4bd0-8d90-52ebd15f0348",
   "metadata": {},
   "outputs": [
    {
     "name": "stdout",
     "output_type": "stream",
     "text": [
      "Price_high @is # dollor of this project\n"
     ]
    }
   ],
   "source": [
    "import re\n",
    "text=\"Price_high @is #100 dollor of this project\"\n",
    "res=re.findall(r\"\\d\",text) # 0-9\n",
    "res=\"\".join(re.findall(r\"\\D\",text)) # not a number\n",
    "print(res)"
   ]
  },
  {
   "cell_type": "code",
   "execution_count": 17,
   "id": "956fcad3-9e7c-4db6-9e64-309c15a13168",
   "metadata": {},
   "outputs": [
    {
     "name": "stdout",
     "output_type": "stream",
     "text": [
      " @   #   \n"
     ]
    }
   ],
   "source": [
    "import re\n",
    "text=\"Price_high is@ 100 dollor # of this project\"\n",
    "# res=re.findall(r\"\\w\",text) # Not a word charecter\n",
    "res=\"\".join(re.findall(r\"\\W\",text)) # not a number\n",
    "print(res)"
   ]
  },
  {
   "cell_type": "code",
   "execution_count": 25,
   "id": "027dc6f5-b0e8-4b44-ae4e-9e493cf66b2b",
   "metadata": {},
   "outputs": [
    {
     "name": "stdout",
     "output_type": "stream",
     "text": [
      "Price_highis@100dollor#ofthisproject\n"
     ]
    }
   ],
   "source": [
    "import re\n",
    "text=\"Price_high \\nis@ 100\\t dollor # of this project\"\n",
    "res=re.findall(r\"\\s\",text) # white spaces\n",
    "res=\"\".join(re.findall(r\"\\S\",text)) # Not white spaces\n",
    "print(res)"
   ]
  },
  {
   "cell_type": "code",
   "execution_count": 30,
   "id": "ee63fc21-eb6a-4d3d-ae70-b5d1117b411f",
   "metadata": {},
   "outputs": [
    {
     "name": "stdout",
     "output_type": "stream",
     "text": [
      "['cat', 'dog']\n"
     ]
    }
   ],
   "source": [
    "import re\n",
    "text=\"cat and dog are pet animals\"\n",
    "res=re.findall(r'cat|dog|tommy' ,text)\n",
    "print(res)\n"
   ]
  },
  {
   "cell_type": "code",
   "execution_count": 49,
   "id": "d2639a03-6f7e-4f27-93e0-6c0255f29d5b",
   "metadata": {},
   "outputs": [
    {
     "name": "stdout",
     "output_type": "stream",
     "text": [
      "['APPLE']\n"
     ]
    }
   ],
   "source": [
    "# positive/negative lookhead\n",
    "text=\"APPLE pie and apple juice and apple shake\"\n",
    "res=re.findall(r\"apple(?= pie)\",text,re.IGNORECASE)\n",
    "# res=re.findall(r\"apple(?! pie)\",text)\n",
    "\n",
    "print(res)"
   ]
  },
  {
   "cell_type": "code",
   "execution_count": 50,
   "id": "2dad686d-6f1a-48a9-9499-3a9b4bfb911b",
   "metadata": {},
   "outputs": [
    {
     "name": "stdout",
     "output_type": "stream",
     "text": [
      "green sky green ocean\n"
     ]
    }
   ],
   "source": [
    "# substitution\n",
    "text=\"blue sky blue ocean\"\n",
    "res=re.sub(\"blue\",\"green\",text)\n",
    "print(res)"
   ]
  },
  {
   "cell_type": "code",
   "execution_count": 51,
   "id": "1db3667e-e342-42f5-95bb-eaa58d8e528c",
   "metadata": {},
   "outputs": [
    {
     "name": "stdout",
     "output_type": "stream",
     "text": [
      "red sky red ocean\n"
     ]
    }
   ],
   "source": [
    "text=\"blue sky blue ocean\"\n",
    "res=re.sub(\"blue\",\"red\",text)\n",
    "print(res)"
   ]
  },
  {
   "cell_type": "code",
   "execution_count": 53,
   "id": "c8c1c9ad-92d7-4cdf-89e5-c7f1887294c7",
   "metadata": {},
   "outputs": [
    {
     "name": "stdout",
     "output_type": "stream",
     "text": [
      "['1', '0', '0']\n"
     ]
    }
   ],
   "source": [
    "import re\n",
    "text=\"Price_high @is #100 dollor of this project\"\n",
    "pattern=re.compile(r\"\\d\")\n",
    "res=pattern.findall(text)\n",
    "print(res)"
   ]
  },
  {
   "cell_type": "code",
   "execution_count": 54,
   "id": "c763c413-64d8-44d8-8d90-11ede6793604",
   "metadata": {},
   "outputs": [
    {
     "name": "stdout",
     "output_type": "stream",
     "text": [
      "['4', '0', '0']\n"
     ]
    }
   ],
   "source": [
    "print(pattern.findall(\"this is 400 movie ticket\"))\n"
   ]
  },
  {
   "cell_type": "code",
   "execution_count": 67,
   "id": "b06e9bfe-d816-40f9-bc9b-4e82f35974ee",
   "metadata": {},
   "outputs": [
    {
     "name": "stdout",
     "output_type": "stream",
     "text": [
      "['shivam123_2@gmail.com', 'dev@gmail.com', 'shivani.iq@gmail.com', 'aman@gmail.com']\n"
     ]
    }
   ],
   "source": [
    "text=\"\"\"\n",
    "Lorem Ipsum is simply dummy text of the\n",
    "printing and shivam123_2@gmail.com typesetting industry. Lorem \n",
    "Ipsum has been the industry's standard \n",
    "dummy text ever dev@gmail.com since the 1500s, when an\n",
    "unknown printer took shivani.iq@gmail.com a galley of type and \n",
    "scrambled it to make aman@gmail.com a type specimen book. \n",
    "It has survived not only five centuries, \n",
    "\"\"\"\n",
    "res=re.findall(r'[a-zA-Z0-9._]+@[a-zA-Z0-9._%-]+\\.[A-Za-z]{3,}',text)\n",
    "res=re.findall(r'[a-zA-Z0-9._]+@[a-zA-Z0-9._%-]+\\.[A-Za-z]{3,}',text)\n",
    "\n",
    "print(res)"
   ]
  }
 ],
 "metadata": {
  "kernelspec": {
   "display_name": "Python 3 (ipykernel)",
   "language": "python",
   "name": "python3"
  },
  "language_info": {
   "codemirror_mode": {
    "name": "ipython",
    "version": 3
   },
   "file_extension": ".py",
   "mimetype": "text/x-python",
   "name": "python",
   "nbconvert_exporter": "python",
   "pygments_lexer": "ipython3",
   "version": "3.13.5"
  }
 },
 "nbformat": 4,
 "nbformat_minor": 5
}
