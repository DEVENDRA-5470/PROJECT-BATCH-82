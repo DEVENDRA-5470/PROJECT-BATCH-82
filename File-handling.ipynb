{
 "cells": [
  {
   "cell_type": "code",
   "execution_count": null,
   "id": "e06dbba6-b1cd-4cf3-abdf-cc39cf658455",
   "metadata": {},
   "outputs": [],
   "source": [
    "# What is file.\n",
    "# file is collection of data which can be store on local divice or on server.\n",
    "\n",
    "# Types of file\n",
    "# Text file.(text)\n",
    "# Binary (media)\n",
    "\n",
    "# Path\n",
    "# Relative (current working dir)\n",
    "# absolute(root dir)\n",
    "\n",
    "# method and techniques to work with file.\n",
    "# open('file_name',\"mode\",optional) : to open read and write the file.\n",
    "# modes:\n",
    "x : strict for creating file.\n",
    "w : create and write to file\n",
    "r : read to file\n",
    "a : append or update to file\n",
    "w+ : read and write\n",
    "r+ : read and write\n",
    "a+ : update and read\n",
    "\n",
    "# write() : use to write string data in file.\n",
    "# writelines() : use to write collection(list,tuple,set) data in file\n",
    "# read() \n",
    "# readlines()\n",
    "# seek() : use to point the cursor.\n",
    "# close() : use to close file.\n",
    "# context manager : use to automatically close file without any buffer."
   ]
  },
  {
   "cell_type": "code",
   "execution_count": 3,
   "id": "7ab6afbe-d8f3-4599-a4c1-11a8173dd003",
   "metadata": {},
   "outputs": [
    {
     "ename": "FileExistsError",
     "evalue": "[Errno 17] File exists: 'demo.txt'",
     "output_type": "error",
     "traceback": [
      "\u001b[1;31m---------------------------------------------------------------------------\u001b[0m",
      "\u001b[1;31mFileExistsError\u001b[0m                           Traceback (most recent call last)",
      "Cell \u001b[1;32mIn[3], line 2\u001b[0m\n\u001b[0;32m      1\u001b[0m \u001b[38;5;66;03m# create a file in strict mode(x).\u001b[39;00m\n\u001b[1;32m----> 2\u001b[0m file\u001b[38;5;241m=\u001b[39m\u001b[38;5;28;43mopen\u001b[39;49m\u001b[43m(\u001b[49m\u001b[38;5;124;43m\"\u001b[39;49m\u001b[38;5;124;43mdemo.txt\u001b[39;49m\u001b[38;5;124;43m\"\u001b[39;49m\u001b[43m,\u001b[49m\u001b[38;5;124;43m'\u001b[39;49m\u001b[38;5;124;43mx\u001b[39;49m\u001b[38;5;124;43m'\u001b[39;49m\u001b[43m)\u001b[49m\n\u001b[0;32m      3\u001b[0m \u001b[38;5;28mprint\u001b[39m(\u001b[38;5;124m\"\u001b[39m\u001b[38;5;124mFile created..\u001b[39m\u001b[38;5;124m\"\u001b[39m)\n",
      "File \u001b[1;32m~\\AppData\\Local\\Programs\\Python\\Python313\\Lib\\site-packages\\IPython\\core\\interactiveshell.py:324\u001b[0m, in \u001b[0;36m_modified_open\u001b[1;34m(file, *args, **kwargs)\u001b[0m\n\u001b[0;32m    317\u001b[0m \u001b[38;5;28;01mif\u001b[39;00m file \u001b[38;5;129;01min\u001b[39;00m {\u001b[38;5;241m0\u001b[39m, \u001b[38;5;241m1\u001b[39m, \u001b[38;5;241m2\u001b[39m}:\n\u001b[0;32m    318\u001b[0m     \u001b[38;5;28;01mraise\u001b[39;00m \u001b[38;5;167;01mValueError\u001b[39;00m(\n\u001b[0;32m    319\u001b[0m         \u001b[38;5;124mf\u001b[39m\u001b[38;5;124m\"\u001b[39m\u001b[38;5;124mIPython won\u001b[39m\u001b[38;5;124m'\u001b[39m\u001b[38;5;124mt let you open fd=\u001b[39m\u001b[38;5;132;01m{\u001b[39;00mfile\u001b[38;5;132;01m}\u001b[39;00m\u001b[38;5;124m by default \u001b[39m\u001b[38;5;124m\"\u001b[39m\n\u001b[0;32m    320\u001b[0m         \u001b[38;5;124m\"\u001b[39m\u001b[38;5;124mas it is likely to crash IPython. If you know what you are doing, \u001b[39m\u001b[38;5;124m\"\u001b[39m\n\u001b[0;32m    321\u001b[0m         \u001b[38;5;124m\"\u001b[39m\u001b[38;5;124myou can use builtins\u001b[39m\u001b[38;5;124m'\u001b[39m\u001b[38;5;124m open.\u001b[39m\u001b[38;5;124m\"\u001b[39m\n\u001b[0;32m    322\u001b[0m     )\n\u001b[1;32m--> 324\u001b[0m \u001b[38;5;28;01mreturn\u001b[39;00m \u001b[43mio_open\u001b[49m\u001b[43m(\u001b[49m\u001b[43mfile\u001b[49m\u001b[43m,\u001b[49m\u001b[43m \u001b[49m\u001b[38;5;241;43m*\u001b[39;49m\u001b[43margs\u001b[49m\u001b[43m,\u001b[49m\u001b[43m \u001b[49m\u001b[38;5;241;43m*\u001b[39;49m\u001b[38;5;241;43m*\u001b[39;49m\u001b[43mkwargs\u001b[49m\u001b[43m)\u001b[49m\n",
      "\u001b[1;31mFileExistsError\u001b[0m: [Errno 17] File exists: 'demo.txt'"
     ]
    }
   ],
   "source": [
    "# create a file in strict mode(x).\n",
    "file=open(\"demo.txt\",'x')\n",
    "print(\"File created..\")"
   ]
  },
  {
   "cell_type": "code",
   "execution_count": 8,
   "id": "f6ee75f1-b4cf-48ef-9889-b536adcc04b8",
   "metadata": {},
   "outputs": [
    {
     "name": "stdout",
     "output_type": "stream",
     "text": [
      "File created..\n"
     ]
    }
   ],
   "source": [
    "# create a file in write mode(w).\n",
    "file=open(\"demo.txt\",'w')\n",
    "file.write(\"this is my demo on file handiling\")\n",
    "file.close()\n",
    "print(\"File created..\")"
   ]
  },
  {
   "cell_type": "code",
   "execution_count": 15,
   "id": "3965eb37-3160-4b7e-a005-ca417187c334",
   "metadata": {},
   "outputs": [
    {
     "name": "stdout",
     "output_type": "stream",
     "text": [
      "File added done \n"
     ]
    }
   ],
   "source": [
    "try:\n",
    "    with open(\"demo.txt\",\"w\") as file:\n",
    "        file.write(\"This is new file by using contex manager\")\n",
    "        print(\"File added done \")\n",
    "except Exception as e:\n",
    "    print(e)"
   ]
  },
  {
   "cell_type": "code",
   "execution_count": 35,
   "id": "d8858093-b4ee-410a-9374-754dd613cf95",
   "metadata": {},
   "outputs": [
    {
     "name": "stdout",
     "output_type": "stream",
     "text": [
      "File added done \n"
     ]
    }
   ],
   "source": [
    "api=765\n",
    "try:\n",
    "    with open(\"demo.txt\",\"w\") as file:\n",
    "        file.write(str(api))\n",
    "        print(\"File added done \")\n",
    "except Exception as e:\n",
    "    print(e)\n"
   ]
  },
  {
   "cell_type": "code",
   "execution_count": 27,
   "id": "cacc19e2-0675-4a89-8cdb-4693c8135691",
   "metadata": {},
   "outputs": [
    {
     "name": "stdout",
     "output_type": "stream",
     "text": [
      "this is data from api\n"
     ]
    }
   ],
   "source": [
    "try:\n",
    "    with open(\"demo.txt\",\"r\") as file:\n",
    "        r=file.read()\n",
    "        print(r)\n",
    "except Exception as e:\n",
    "    print(e)\n"
   ]
  },
  {
   "cell_type": "code",
   "execution_count": 33,
   "id": "c507b038-dfb0-43d0-859c-b1055e31710f",
   "metadata": {},
   "outputs": [
    {
     "name": "stdout",
     "output_type": "stream",
     "text": [
      "this is data from api\n"
     ]
    }
   ],
   "source": [
    "api=\"this is data from api\"\n",
    "try:\n",
    "    with open(\"demo.txt\",\"w+\") as file:\n",
    "        file.write(api)\n",
    "        file.seek(0)\n",
    "        r=file.read()\n",
    "        print(r)\n",
    "except Exception as e:\n",
    "    print(e)"
   ]
  },
  {
   "cell_type": "code",
   "execution_count": 44,
   "id": "83f8884a-a7da-4bd9-97ae-5cfcc04b3f8f",
   "metadata": {},
   "outputs": [],
   "source": [
    "# for i in range(3):\n",
    "#     with open(\"dev.txt\",\"a\") as f:\n",
    "#         f.write(f\"Name: {input(\"Enter Your name :\")\\n}\")\n",
    "#         f.write(f\"Age :{input(\"Enter Your age : \")\\n}\")\n",
    "#         f.write(f\"Address :{input(\"Enter Your address : \")\\n}\")\n",
    "#         f.write(\"-\"*20)\n",
    "# print(\"Data added..\")\n",
    "    \n"
   ]
  },
  {
   "cell_type": "code",
   "execution_count": 2,
   "id": "98572898-73d4-48db-ae15-5794828d6790",
   "metadata": {},
   "outputs": [
    {
     "name": "stdout",
     "output_type": "stream",
     "text": [
      "Total char in test.txt is : 580\n"
     ]
    }
   ],
   "source": [
    "text=\"\"\"\n",
    "Lorem Ipsum is simply dummy text of the printing and typesetting industry.\n",
    "Lorem Ipsum has been the industry's standard dummy text ever since the 1500s,\n",
    "when an unknown printer took a galley of type and scrambled it to make a type \n",
    "specimen book. It has survived not only five centuries, but also the leap into\n",
    "electronic typesetting, remaining essentially unchanged. It was popularised in \n",
    "the 1960s with the release of Letraset\n",
    "sheets containing Lorem Ipsum passages, \n",
    "and more recently with desktop publishing software \n",
    "like Aldus PageMaker including versions of Lorem Ipsum.\n",
    "\"\"\"\n",
    "\n",
    "# 1.Wap to save text into test.txt and read with Count total char.\n",
    "# Total char in test.txt is : 400.\n",
    "with open(\"test.txt\",\"w+\") as file:\n",
    "    file.write(text)\n",
    "    file.seek(0)\n",
    "    r=file.read()\n",
    "    print(f\"Total char in test.txt is : {len(r)}\")"
   ]
  },
  {
   "cell_type": "code",
   "execution_count": null,
   "id": "2952fe2e-14da-4c7b-9300-71a6e239288b",
   "metadata": {},
   "outputs": [],
   "source": [
    "# What is APIs.\n",
    "# API stand for Application programming interface .\n",
    "# its a way for two software system to talk to each other.\n"
   ]
  },
  {
   "cell_type": "code",
   "execution_count": 13,
   "id": "19b3d975-fa09-47ce-a4cb-3bcd4f7be15c",
   "metadata": {},
   "outputs": [],
   "source": [
    "# import requests \n",
    "# url=\"https://jsonplaceholder.typicode.com/comments\"\n",
    "# response=requests.get(url)\n",
    "# data=response.json()\n",
    "# print(data)"
   ]
  },
  {
   "cell_type": "code",
   "execution_count": 11,
   "id": "5b18eea9-3d39-4ead-8c40-fb15cb47b776",
   "metadata": {},
   "outputs": [
    {
     "name": "stdout",
     "output_type": "stream",
     "text": [
      "Marie-Thérèse\n"
     ]
    }
   ],
   "source": [
    "# import requests \n",
    "# url=\"https://randomuser.me/api/\"\n",
    "# response=requests.get(url)\n",
    "# data=response.json()\n",
    "# print(data['results'][0]['name']['first'])\n",
    "# full name\n",
    "# age\n",
    "# address\n",
    "# birth date\n",
    "# img"
   ]
  },
  {
   "cell_type": "code",
   "execution_count": 17,
   "id": "53e18513-8b97-459f-a01f-f8d022415029",
   "metadata": {},
   "outputs": [
    {
     "name": "stdout",
     "output_type": "stream",
     "text": [
      "laudantium enim quasi est quidem magnam voluptate ipsam eos\n",
      "tempora quo necessitatibus\n",
      "dolor quam autem quasi\n",
      "reiciendis et nam sapiente accusantium\n"
     ]
    }
   ],
   "source": [
    "import requests \n",
    "url=\"https://jsonplaceholder.typicode.com/comments\"\n",
    "response=requests.get(url)\n",
    "data=response.json()\n"
   ]
  }
 ],
 "metadata": {
  "kernelspec": {
   "display_name": "Python 3 (ipykernel)",
   "language": "python",
   "name": "python3"
  },
  "language_info": {
   "codemirror_mode": {
    "name": "ipython",
    "version": 3
   },
   "file_extension": ".py",
   "mimetype": "text/x-python",
   "name": "python",
   "nbconvert_exporter": "python",
   "pygments_lexer": "ipython3",
   "version": "3.13.5"
  }
 },
 "nbformat": 4,
 "nbformat_minor": 5
}
