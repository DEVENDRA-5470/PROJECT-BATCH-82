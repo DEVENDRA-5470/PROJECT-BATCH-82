{
 "cells": [
  {
   "cell_type": "code",
   "execution_count": null,
   "id": "e06dbba6-b1cd-4cf3-abdf-cc39cf658455",
   "metadata": {},
   "outputs": [],
   "source": [
    "# What is file.\n",
    "# file is collection of data which can be store on local divice or on server.\n",
    "\n",
    "# Types of file\n",
    "# Text file.(text)\n",
    "# Binary (media)\n",
    "\n",
    "# Path\n",
    "# Relative (current working dir)\n",
    "# absolute(root dir)\n",
    "\n",
    "# method and techniques to work with file.\n",
    "# open('file_name',\"mode\",optional) : to open read and write the file.\n",
    "# modes:\n",
    "x : strict for creating file.\n",
    "w : create and write to file\n",
    "r : read to file\n",
    "a : append or update to file\n",
    "w+ : read and write\n",
    "r+ : read and write\n",
    "a+ : update and read\n",
    "os.rename()\n",
    "os.remove()\n",
    "os.mkdirs()\n",
    "os.stats()\n",
    "shutil.copy()\n",
    "shutil.copy2()\n",
    "shutil.make_archive()\n",
    "\n",
    "\n",
    "# write() : use to write string data in file.\n",
    "# writelines() : use to write collection(list,tuple,set) data in file\n",
    "# read() \n",
    "# readlines()\n",
    "# seek() : use to point the cursor.\n",
    "# close() : use to close file.\n",
    "# context manager : use to automatically close file without any buffer."
   ]
  },
  {
   "cell_type": "code",
   "execution_count": 3,
   "id": "7ab6afbe-d8f3-4599-a4c1-11a8173dd003",
   "metadata": {},
   "outputs": [
    {
     "ename": "FileExistsError",
     "evalue": "[Errno 17] File exists: 'demo.txt'",
     "output_type": "error",
     "traceback": [
      "\u001b[1;31m---------------------------------------------------------------------------\u001b[0m",
      "\u001b[1;31mFileExistsError\u001b[0m                           Traceback (most recent call last)",
      "Cell \u001b[1;32mIn[3], line 2\u001b[0m\n\u001b[0;32m      1\u001b[0m \u001b[38;5;66;03m# create a file in strict mode(x).\u001b[39;00m\n\u001b[1;32m----> 2\u001b[0m file\u001b[38;5;241m=\u001b[39m\u001b[38;5;28;43mopen\u001b[39;49m\u001b[43m(\u001b[49m\u001b[38;5;124;43m\"\u001b[39;49m\u001b[38;5;124;43mdemo.txt\u001b[39;49m\u001b[38;5;124;43m\"\u001b[39;49m\u001b[43m,\u001b[49m\u001b[38;5;124;43m'\u001b[39;49m\u001b[38;5;124;43mx\u001b[39;49m\u001b[38;5;124;43m'\u001b[39;49m\u001b[43m)\u001b[49m\n\u001b[0;32m      3\u001b[0m \u001b[38;5;28mprint\u001b[39m(\u001b[38;5;124m\"\u001b[39m\u001b[38;5;124mFile created..\u001b[39m\u001b[38;5;124m\"\u001b[39m)\n",
      "File \u001b[1;32m~\\AppData\\Local\\Programs\\Python\\Python313\\Lib\\site-packages\\IPython\\core\\interactiveshell.py:324\u001b[0m, in \u001b[0;36m_modified_open\u001b[1;34m(file, *args, **kwargs)\u001b[0m\n\u001b[0;32m    317\u001b[0m \u001b[38;5;28;01mif\u001b[39;00m file \u001b[38;5;129;01min\u001b[39;00m {\u001b[38;5;241m0\u001b[39m, \u001b[38;5;241m1\u001b[39m, \u001b[38;5;241m2\u001b[39m}:\n\u001b[0;32m    318\u001b[0m     \u001b[38;5;28;01mraise\u001b[39;00m \u001b[38;5;167;01mValueError\u001b[39;00m(\n\u001b[0;32m    319\u001b[0m         \u001b[38;5;124mf\u001b[39m\u001b[38;5;124m\"\u001b[39m\u001b[38;5;124mIPython won\u001b[39m\u001b[38;5;124m'\u001b[39m\u001b[38;5;124mt let you open fd=\u001b[39m\u001b[38;5;132;01m{\u001b[39;00mfile\u001b[38;5;132;01m}\u001b[39;00m\u001b[38;5;124m by default \u001b[39m\u001b[38;5;124m\"\u001b[39m\n\u001b[0;32m    320\u001b[0m         \u001b[38;5;124m\"\u001b[39m\u001b[38;5;124mas it is likely to crash IPython. If you know what you are doing, \u001b[39m\u001b[38;5;124m\"\u001b[39m\n\u001b[0;32m    321\u001b[0m         \u001b[38;5;124m\"\u001b[39m\u001b[38;5;124myou can use builtins\u001b[39m\u001b[38;5;124m'\u001b[39m\u001b[38;5;124m open.\u001b[39m\u001b[38;5;124m\"\u001b[39m\n\u001b[0;32m    322\u001b[0m     )\n\u001b[1;32m--> 324\u001b[0m \u001b[38;5;28;01mreturn\u001b[39;00m \u001b[43mio_open\u001b[49m\u001b[43m(\u001b[49m\u001b[43mfile\u001b[49m\u001b[43m,\u001b[49m\u001b[43m \u001b[49m\u001b[38;5;241;43m*\u001b[39;49m\u001b[43margs\u001b[49m\u001b[43m,\u001b[49m\u001b[43m \u001b[49m\u001b[38;5;241;43m*\u001b[39;49m\u001b[38;5;241;43m*\u001b[39;49m\u001b[43mkwargs\u001b[49m\u001b[43m)\u001b[49m\n",
      "\u001b[1;31mFileExistsError\u001b[0m: [Errno 17] File exists: 'demo.txt'"
     ]
    }
   ],
   "source": [
    "# create a file in strict mode(x).\n",
    "file=open(\"demo.txt\",'x')\n",
    "print(\"File created..\")"
   ]
  },
  {
   "cell_type": "code",
   "execution_count": 8,
   "id": "f6ee75f1-b4cf-48ef-9889-b536adcc04b8",
   "metadata": {},
   "outputs": [
    {
     "name": "stdout",
     "output_type": "stream",
     "text": [
      "File created..\n"
     ]
    }
   ],
   "source": [
    "# create a file in write mode(w).\n",
    "file=open(\"demo.txt\",'w')\n",
    "file.write(\"this is my demo on file handiling\")\n",
    "file.close()\n",
    "print(\"File created..\")"
   ]
  },
  {
   "cell_type": "code",
   "execution_count": 15,
   "id": "3965eb37-3160-4b7e-a005-ca417187c334",
   "metadata": {},
   "outputs": [
    {
     "name": "stdout",
     "output_type": "stream",
     "text": [
      "File added done \n"
     ]
    }
   ],
   "source": [
    "try:\n",
    "    with open(\"demo.txt\",\"w\") as file:\n",
    "        file.write(\"This is new file by using contex manager\")\n",
    "        print(\"File added done \")\n",
    "except Exception as e:\n",
    "    print(e)"
   ]
  },
  {
   "cell_type": "code",
   "execution_count": 35,
   "id": "d8858093-b4ee-410a-9374-754dd613cf95",
   "metadata": {},
   "outputs": [
    {
     "name": "stdout",
     "output_type": "stream",
     "text": [
      "File added done \n"
     ]
    }
   ],
   "source": [
    "api=765\n",
    "try:\n",
    "    with open(\"demo.txt\",\"w\") as file:\n",
    "        file.write(str(api))\n",
    "        print(\"File added done \")\n",
    "except Exception as e:\n",
    "    print(e)\n"
   ]
  },
  {
   "cell_type": "code",
   "execution_count": 27,
   "id": "cacc19e2-0675-4a89-8cdb-4693c8135691",
   "metadata": {},
   "outputs": [
    {
     "name": "stdout",
     "output_type": "stream",
     "text": [
      "this is data from api\n"
     ]
    }
   ],
   "source": [
    "try:\n",
    "    with open(\"demo.txt\",\"r\") as file:\n",
    "        r=file.read()\n",
    "        print(r)\n",
    "except Exception as e:\n",
    "    print(e)\n"
   ]
  },
  {
   "cell_type": "code",
   "execution_count": 33,
   "id": "c507b038-dfb0-43d0-859c-b1055e31710f",
   "metadata": {},
   "outputs": [
    {
     "name": "stdout",
     "output_type": "stream",
     "text": [
      "this is data from api\n"
     ]
    }
   ],
   "source": [
    "api=\"this is data from api\"\n",
    "try:\n",
    "    with open(\"demo.txt\",\"w+\") as file:\n",
    "        file.write(api)\n",
    "        file.seek(0)\n",
    "        r=file.read()\n",
    "        print(r)\n",
    "except Exception as e:\n",
    "    print(e)"
   ]
  },
  {
   "cell_type": "code",
   "execution_count": 33,
   "id": "83f8884a-a7da-4bd9-97ae-5cfcc04b3f8f",
   "metadata": {},
   "outputs": [
    {
     "name": "stdin",
     "output_type": "stream",
     "text": [
      "Enter Your name : dev\n",
      "Enter Your age :  34\n",
      "Enter Your address :  noida\n",
      "Enter Your name : d\n",
      "Enter Your age :  d\n",
      "Enter Your address :  \n",
      "Enter Your name : d\n",
      "Enter Your age :  d\n",
      "Enter Your address :  d\n"
     ]
    },
    {
     "name": "stdout",
     "output_type": "stream",
     "text": [
      "Data added..\n"
     ]
    }
   ],
   "source": [
    "for i in range(3):\n",
    "    with open(\"dev.txt\",\"a\") as f:\n",
    "        f.write(f\"Name: {input(\"Enter Your name :\")}\")\n",
    "        f.write(f\"Age :{input(\"Enter Your age : \")}\")\n",
    "        f.write(f\"Address :{input(\"Enter Your address : \")}\")\n",
    "        f.write(\"-\"*20)\n",
    "print(\"Data added..\")\n",
    "    \n"
   ]
  },
  {
   "cell_type": "code",
   "execution_count": null,
   "id": "3c90e500-d01a-461d-b571-63abe403d800",
   "metadata": {},
   "outputs": [],
   "source": [
    "name=input()\n",
    "name=input()\n",
    "name=input()"
   ]
  },
  {
   "cell_type": "code",
   "execution_count": 2,
   "id": "98572898-73d4-48db-ae15-5794828d6790",
   "metadata": {},
   "outputs": [
    {
     "name": "stdout",
     "output_type": "stream",
     "text": [
      "Total char in test.txt is : 580\n"
     ]
    }
   ],
   "source": [
    "text=\"\"\"\n",
    "Lorem Ipsum is simply dummy text of the printing and typesetting industry.\n",
    "Lorem Ipsum has been the industry's standard dummy text ever since the 1500s,\n",
    "when an unknown printer took a galley of type and scrambled it to make a type \n",
    "specimen book. It has survived not only five centuries, but also the leap into\n",
    "electronic typesetting, remaining essentially unchanged. It was popularised in \n",
    "the 1960s with the release of Letraset\n",
    "sheets containing Lorem Ipsum passages, \n",
    "and more recently with desktop publishing software \n",
    "like Aldus PageMaker including versions of Lorem Ipsum.\n",
    "\"\"\"\n",
    "\n",
    "# 1.Wap to save text into test.txt and read with Count total char.\n",
    "# Total char in test.txt is : 400.\n",
    "# Total count upper : 50\n",
    "# Total count lower : 80\n",
    "# Filter only upper letter : SDHFJDKF\n",
    "# Filter only lower letter : sfsdjhfksjdfsd.\n",
    "# File read reverse mode.\n",
    "\n",
    "with open(\"test.txt\",\"w+\") as file:\n",
    "    file.write(text)\n",
    "    file.seek(0)\n",
    "    r=file.read()\n",
    "    print(f\"Total char in test.txt is : {len(r)}\")"
   ]
  },
  {
   "cell_type": "code",
   "execution_count": null,
   "id": "2952fe2e-14da-4c7b-9300-71a6e239288b",
   "metadata": {},
   "outputs": [],
   "source": [
    "# What is APIs.\n",
    "# API stand for Application programming interface .\n",
    "# its a way for two software system to talk to each other.\n"
   ]
  },
  {
   "cell_type": "code",
   "execution_count": 13,
   "id": "19b3d975-fa09-47ce-a4cb-3bcd4f7be15c",
   "metadata": {},
   "outputs": [],
   "source": [
    "# import requests \n",
    "# url=\"https://jsonplaceholder.typicode.com/comments\"\n",
    "# response=requests.get(url)\n",
    "# data=response.json()\n",
    "# print(data)"
   ]
  },
  {
   "cell_type": "code",
   "execution_count": 11,
   "id": "5b18eea9-3d39-4ead-8c40-fb15cb47b776",
   "metadata": {},
   "outputs": [
    {
     "name": "stdout",
     "output_type": "stream",
     "text": [
      "Marie-Thérèse\n"
     ]
    }
   ],
   "source": [
    "# import requests \n",
    "# url=\"https://randomuser.me/api/\"\n",
    "# response=requests.get(url)\n",
    "# data=response.json()\n",
    "# print(data['results'][0]['name']['first'])\n",
    "# full name\n",
    "# age\n",
    "# address\n",
    "# birth date\n",
    "# img"
   ]
  },
  {
   "cell_type": "code",
   "execution_count": 45,
   "id": "53e18513-8b97-459f-a01f-f8d022415029",
   "metadata": {},
   "outputs": [],
   "source": [
    "import requests \n",
    "url=\"https://jsonplaceholder.typicode.com/comments\"\n",
    "response=requests.get(url)\n",
    "data=response.json()\n",
    "\n",
    "body=[item['body'] for item in data]\n",
    "\n",
    "with open(\"comment.txt\",\"w\") as file:\n",
    "    c=0\n",
    "    for b in body:\n",
    "        c+=1\n",
    "        file.write(f\"Comment :{c} \\n {b} \\n ------- \\n\")\n",
    "            "
   ]
  },
  {
   "cell_type": "code",
   "execution_count": 42,
   "id": "a58d7933-8b2a-4473-a378-5efb6fd18a9d",
   "metadata": {},
   "outputs": [],
   "source": [
    "f=open(\"test1.txt\",\"w\")\n",
    "f.write(\"Hello\")\n",
    "f.write(\"good bye\")\n",
    "f.close()"
   ]
  },
  {
   "cell_type": "code",
   "execution_count": 39,
   "id": "a5ad893d-787e-4e58-8a81-4f22b19bb079",
   "metadata": {},
   "outputs": [],
   "source": [
    "f=open(\"test1.txt\",\"w\")\n",
    "f.write(\"bye\")\n",
    "f.close()"
   ]
  },
  {
   "cell_type": "code",
   "execution_count": 43,
   "id": "f894c820-0604-4976-82c7-ca7fb54b04e0",
   "metadata": {},
   "outputs": [],
   "source": [
    "f=open(\"test1.txt\",\"a\")\n",
    "f.write(\"how are you\")\n",
    "f.close()"
   ]
  },
  {
   "cell_type": "code",
   "execution_count": 47,
   "id": "8241da72-367f-46cb-9b21-2d57aaaf4bff",
   "metadata": {},
   "outputs": [],
   "source": [
    "import os\n",
    "os.rename(\"test1.txt\",\"good.txt\")"
   ]
  },
  {
   "cell_type": "code",
   "execution_count": 72,
   "id": "523ba49d-fc43-4543-a588-aa8e44afdc8f",
   "metadata": {},
   "outputs": [
    {
     "ename": "FileNotFoundError",
     "evalue": "[WinError 2] The system cannot find the file specified: 'comment.txt' -> 'insta_comment.txt'",
     "output_type": "error",
     "traceback": [
      "\u001b[1;31m---------------------------------------------------------------------------\u001b[0m",
      "\u001b[1;31mFileNotFoundError\u001b[0m                         Traceback (most recent call last)",
      "Cell \u001b[1;32mIn[72], line 2\u001b[0m\n\u001b[0;32m      1\u001b[0m \u001b[38;5;28;01mimport\u001b[39;00m \u001b[38;5;21;01mos\u001b[39;00m\n\u001b[1;32m----> 2\u001b[0m \u001b[43mos\u001b[49m\u001b[38;5;241;43m.\u001b[39;49m\u001b[43mrename\u001b[49m\u001b[43m(\u001b[49m\u001b[38;5;124;43m\"\u001b[39;49m\u001b[38;5;124;43mcomment.txt\u001b[39;49m\u001b[38;5;124;43m\"\u001b[39;49m\u001b[43m,\u001b[49m\u001b[38;5;124;43m\"\u001b[39;49m\u001b[38;5;124;43minsta_comment.txt\u001b[39;49m\u001b[38;5;124;43m\"\u001b[39;49m\u001b[43m)\u001b[49m\n",
      "\u001b[1;31mFileNotFoundError\u001b[0m: [WinError 2] The system cannot find the file specified: 'comment.txt' -> 'insta_comment.txt'"
     ]
    }
   ],
   "source": [
    "import os\n",
    "# os.rename(\"comment.txt\",\"insta_comment.txt\")"
   ]
  },
  {
   "cell_type": "code",
   "execution_count": 53,
   "id": "ab6e267f-d85b-4d02-9097-bbfe0a8ce4e2",
   "metadata": {},
   "outputs": [],
   "source": [
    "# os.remove(\"data.txt\")"
   ]
  },
  {
   "cell_type": "code",
   "execution_count": null,
   "id": "4bbd9c6c-b51f-4c9d-89da-133a04b2e9d5",
   "metadata": {},
   "outputs": [],
   "source": [
    "# import shutil is used to perform high-level file operarion."
   ]
  },
  {
   "cell_type": "code",
   "execution_count": 55,
   "id": "cff71ae2-1753-4a45-8dc3-461cad5f04a9",
   "metadata": {},
   "outputs": [
    {
     "data": {
      "text/plain": [
       "'dev.txt'"
      ]
     },
     "execution_count": 55,
     "metadata": {},
     "output_type": "execute_result"
    }
   ],
   "source": [
    "import shutil\n",
    "# copy() for data\n",
    "shutil.copy(\"good.txt\",\"dev.txt\")"
   ]
  },
  {
   "cell_type": "code",
   "execution_count": 56,
   "id": "9f080c0f-e727-44cc-930e-9d6ed603033c",
   "metadata": {},
   "outputs": [
    {
     "data": {
      "text/plain": [
       "'dev.txt'"
      ]
     },
     "execution_count": 56,
     "metadata": {},
     "output_type": "execute_result"
    }
   ],
   "source": [
    "import shutil\n",
    "# copy2() for data and metadata\n",
    "shutil.copy2(\"good.txt\",\"dev.txt\")"
   ]
  },
  {
   "cell_type": "code",
   "execution_count": 68,
   "id": "dd113a88-defd-462f-814a-264afc3a4e01",
   "metadata": {},
   "outputs": [
    {
     "name": "stdout",
     "output_type": "stream",
     "text": [
      "47 bytes\n",
      "1757652775.2117312 Last modified\n",
      "1757652779.7416203 Last Accessed\n",
      "1757650464.7918704 Created at\n"
     ]
    }
   ],
   "source": [
    "stat=os.stat(\"dev.txt\")\n",
    "print(stat.st_size , \"bytes\")\n",
    "print(stat.st_mtime,\"Last modified\")\n",
    "print(stat.st_atime,\"Last Accessed\")\n",
    "print(stat.st_ctime,\"Created at\")"
   ]
  },
  {
   "cell_type": "code",
   "execution_count": 80,
   "id": "680812cd-1137-4f13-b2d3-5b5a3d87b38a",
   "metadata": {},
   "outputs": [
    {
     "data": {
      "text/plain": [
       "'C:\\\\Users\\\\dev\\\\BATCH-82-2025\\\\Backup-82.zip'"
      ]
     },
     "execution_count": 80,
     "metadata": {},
     "output_type": "execute_result"
    }
   ],
   "source": [
    "shutil.make_archive(\"Backup-82\",'zip','C:\\\\Users\\\\dev\\\\BATCH-82-2025')"
   ]
  },
  {
   "cell_type": "code",
   "execution_count": 75,
   "id": "a1e35161-739b-45b7-a8b4-a90b4a09faff",
   "metadata": {},
   "outputs": [
    {
     "data": {
      "text/plain": [
       "'C:\\\\Users\\\\dev\\\\BATCH-82-2025'"
      ]
     },
     "execution_count": 75,
     "metadata": {},
     "output_type": "execute_result"
    }
   ],
   "source": [
    "shutil.unpack_archive(\"Backup-82\",'zip','C:\\\\Users\\\\dev\\\\BATCH-82-2025')"
   ]
  },
  {
   "cell_type": "code",
   "execution_count": 88,
   "id": "a67dcdb6-53cd-480c-a243-ebb2146d9db5",
   "metadata": {},
   "outputs": [
    {
     "name": "stdout",
     "output_type": "stream",
     "text": [
      "510744588288\n",
      "177802907648\n"
     ]
    }
   ],
   "source": [
    "usage=shutil.disk_usage(\"/\")\n",
    "print(usage.total)\n",
    "print(usage.free)\n"
   ]
  },
  {
   "cell_type": "code",
   "execution_count": 109,
   "id": "727b4cac-ce66-4426-9d10-66f596d65fd1",
   "metadata": {},
   "outputs": [
    {
     "name": "stdout",
     "output_type": "stream",
     "text": [
      "Folder created...\n"
     ]
    }
   ],
   "source": [
    "import os\n",
    "path=r\"C:/Users/dev/Downloads/this_is_demo\"\n",
    "if os.path.exists(path):\n",
    "    print(\"yes\")\n",
    "else:\n",
    "    os.makedirs(path)\n",
    "    print(\"Folder created...\")"
   ]
  },
  {
   "cell_type": "code",
   "execution_count": 8,
   "id": "76c06e63-619e-4bfc-b2d2-fa6fbdb6ab84",
   "metadata": {},
   "outputs": [],
   "source": [
    "# print(os.path.exists(path))\n",
    "import os \n",
    "os.makedirs(\"first_folder\")\n",
    "# os.mkdir(\"second_folder\")"
   ]
  },
  {
   "cell_type": "code",
   "execution_count": 7,
   "id": "ec034468-9a21-4b10-a3e9-56624553f487",
   "metadata": {},
   "outputs": [
    {
     "name": "stdout",
     "output_type": "stream",
     "text": [
      "Moved..\n"
     ]
    }
   ],
   "source": [
    "import shutil\n",
    "try:\n",
    "    shutil.move(\"first_folder\",\"second_folder\")\n",
    "    print(\"Moved..\")\n",
    "except Exception as e:\n",
    "    print(e)\n",
    "    "
   ]
  },
  {
   "cell_type": "code",
   "execution_count": 6,
   "id": "a9940b32-c48c-4773-8555-c7825154cffa",
   "metadata": {},
   "outputs": [
    {
     "name": "stdout",
     "output_type": "stream",
     "text": [
      "C:\\Users\\dev\\BATCH-82-2025\n"
     ]
    }
   ],
   "source": [
    "print(os.getcwd())"
   ]
  },
  {
   "cell_type": "code",
   "execution_count": 11,
   "id": "e4e40e34-9e55-489a-b4d8-0a2ef7812e30",
   "metadata": {},
   "outputs": [
    {
     "name": "stdout",
     "output_type": "stream",
     "text": [
      "Copied..\n"
     ]
    }
   ],
   "source": [
    "import shutil\n",
    "try:\n",
    "    shutil.copytree(\"first_folder\",\"third_folder\")\n",
    "    print(\"Copied..\")\n",
    "except Exception as e:\n",
    "    print(e)"
   ]
  },
  {
   "cell_type": "code",
   "execution_count": 12,
   "id": "8f62c090-f0f3-43dc-85fa-7cd767a3cc34",
   "metadata": {},
   "outputs": [
    {
     "name": "stdout",
     "output_type": "stream",
     "text": [
      "Moved..\n"
     ]
    }
   ],
   "source": [
    "import shutil\n",
    "try:\n",
    "    shutil.move(\"first_folder\",\"fourth_folder\")\n",
    "    print(\"Moved..\")\n",
    "except Exception as e:\n",
    "    print(e)"
   ]
  },
  {
   "cell_type": "code",
   "execution_count": 15,
   "id": "2bcfff19-ab1d-4ca7-bbc3-e11cb6bc3e7d",
   "metadata": {},
   "outputs": [],
   "source": [
    "# os.listdir()"
   ]
  },
  {
   "cell_type": "code",
   "execution_count": 21,
   "id": "2ff6c3d5-fe52-4e14-869d-84e69a83d2be",
   "metadata": {},
   "outputs": [
    {
     "name": "stdout",
     "output_type": "stream",
     "text": [
      "Success\n"
     ]
    }
   ],
   "source": [
    "try:\n",
    "    with open(\"src.txt\",\"rb\") as src,open(\"dest.txt\",\"wb\") as dest:\n",
    "        shutil.copyfileobj(src,dest)\n",
    "        print(\"Success\")\n",
    "except Exception as e:\n",
    "    print(e)"
   ]
  },
  {
   "cell_type": "code",
   "execution_count": 20,
   "id": "49770d23-69a4-45d1-8672-7cb9f3d36895",
   "metadata": {},
   "outputs": [
    {
     "name": "stdout",
     "output_type": "stream",
     "text": [
      "Success\n"
     ]
    }
   ],
   "source": [
    "try:\n",
    "    with open(\"src.txt\",\"rb\") as src,open(\"dest.txt\",\"wb\") as dest:\n",
    "        shutil.copyfileobj(src,dest)\n",
    "        print(\"Success\")\n",
    "except Exception as e:\n",
    "    print(e)"
   ]
  },
  {
   "cell_type": "code",
   "execution_count": 23,
   "id": "affee19a-6b2e-4ff9-b8d5-01e5b8a7149e",
   "metadata": {},
   "outputs": [
    {
     "name": "stdout",
     "output_type": "stream",
     "text": [
      "C:\\Users\\dev\n"
     ]
    }
   ],
   "source": [
    "# print(os.path.expanduser(\"C:/Users/dev/Downloads/p\"))"
   ]
  },
  {
   "cell_type": "code",
   "execution_count": 28,
   "id": "0248f02e-dff3-41e5-9b00-d1a3b8a56301",
   "metadata": {},
   "outputs": [],
   "source": [
    "s=os.path.expanduser(\"~/\")"
   ]
  },
  {
   "cell_type": "code",
   "execution_count": 29,
   "id": "acd0722d-1770-49f6-a98f-4ef41e447136",
   "metadata": {},
   "outputs": [],
   "source": [
    "# path=os.path.join(s,\"Downloads\",\"newfile.txt\")\n",
    "# print(path)"
   ]
  },
  {
   "cell_type": "code",
   "execution_count": 32,
   "id": "b219b12d-c067-4ee9-b070-ab34bb5d1b23",
   "metadata": {},
   "outputs": [
    {
     "name": "stdout",
     "output_type": "stream",
     "text": [
      "C:\\Users\\dev\\BATCH-82-2025\\path.txt\n"
     ]
    }
   ],
   "source": [
    "base=os.getcwd()\n",
    "path=\"path.txt\"\n",
    "new_path=os.path.join(base,path)\n",
    "print(new_path)\n",
    "with open(new_path,\"w\") as file:\n",
    "    file.write(\"THIS IS DATA\")"
   ]
  },
  {
   "cell_type": "code",
   "execution_count": 35,
   "id": "af5c9a28-923b-4382-a7ff-985fd0168874",
   "metadata": {},
   "outputs": [],
   "source": [
    "# with open(base+\"\\new.txt\",\"w\") as new:\n",
    "#     new.write(\"i am new\")"
   ]
  }
 ],
 "metadata": {
  "kernelspec": {
   "display_name": "Python 3 (ipykernel)",
   "language": "python",
   "name": "python3"
  },
  "language_info": {
   "codemirror_mode": {
    "name": "ipython",
    "version": 3
   },
   "file_extension": ".py",
   "mimetype": "text/x-python",
   "name": "python",
   "nbconvert_exporter": "python",
   "pygments_lexer": "ipython3",
   "version": "3.13.5"
  }
 },
 "nbformat": 4,
 "nbformat_minor": 5
}
