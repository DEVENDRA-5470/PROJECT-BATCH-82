{
 "cells": [
  {
   "cell_type": "code",
   "execution_count": null,
   "id": "20832c93-734e-47e7-872e-a4f05bb0923a",
   "metadata": {},
   "outputs": [],
   "source": []
  }
 ],
 "metadata": {
  "kernelspec": {
   "display_name": "",
   "name": ""
  },
  "language_info": {
   "name": ""
  }
 },
 "nbformat": 4,
 "nbformat_minor": 5
}
