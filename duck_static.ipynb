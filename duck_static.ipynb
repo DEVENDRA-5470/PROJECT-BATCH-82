{
 "cells": [
  {
   "cell_type": "code",
   "execution_count": 7,
   "id": "18890a7d-d4c3-4f59-928b-d65ec232173a",
   "metadata": {},
   "outputs": [
    {
     "ename": "TypeError",
     "evalue": "Invailid payment method",
     "output_type": "error",
     "traceback": [
      "\u001b[1;31m---------------------------------------------------------------------------\u001b[0m",
      "\u001b[1;31mTypeError\u001b[0m                                 Traceback (most recent call last)",
      "Cell \u001b[1;32mIn[7], line 26\u001b[0m\n\u001b[0;32m     24\u001b[0m cc\u001b[38;5;241m=\u001b[39mCreditcard()\n\u001b[0;32m     25\u001b[0m pp\u001b[38;5;241m=\u001b[39mPaypal()\n\u001b[1;32m---> 26\u001b[0m \u001b[43mprocess_payment\u001b[49m\u001b[43m(\u001b[49m\u001b[43mcc\u001b[49m\u001b[43m)\u001b[49m\n\u001b[0;32m     27\u001b[0m process_payment(pp,\u001b[38;5;241m400\u001b[39m)\n",
      "Cell \u001b[1;32mIn[7], line 21\u001b[0m, in \u001b[0;36mprocess_payment\u001b[1;34m(payment_method)\u001b[0m\n\u001b[0;32m     19\u001b[0m \u001b[38;5;28;01mdef\u001b[39;00m \u001b[38;5;21mprocess_payment\u001b[39m(payment_method):\n\u001b[0;32m     20\u001b[0m     \u001b[38;5;28;01mif\u001b[39;00m \u001b[38;5;28misinstance\u001b[39m(payment_method,(Creditcard)):\n\u001b[1;32m---> 21\u001b[0m         \u001b[38;5;28;01mraise\u001b[39;00m \u001b[38;5;167;01mTypeError\u001b[39;00m(\u001b[38;5;124m\"\u001b[39m\u001b[38;5;124mInvailid payment method\u001b[39m\u001b[38;5;124m\"\u001b[39m)\n\u001b[0;32m     22\u001b[0m     payment_method\u001b[38;5;241m.\u001b[39mcheck_amount()\n",
      "\u001b[1;31mTypeError\u001b[0m: Invailid payment method"
     ]
    }
   ],
   "source": [
    "# Duck typing in python objects are judged by their behaviour, not their type.\n",
    "# Static typing in python objects are judged by their declared type, not just by behaviour.\n",
    "\n",
    "# def add(a:int,b:int) -> int:\n",
    "#     return a+b\n",
    "# print(add(10,20))\n",
    "\n",
    "class Creditcard():\n",
    "    def pay(self,amount):\n",
    "        print(F\"Paid :{amount} using Credit card\")\n",
    "\n",
    "    def check_amount(self):\n",
    "        print(\"Checking amount\")\n",
    "\n",
    "class Paypal():\n",
    "    def pay(self,amount):\n",
    "        print(F\"Paid :{amount} using paypal\")\n",
    "\n",
    "def process_payment(payment_method,amount):\n",
    "    if isinstance(payment_method,(Creditcard)):\n",
    "        raise TypeError(\"Invailid payment method\")\n",
    "    payment_method.pay(amount)\n",
    "\n",
    "def check_amount(payment_method,amount):\n",
    "    if isinstance(payment_method,(Creditcard)):\n",
    "        raise TypeError(\"Invailid payment method\")\n",
    "    payment_method.pay(amount)\n",
    "\n",
    "cc=Creditcard()\n",
    "pp=Paypal()\n",
    "process_payment(cc,700)\n",
    "process_payment(pp,400)\n",
    "\n"
   ]
  },
  {
   "cell_type": "code",
   "execution_count": 2,
   "id": "535fd0e6-b9c8-413a-b709-96888929c045",
   "metadata": {},
   "outputs": [
    {
     "name": "stdout",
     "output_type": "stream",
     "text": [
      "Paid :100 using Credit card\n",
      "Paid :3000 using paypal\n"
     ]
    }
   ],
   "source": [
    "class Creditcard():\n",
    "    def pay(self,amount):\n",
    "        print(F\"Paid :{amount} using Credit card\")\n",
    "\n",
    "class Paypal():\n",
    "    def pay(self,amount):\n",
    "        print(F\"Paid :{amount} using paypal\")\n",
    "\n",
    "cc=Creditcard()\n",
    "pp=Paypal()\n",
    "cc.pay(100)\n",
    "pp.pay(3000)"
   ]
  },
  {
   "cell_type": "code",
   "execution_count": 4,
   "id": "6977f97b-eda9-4499-bee0-3d2d4f31300a",
   "metadata": {},
   "outputs": [
    {
     "name": "stdout",
     "output_type": "stream",
     "text": [
      "True\n"
     ]
    }
   ],
   "source": [
    "a=10\n",
    "print(isinstance(a,int))"
   ]
  }
 ],
 "metadata": {
  "kernelspec": {
   "display_name": "Python 3 (ipykernel)",
   "language": "python",
   "name": "python3"
  },
  "language_info": {
   "codemirror_mode": {
    "name": "ipython",
    "version": 3
   },
   "file_extension": ".py",
   "mimetype": "text/x-python",
   "name": "python",
   "nbconvert_exporter": "python",
   "pygments_lexer": "ipython3",
   "version": "3.13.7"
  }
 },
 "nbformat": 4,
 "nbformat_minor": 5
}
