{
 "cells": [
  {
   "cell_type": "code",
   "execution_count": 35,
   "id": "1b73fa20-de85-4099-9873-82aecef542c3",
   "metadata": {},
   "outputs": [
    {
     "name": "stdout",
     "output_type": "stream",
     "text": [
      "            sales  Customers\n",
      "2025-09-01    126         14\n",
      "2025-09-02    103         24\n",
      "2025-09-03    123         10\n",
      "2025-09-04    111         17\n",
      "2025-09-05    114         20\n",
      "2025-09-06    100         12\n",
      "2025-09-07    198         11\n",
      "2025-09-08    143         18\n",
      "2025-09-09    157         19\n",
      "2025-09-10    180         13\n"
     ]
    }
   ],
   "source": [
    "import pandas as pd\n",
    "import numpy as np\n",
    "\n",
    "dates=pd.date_range(start=\"2025-09-01\",periods=15,freq=\"D\")\n",
    "data={\n",
    "    'sales':np.random.randint(100,200,size=15),\n",
    "    'Customers':np.random.randint(10,25,size=15)\n",
    "}\n",
    "\n",
    "df=pd.DataFrame(data,index=dates)\n",
    "# Get data for a specific day\n",
    "s=df.loc['2025-09-01']\n",
    "s\n",
    "\n",
    "# Get data for a specific date range.\n",
    "print(df.loc['2025-09-01':'2025-09-10'])\n"
   ]
  },
  {
   "cell_type": "code",
   "execution_count": null,
   "id": "2705bd8f-fde2-45f9-b4fc-9bf10de63748",
   "metadata": {},
   "outputs": [],
   "source": [
    "Alias\tDescription\tExample\n",
    "D\tCalendar day\t2025-09-25, 2025-09-26\n",
    "B\tBusiness day (Mon-Fri)\t2025-09-25, 2025-09-26, 2025-09-29\n",
    "W\tWeekly (Defaults to Sunday)\t2025-09-28, 2025-10-05\n",
    "M\tMonth end day\t2025-09-30, 2025-10-31\n",
    "MS\tMonth start day\t2025-09-01, 2025-10-01\n",
    "Q\tQuarter end day (Defaults to Dec)\t2025-09-30, 2025-12-31\n",
    "QS\tQuarter start day (Defaults to Jan)\t2025-10-01, 2026-01-01\n",
    "A\tYear end day (Defaults to Dec)\t2025-12-31, 2026-12-31\n",
    "AS\tYear start day (Defaults to Jan)\t2025-01-01, 2026-01-01\n",
    "YE-MAR\n",
    "H\tHourly\t... 12:00:00, ... 13:00:00\n",
    "T or min\tMinutely\t... 12:01:00, ... 12:02:00\n",
    "S\tSecondly\t... 12:01:01, ... 12:01:02"
   ]
  },
  {
   "cell_type": "code",
   "execution_count": 44,
   "id": "dde11773-69a4-4e0f-bd9e-35bead5f9479",
   "metadata": {},
   "outputs": [
    {
     "name": "stdout",
     "output_type": "stream",
     "text": [
      "DatetimeIndex(['2025-09-01', '2025-09-08', '2025-09-15', '2025-09-22'], dtype='datetime64[ns]', freq='W-MON')\n"
     ]
    }
   ],
   "source": [
    "# Generate date for every weekly month starts with friday.\n",
    "every_end_fri=pd.date_range(start='2025-09-01',periods=4,freq=\"W-MON\")\n",
    "print(every_end_fri)"
   ]
  },
  {
   "cell_type": "code",
   "execution_count": 50,
   "id": "38d20eb3-45bd-4c2a-80ef-8dd72fb18ada",
   "metadata": {},
   "outputs": [
    {
     "name": "stdout",
     "output_type": "stream",
     "text": [
      "DatetimeIndex(['2025-09-01', '2025-09-02', '2025-09-03', '2025-09-04',\n",
      "               '2025-09-05', '2025-09-06', '2025-09-07', '2025-09-08',\n",
      "               '2025-09-09', '2025-09-10', '2025-09-11', '2025-09-12',\n",
      "               '2025-09-13', '2025-09-14', '2025-09-15'],\n",
      "              dtype='datetime64[ns]', freq='D')\n"
     ]
    }
   ],
   "source": [
    "# Generate dates for every 10 days.\n",
    "every_10_days=pd.date_range(start=\"2025-09-01\",periods=15,freq=\"1D\")\n",
    "print(every_10_days)"
   ]
  },
  {
   "cell_type": "code",
   "execution_count": 51,
   "id": "ef4c8b2d-ceca-44a6-befe-9df813fdbe03",
   "metadata": {},
   "outputs": [
    {
     "name": "stdout",
     "output_type": "stream",
     "text": [
      "DatetimeIndex(['2025-09-01', '2025-11-01', '2026-01-01', '2026-03-01'], dtype='datetime64[ns]', freq='2MS')\n"
     ]
    }
   ],
   "source": [
    "# Generate dates for every 2nd month start.\n",
    "every_2_mnth=pd.date_range(start=\"2025-09-01\",periods=4,freq=\"2MS\")\n",
    "print(every_2_mnth)"
   ]
  },
  {
   "cell_type": "code",
   "execution_count": 65,
   "id": "08c405a3-f7dd-4499-ae9b-7dc0ef823ae4",
   "metadata": {},
   "outputs": [
    {
     "name": "stdout",
     "output_type": "stream",
     "text": [
      "2025-03-31 00:00:00\n",
      "2034-03-31 00:00:00\n"
     ]
    }
   ],
   "source": [
    "financial_year=pd.date_range(start=\"2025-01-01\",periods=10,freq=\"YE-MAR\")\n",
    "print(financial_year[0])\n",
    "print(financial_year[-1])\n"
   ]
  },
  {
   "cell_type": "code",
   "execution_count": 66,
   "id": "87bc5f31-4886-4730-be84-6095161f0a8c",
   "metadata": {},
   "outputs": [
    {
     "name": "stdout",
     "output_type": "stream",
     "text": [
      "            sales  Customers\n",
      "2025-09-01    172         13\n",
      "2025-09-02    134         18\n",
      "2025-09-03    125         21\n",
      "2025-09-04    156         14\n",
      "2025-09-05    121         11\n",
      "2025-09-06    155         11\n",
      "2025-09-07    166         10\n",
      "2025-09-08    166         11\n",
      "2025-09-09    168         13\n",
      "2025-09-10    130         19\n"
     ]
    }
   ],
   "source": [
    "import pandas as pd\n",
    "import numpy as np\n",
    "\n",
    "dates=pd.date_range(start=\"2025-09-01\",periods=15,freq=\"D\")\n",
    "data={\n",
    "    'sales':np.random.randint(100,200,size=15),\n",
    "    'Customers':np.random.randint(10,25,size=15)\n",
    "}\n",
    "\n",
    "df=pd.DataFrame(data,index=dates)\n",
    "# Get data for a specific day\n",
    "s=df.loc['2025-09-01']\n",
    "s\n",
    "\n",
    "# Get data for a specific date range.\n",
    "print(df.loc['2025-09-01':'2025-09-10'])\n"
   ]
  },
  {
   "cell_type": "code",
   "execution_count": 76,
   "id": "b087a68e-1d17-49b3-8d79-b5547cfa389d",
   "metadata": {},
   "outputs": [
    {
     "name": "stdout",
     "output_type": "stream",
     "text": [
      "2025-09-07    1029\n",
      "2025-09-14    1090\n",
      "2025-09-21     198\n",
      "Freq: W-SUN, Name: sales, dtype: int32\n"
     ]
    }
   ],
   "source": [
    "# resampling : Resampling is the process of changing the time frequency of your data.\n",
    "weekly_sales=df['sales'].resample('W').sum()\n",
    "print(weekly_sales)"
   ]
  },
  {
   "cell_type": "code",
   "execution_count": null,
   "id": "d8ce74b4-07bc-410e-96b1-ad0a74169333",
   "metadata": {},
   "outputs": [],
   "source": [
    "# Downsampling\n",
    "# upsampling"
   ]
  }
 ],
 "metadata": {
  "kernelspec": {
   "display_name": "Python 3 (ipykernel)",
   "language": "python",
   "name": "python3"
  },
  "language_info": {
   "codemirror_mode": {
    "name": "ipython",
    "version": 3
   },
   "file_extension": ".py",
   "mimetype": "text/x-python",
   "name": "python",
   "nbconvert_exporter": "python",
   "pygments_lexer": "ipython3",
   "version": "3.13.5"
  }
 },
 "nbformat": 4,
 "nbformat_minor": 5
}
