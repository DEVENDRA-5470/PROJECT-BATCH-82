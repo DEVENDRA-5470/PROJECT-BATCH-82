{
 "cells": [
  {
   "cell_type": "code",
   "execution_count": 14,
   "id": "da243c3e-6989-4307-9aa5-efbac43591bd",
   "metadata": {},
   "outputs": [
    {
     "name": "stdout",
     "output_type": "stream",
     "text": [
      "Data Saved...\n"
     ]
    }
   ],
   "source": [
    "import pandas as pd\n",
    "data={\n",
    "    'Name':[\"aman\",\"shubham\",\"rohan\",\"shivani\",\"priya\",\"anita\"],\n",
    "    'Gender':['Male','Male','Male','female','female','female'],\n",
    "    'Age':[25,24,23,22,26,28],\n",
    "    'City':['Delhi','Agra','chennai','mumbai','Delhi','chennai']\n",
    "}\n",
    "df=pd.DataFrame(data)\n",
    "male_df=df[df['Gender']==\"Male\"]\n",
    "\n",
    "female_df=df[df['Gender']==\"female\"]\n",
    "female_df\n",
    "\n",
    "try:\n",
    "    female_df.to_csv(r'feMale_Data.csv',index=False)\n",
    "    male_df.to_csv(r'Male_Data.csv',index=False)\n",
    "    print(\"Data Saved...\")\n",
    "except Exception as e:\n",
    "    print(\"Error\",e)\n"
   ]
  },
  {
   "cell_type": "code",
   "execution_count": null,
   "id": "712614e8-1976-49b7-b6be-b124dd92a6e4",
   "metadata": {},
   "outputs": [],
   "source": []
  }
 ],
 "metadata": {
  "kernelspec": {
   "display_name": "Python 3 (ipykernel)",
   "language": "python",
   "name": "python3"
  },
  "language_info": {
   "codemirror_mode": {
    "name": "ipython",
    "version": 3
   },
   "file_extension": ".py",
   "mimetype": "text/x-python",
   "name": "python",
   "nbconvert_exporter": "python",
   "pygments_lexer": "ipython3",
   "version": "3.13.5"
  }
 },
 "nbformat": 4,
 "nbformat_minor": 5
}
