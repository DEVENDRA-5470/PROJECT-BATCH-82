{
 "cells": [
  {
   "cell_type": "code",
   "execution_count": null,
   "id": "fa881cf7-c288-45d7-9905-f81680fa048d",
   "metadata": {},
   "outputs": [],
   "source": [
    "# Abstraction means hiding implementation details and showing only usable features\n",
    "# of an object.\n",
    "# Tell me what it does , not how it does it."
   ]
  },
  {
   "cell_type": "code",
   "execution_count": 47,
   "id": "46369277-cad5-4332-9db5-edfb6795631f",
   "metadata": {},
   "outputs": [],
   "source": [
    "from abc import ABC,abstractmethod\n",
    "class RBI_bank(ABC):\n",
    "    def details(self):\n",
    "        print(\"Welcome to RBI BANK\")\n",
    "        \n",
    "    def database(self):\n",
    "        print(\"Database permission allowed..\")\n",
    "\n",
    "    @abstractmethod\n",
    "    def security(self):\n",
    "        pass\n",
    " \n",
    "class Hamara_bank(RBI_bank):\n",
    "    def details(self):\n",
    "        super().details()\n",
    "    def security(self):\n",
    "        pass\n",
    "   "
   ]
  },
  {
   "cell_type": "code",
   "execution_count": 48,
   "id": "d455f474-c69a-4d2e-bb2f-37fca006fc3c",
   "metadata": {},
   "outputs": [
    {
     "name": "stdout",
     "output_type": "stream",
     "text": [
      "Welcome to RBI BANK\n"
     ]
    }
   ],
   "source": [
    "user1=Hamara_bank()\n",
    "user1.details()\n"
   ]
  },
  {
   "cell_type": "code",
   "execution_count": null,
   "id": "127af5e2-2a81-432f-8e91-6f85c79637f8",
   "metadata": {},
   "outputs": [],
   "source": [
    "# polymorphism : Polymorphism means one entity having many forms.\n",
    "# 1.Method overriding\n",
    "# 2.Method overloading : can not achieve 100% in python "
   ]
  },
  {
   "cell_type": "code",
   "execution_count": 3,
   "id": "a7c56333-561a-457f-bf32-8f4f811402f5",
   "metadata": {},
   "outputs": [],
   "source": [
    "# 1.Method overriding.\n",
    "class Payment:\n",
    "    def payment_process(self):\n",
    "        pass\n",
    "\n",
    "class Phonepe(Payment):\n",
    "    def payment_process(self):\n",
    "        print(\"Payement through Phonepe\")\n",
    "\n",
    "class Paytm(Payment):\n",
    "    def payment_process(self):\n",
    "        print(\"Payement through Paytm\")\n",
    "\n",
    "class Net_banking(Payment):\n",
    "    def payment_process(self):\n",
    "        print(\"Payement through Net_banking\")"
   ]
  },
  {
   "cell_type": "code",
   "execution_count": 4,
   "id": "656ca614-da18-43e9-9a96-149edae387e5",
   "metadata": {},
   "outputs": [
    {
     "name": "stdout",
     "output_type": "stream",
     "text": [
      "Payement through Net_banking\n"
     ]
    }
   ],
   "source": [
    "u1=Net_banking()\n",
    "u1.payment_process()"
   ]
  },
  {
   "cell_type": "code",
   "execution_count": null,
   "id": "8983cb40-f891-4c01-87e3-c1d98e699cc0",
   "metadata": {},
   "outputs": [],
   "source": [
    "# 2.Method overloading : can not achieve 100% in python \n",
    "(*args **kwarg )"
   ]
  },
  {
   "cell_type": "code",
   "execution_count": 20,
   "id": "d4bd6ba6-6818-4190-aed6-08302a6797be",
   "metadata": {},
   "outputs": [
    {
     "data": {
      "text/plain": [
       "'29'"
      ]
     },
     "execution_count": 20,
     "metadata": {},
     "output_type": "execute_result"
    }
   ],
   "source": [
    "# *args\n",
    "class Math:\n",
    "    def add(self,a=0):\n",
    "        return a\n",
    "    def add(self ,a=0 ,b=0):\n",
    "        return a+b\n",
    "obj=Math()\n",
    "obj.add(1)\n",
    "obj.add(2,4)\n",
    "obj.add(\"2\",\"9\")"
   ]
  }
 ],
 "metadata": {
  "kernelspec": {
   "display_name": "Python 3 (ipykernel)",
   "language": "python",
   "name": "python3"
  },
  "language_info": {
   "codemirror_mode": {
    "name": "ipython",
    "version": 3
   },
   "file_extension": ".py",
   "mimetype": "text/x-python",
   "name": "python",
   "nbconvert_exporter": "python",
   "pygments_lexer": "ipython3",
   "version": "3.13.7"
  }
 },
 "nbformat": 4,
 "nbformat_minor": 5
}
