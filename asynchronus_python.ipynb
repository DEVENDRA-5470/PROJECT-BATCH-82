{
 "cells": [
  {
   "cell_type": "code",
   "execution_count": 3,
   "id": "bbc26001-4669-4e4d-8267-6f2ea02a8b96",
   "metadata": {},
   "outputs": [
    {
     "name": "stdout",
     "output_type": "stream",
     "text": [
      "this is task 2\n",
      "This is task 1\n"
     ]
    }
   ],
   "source": [
    "import asyncio\n",
    "\n",
    "def task1():\n",
    "    print(\"This is task 1\")\n",
    "\n",
    "def task2():\n",
    "    print(\"this is task 2\")\n",
    "\n",
    "task2()\n",
    "task1()"
   ]
  },
  {
   "cell_type": "code",
   "execution_count": 10,
   "id": "ac501b3e-eb76-4664-8215-951fb999c513",
   "metadata": {},
   "outputs": [
    {
     "name": "stdout",
     "output_type": "stream",
     "text": [
      "Task 1 start\n",
      "Task 2 start\n",
      "Task 2 completed\n",
      "Task 1 completed\n"
     ]
    }
   ],
   "source": [
    "import asyncio\n",
    "\n",
    "async def task1():\n",
    "    print(\"Task 1 start\")\n",
    "    await asyncio.sleep(10)\n",
    "    print(\"Task 1 completed\")\n",
    "\n",
    "async def task2():\n",
    "    print(\"Task 2 start\")\n",
    "    await asyncio.sleep(1)\n",
    "    print(\"Task 2 completed\")\n",
    "\n",
    "async def main():\n",
    "    await asyncio.gather( task1(),task2() )\n",
    "\n",
    "await main()"
   ]
  }
 ],
 "metadata": {
  "kernelspec": {
   "display_name": "Python 3 (ipykernel)",
   "language": "python",
   "name": "python3"
  },
  "language_info": {
   "codemirror_mode": {
    "name": "ipython",
    "version": 3
   },
   "file_extension": ".py",
   "mimetype": "text/x-python",
   "name": "python",
   "nbconvert_exporter": "python",
   "pygments_lexer": "ipython3",
   "version": "3.13.7"
  }
 },
 "nbformat": 4,
 "nbformat_minor": 5
}
