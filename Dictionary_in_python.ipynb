{
 "cells": [
  {
   "cell_type": "code",
   "execution_count": null,
   "id": "dfdb41c3-a78a-40eb-a329-468195e2b334",
   "metadata": {},
   "outputs": [],
   "source": [
    "# ---------------------- Dictionary\n",
    "# Defination and properties\n",
    "# Creation\n",
    "# Accessing\n",
    "# Modification \n",
    "# slicing ❌\n",
    "# Traversing\n",
    "# Built-in-methods\n",
    "# Assignment."
   ]
  },
  {
   "cell_type": "code",
   "execution_count": null,
   "id": "cf8b585d-79d5-4d9b-bf18-0410f4406d66",
   "metadata": {},
   "outputs": [],
   "source": [
    "# Defination and properties\n",
    "1.Dictionary is a data structure in python used to store entity in form of key:value pair.\n",
    "2.Dictionary are mutable (changeable)\n",
    "3.Dictionary used key:value pair type and key must be unique.\n",
    "4.Key can only declared with primitive data types.(int,str,tuple).\n",
    "5.Value can be any data type (primitive or non-primitive)"
   ]
  },
  {
   "cell_type": "code",
   "execution_count": 7,
   "id": "ac05e812-216a-49ce-bd85-fa9ade36cc71",
   "metadata": {},
   "outputs": [
    {
     "name": "stdout",
     "output_type": "stream",
     "text": [
      "<class 'dict'>\n",
      "{'name': 'Aman', 'roll': 789, 'subject': ['a', 'b', 'c']}\n"
     ]
    }
   ],
   "source": [
    "# Creation\n",
    "stu_profile={'name':\"Aman\",'roll':789,'subject':[\"a\",\"b\",\"c\"]}\n",
    "print(type(stu_profile))\n",
    "print(stu_profile)"
   ]
  },
  {
   "cell_type": "code",
   "execution_count": 11,
   "id": "4dd81599-92ae-4392-8c89-efaee95ae133",
   "metadata": {},
   "outputs": [
    {
     "name": "stdout",
     "output_type": "stream",
     "text": [
      "<class 'dict'>\n",
      "{1: 2, 'name': 'dev'}\n"
     ]
    }
   ],
   "source": [
    "stu_profile=dict([(1,2),('name',\"dev\")])\n",
    "print(type(stu_profile))\n",
    "print(stu_profile)"
   ]
  },
  {
   "cell_type": "code",
   "execution_count": null,
   "id": "238553fe-0408-40cc-9875-817ce0c42384",
   "metadata": {},
   "outputs": [],
   "source": [
    "# str()\n",
    "# int()\n",
    "# float()\n",
    "# list()\n",
    "# tuple()\n",
    "# set()\n",
    "# dict()"
   ]
  },
  {
   "cell_type": "code",
   "execution_count": 13,
   "id": "b7d229d2-fda7-4931-b445-0abb0f50f4ae",
   "metadata": {},
   "outputs": [
    {
     "name": "stdout",
     "output_type": "stream",
     "text": [
      "a\n"
     ]
    }
   ],
   "source": [
    "# Accessing\n",
    "# stu_profile={'name':\"Aman\",'roll':789,'subject':[\"a\",\"b\",\"c\"]}\n",
    "# print(stu_profile['subject'][0])"
   ]
  },
  {
   "cell_type": "code",
   "execution_count": 15,
   "id": "129ad935-85c9-41cf-8be7-3dc5da312722",
   "metadata": {},
   "outputs": [],
   "source": [
    "# Modification \n",
    "# stu_profile={'name':\"Aman\",'roll':789,'subject':[\"a\",\"b\",\"c\"]}\n",
    "# stu_profile['roll']=9000\n",
    "# print(stu_profile)"
   ]
  },
  {
   "cell_type": "code",
   "execution_count": 19,
   "id": "036b4712-788f-446a-9226-f6bec00d9ef6",
   "metadata": {},
   "outputs": [
    {
     "ename": "KeyError",
     "evalue": "0",
     "output_type": "error",
     "traceback": [
      "\u001b[1;31m---------------------------------------------------------------------------\u001b[0m",
      "\u001b[1;31mKeyError\u001b[0m                                  Traceback (most recent call last)",
      "Cell \u001b[1;32mIn[19], line 4\u001b[0m\n\u001b[0;32m      2\u001b[0m stu_profile\u001b[38;5;241m=\u001b[39m{\u001b[38;5;124m'\u001b[39m\u001b[38;5;124mname\u001b[39m\u001b[38;5;124m'\u001b[39m:\u001b[38;5;124m\"\u001b[39m\u001b[38;5;124mAman\u001b[39m\u001b[38;5;124m\"\u001b[39m,\u001b[38;5;124m'\u001b[39m\u001b[38;5;124mroll\u001b[39m\u001b[38;5;124m'\u001b[39m:\u001b[38;5;241m789\u001b[39m,\u001b[38;5;124m'\u001b[39m\u001b[38;5;124msubject\u001b[39m\u001b[38;5;124m'\u001b[39m:[\u001b[38;5;124m\"\u001b[39m\u001b[38;5;124ma\u001b[39m\u001b[38;5;124m\"\u001b[39m,\u001b[38;5;124m\"\u001b[39m\u001b[38;5;124mb\u001b[39m\u001b[38;5;124m\"\u001b[39m,\u001b[38;5;124m\"\u001b[39m\u001b[38;5;124mc\u001b[39m\u001b[38;5;124m\"\u001b[39m]}\n\u001b[0;32m      3\u001b[0m \u001b[38;5;28;01mfor\u001b[39;00m i \u001b[38;5;129;01min\u001b[39;00m \u001b[38;5;28mrange\u001b[39m(\u001b[38;5;28mlen\u001b[39m(stu_profile)):\n\u001b[1;32m----> 4\u001b[0m     \u001b[38;5;28mprint\u001b[39m(\u001b[43mstu_profile\u001b[49m\u001b[43m[\u001b[49m\u001b[43mi\u001b[49m\u001b[43m]\u001b[49m)\n",
      "\u001b[1;31mKeyError\u001b[0m: 0"
     ]
    }
   ],
   "source": [
    "# Traversing\n",
    "stu_profile={'name':\"Aman\",'roll':789,'subject':[\"a\",\"b\",\"c\"]}\n",
    "for i in range(len(stu_profile)):\n",
    "    print(stu_profile[i])"
   ]
  },
  {
   "cell_type": "code",
   "execution_count": 31,
   "id": "81f9388b-7255-4eae-8b28-7a9592030834",
   "metadata": {},
   "outputs": [],
   "source": [
    "# stu_profile={'name':\"Aman\",'roll':789,'subject':[\"a\",\"b\",\"c\"]}\n",
    "# for i in stu_profile:\n",
    "#     print(stu_profile[i])"
   ]
  },
  {
   "cell_type": "code",
   "execution_count": 46,
   "id": "9df2c96c-d842-4505-b599-3d52f4ef12fb",
   "metadata": {},
   "outputs": [],
   "source": [
    "# stu_profile={'name':\"Aman\",'roll':789,'subject':[\"a\",\"b\",\"c\"]}\n",
    "# for v in stu_profile.values():\n",
    "#     print(v)"
   ]
  },
  {
   "cell_type": "code",
   "execution_count": 47,
   "id": "d583faf5-ad2e-4e67-a891-abbb06086285",
   "metadata": {},
   "outputs": [
    {
     "name": "stdout",
     "output_type": "stream",
     "text": [
      "Aman\n",
      "Nhi hai\n"
     ]
    }
   ],
   "source": [
    "# Built-in-methods:\n",
    "stu_profile={'name':\"Aman\",'roll':789,'subject':[\"a\",\"b\",\"c\"]}\n",
    "print(stu_profile.get('name'))\n",
    "print(stu_profile.get('mob',\"Nhi hai\"))\n"
   ]
  },
  {
   "cell_type": "code",
   "execution_count": 41,
   "id": "7f058d68-f673-4055-92db-057a0c4f35f7",
   "metadata": {},
   "outputs": [
    {
     "name": "stdout",
     "output_type": "stream",
     "text": [
      "dict_keys(['name', 'roll', 'subject'])\n",
      "dict_values(['Aman', 789, ['a', 'b', 'c']])\n",
      "dict_items([('name', 'Aman'), ('roll', 789), ('subject', ['a', 'b', 'c'])])\n"
     ]
    }
   ],
   "source": [
    "stu_profile={'name':\"Aman\",'roll':789,'subject':[\"a\",\"b\",\"c\"]}\n",
    "print(stu_profile.keys())\n",
    "print(stu_profile.values())\n",
    "print(stu_profile.items())"
   ]
  },
  {
   "cell_type": "code",
   "execution_count": 48,
   "id": "8e329063-15ed-460f-93cb-8e134e74fbe0",
   "metadata": {},
   "outputs": [
    {
     "name": "stdout",
     "output_type": "stream",
     "text": [
      "{'name': 'badmosh', 'roll': 789, 'subject': 'computer', 'birthday': 'cake muder 12 january'}\n"
     ]
    }
   ],
   "source": [
    "stu_profile={'name':\"Aman\",'roll':789,'subject':\"computer\"}\n",
    "stu_profile.update({'name':\"badmosh\",\"birthday\":\"cake muder 12 january\"})\n",
    "print(stu_profile)"
   ]
  },
  {
   "cell_type": "code",
   "execution_count": 50,
   "id": "b9ce4bf7-43ea-4584-96b0-bb0b16a4072f",
   "metadata": {},
   "outputs": [
    {
     "name": "stdout",
     "output_type": "stream",
     "text": [
      "{'name': 'Aman'}\n"
     ]
    }
   ],
   "source": [
    "# stu_profile={'name':\"Aman\",'roll':789,'subject':\"computer\"}\n",
    "# stu_profile.popitem()\n",
    "# stu_profile.popitem()\n",
    "# print(stu_profile)"
   ]
  },
  {
   "cell_type": "code",
   "execution_count": 52,
   "id": "da3fa617-4873-4efd-b4c0-196b0570cfda",
   "metadata": {},
   "outputs": [
    {
     "name": "stdout",
     "output_type": "stream",
     "text": [
      "{'name': 'Aman', 'subject': 'computer'}\n"
     ]
    }
   ],
   "source": [
    "# stu_profile={'name':\"Aman\",'roll':789,'subject':\"computer\"}\n",
    "# stu_profile.pop('roll')\n",
    "# print(stu_profile)"
   ]
  },
  {
   "cell_type": "code",
   "execution_count": 53,
   "id": "ab3218bc-2864-4992-8162-31d6794a28bd",
   "metadata": {},
   "outputs": [
    {
     "name": "stdout",
     "output_type": "stream",
     "text": [
      "{}\n"
     ]
    }
   ],
   "source": [
    "stu_profile={'name':\"Aman\",'roll':789,'subject':\"computer\"}\n",
    "stu_profile.clear()\n",
    "print(stu_profile)"
   ]
  },
  {
   "cell_type": "code",
   "execution_count": 54,
   "id": "1c5c5379-ff87-42ca-9453-c730956aa285",
   "metadata": {},
   "outputs": [
    {
     "name": "stdout",
     "output_type": "stream",
     "text": [
      "{'name': 'Aman', 'roll': 789, 'subject': 'computer'}\n"
     ]
    }
   ],
   "source": [
    "stu_profile={'name':\"Aman\",'roll':789,'subject':\"computer\"}\n",
    "# stu_profile.clear()\n",
    "stu_profile.\n",
    "print(stu_profile)"
   ]
  },
  {
   "cell_type": "code",
   "execution_count": 56,
   "id": "3e57a4fd-375d-4d08-84dc-1731319fda91",
   "metadata": {},
   "outputs": [
    {
     "name": "stdout",
     "output_type": "stream",
     "text": [
      "<class 'set'>\n"
     ]
    }
   ],
   "source": [
    "# set {}\n",
    "# dict {}\n",
    "v1=set()\n",
    "print(type(v1))"
   ]
  },
  {
   "cell_type": "code",
   "execution_count": 68,
   "id": "fbe785d8-5a33-4735-86fd-dd04cd20e3a0",
   "metadata": {},
   "outputs": [],
   "source": [
    "# l1=[90,89,67,56]\n",
    "# l2=['aman','abhay','shivam',\"dev\"]\n",
    "# res=zip(l1,l2)\n",
    "# print(dict(res))\n"
   ]
  },
  {
   "cell_type": "code",
   "execution_count": null,
   "id": "130878ff-407b-4409-9268-6699899488dc",
   "metadata": {},
   "outputs": [],
   "source": [
    "myd1={'a':1,\"b\":2,\"c\":3,\"d\":4} \n",
    "# print sum values\n",
    "# print key with containing voewl\n",
    "# print in reverse\n",
    "\n",
    "myd2={'a':\"1\",\"b\":\"2\",\"c\":\"3\",\"d\":\"4\"} \n",
    "# print sum values."
   ]
  }
 ],
 "metadata": {
  "kernelspec": {
   "display_name": "Python 3 (ipykernel)",
   "language": "python",
   "name": "python3"
  },
  "language_info": {
   "codemirror_mode": {
    "name": "ipython",
    "version": 3
   },
   "file_extension": ".py",
   "mimetype": "text/x-python",
   "name": "python",
   "nbconvert_exporter": "python",
   "pygments_lexer": "ipython3",
   "version": "3.13.5"
  }
 },
 "nbformat": 4,
 "nbformat_minor": 5
}
