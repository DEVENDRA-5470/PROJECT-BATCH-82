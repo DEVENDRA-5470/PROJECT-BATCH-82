{
 "cells": [
  {
   "cell_type": "code",
   "execution_count": null,
   "id": "cd19480f-e060-4fe8-a51a-b486d6be43c2",
   "metadata": {},
   "outputs": [],
   "source": [
    "# ---------------------- Tuple\n",
    "# Defination and properties\n",
    "# Creation\n",
    "# Accessing\n",
    "# Modification \n",
    "# slicing\n",
    "# Traversing\n",
    "# Built-in-methods\n",
    "# Assignment."
   ]
  },
  {
   "cell_type": "code",
   "execution_count": 1,
   "id": "25f51994-5a13-4946-9e45-6d088c119243",
   "metadata": {},
   "outputs": [],
   "source": [
    "# Defination and properties\n",
    "# 1.Tuple is a data structure in python used to store multiple value of \n",
    "# different data types.\n",
    "# 2.Tuple value must be comma sepreated with round braces()\n",
    "# 3.Tuple are ordered indexed slicing \n",
    "# 4.Tuple can not be modified (immuatable)"
   ]
  },
  {
   "cell_type": "code",
   "execution_count": 7,
   "id": "23716fee-b577-49bc-ba4e-01b9b2d95365",
   "metadata": {},
   "outputs": [
    {
     "name": "stdout",
     "output_type": "stream",
     "text": [
      "<class 'tuple'>\n",
      "(10, 20, 30, 50, 59, 500)\n"
     ]
    }
   ],
   "source": [
    "# Creation\n",
    "t1=(10,20,30,50,59,500)\n",
    "print(type(t1))\n",
    "print(t1)"
   ]
  },
  {
   "cell_type": "code",
   "execution_count": 9,
   "id": "2f654dfa-6ed7-412d-a841-c3ee07c0f8e1",
   "metadata": {},
   "outputs": [
    {
     "name": "stdout",
     "output_type": "stream",
     "text": [
      "59\n"
     ]
    }
   ],
   "source": [
    "# Accessing\n",
    "t1=(10,20,30,50,59,500)\n",
    "print(t1[4])"
   ]
  },
  {
   "cell_type": "code",
   "execution_count": 10,
   "id": "848c4f97-6c81-473c-a6d3-70e2dc0d7eab",
   "metadata": {},
   "outputs": [
    {
     "ename": "TypeError",
     "evalue": "'tuple' object does not support item assignment",
     "output_type": "error",
     "traceback": [
      "\u001b[1;31m---------------------------------------------------------------------------\u001b[0m",
      "\u001b[1;31mTypeError\u001b[0m                                 Traceback (most recent call last)",
      "Cell \u001b[1;32mIn[10], line 3\u001b[0m\n\u001b[0;32m      1\u001b[0m \u001b[38;5;66;03m# update\u001b[39;00m\n\u001b[0;32m      2\u001b[0m t1\u001b[38;5;241m=\u001b[39m(\u001b[38;5;241m10\u001b[39m,\u001b[38;5;241m20\u001b[39m,\u001b[38;5;241m30\u001b[39m,\u001b[38;5;241m50\u001b[39m,\u001b[38;5;241m59\u001b[39m,\u001b[38;5;241m500\u001b[39m)\n\u001b[1;32m----> 3\u001b[0m \u001b[43mt1\u001b[49m\u001b[43m[\u001b[49m\u001b[38;5;241;43m0\u001b[39;49m\u001b[43m]\u001b[49m\u001b[38;5;241m=\u001b[39m\u001b[38;5;124m\"\u001b[39m\u001b[38;5;124mpython\u001b[39m\u001b[38;5;124m\"\u001b[39m\n\u001b[0;32m      4\u001b[0m \u001b[38;5;28mprint\u001b[39m(t1)\n",
      "\u001b[1;31mTypeError\u001b[0m: 'tuple' object does not support item assignment"
     ]
    }
   ],
   "source": [
    "# update /# Modification  ❌\n",
    "t1=(10,20,30,50,59,500)\n",
    "t1[0]=\"python\"\n",
    "print(t1)"
   ]
  },
  {
   "cell_type": "code",
   "execution_count": 11,
   "id": "7c84e02a-2cbe-4c0d-9525-c7ad1614e6f4",
   "metadata": {},
   "outputs": [
    {
     "name": "stdout",
     "output_type": "stream",
     "text": [
      "(30, 50, 59)\n"
     ]
    }
   ],
   "source": [
    " # slicing\n",
    "t1=(10,20,30,50,59,500)\n",
    "print(t1[2:5])"
   ]
  },
  {
   "cell_type": "code",
   "execution_count": 19,
   "id": "b685d7c1-4d9a-4fb7-b65d-02dd55c7a080",
   "metadata": {},
   "outputs": [
    {
     "name": "stdout",
     "output_type": "stream",
     "text": [
      "(1, 4, 9, 16, 25, 36, 49, 64, 81)\n"
     ]
    }
   ],
   "source": [
    "# Traversing\n",
    "# t1=(10,20,30,50,59,500)\n",
    "# for i in range(len(t1)):\n",
    "#     print(t1[i])\n",
    "\n",
    "# t2=(i**2 for i in range(1,10))\n",
    "# print(tuple(t2))"
   ]
  },
  {
   "cell_type": "code",
   "execution_count": 23,
   "id": "cc8f279b-8832-4366-bab6-d1ec18c76db3",
   "metadata": {},
   "outputs": [],
   "source": [
    "# t1=(10,20,30,50,59,500)\n",
    "# for i in t1:\n",
    "#     print(i)\n",
    "\n",
    "# for i in (10,20,30,50,59,500):\n",
    "#     print(i)"
   ]
  },
  {
   "cell_type": "code",
   "execution_count": 26,
   "id": "79309172-ba19-4789-8f03-0dbba67908b1",
   "metadata": {},
   "outputs": [],
   "source": [
    "# t1=(10,20,30,50,59,500)\n",
    "# i=0\n",
    "# while i<len(t1):\n",
    "#     print(t1[i])\n",
    "#     i+=1"
   ]
  },
  {
   "cell_type": "code",
   "execution_count": 27,
   "id": "e83981c1-c8fc-4686-847a-9fc609a03463",
   "metadata": {},
   "outputs": [
    {
     "ename": "IndexError",
     "evalue": "tuple index out of range",
     "output_type": "error",
     "traceback": [
      "\u001b[1;31m---------------------------------------------------------------------------\u001b[0m",
      "\u001b[1;31mIndexError\u001b[0m                                Traceback (most recent call last)",
      "Cell \u001b[1;32mIn[27], line 2\u001b[0m\n\u001b[0;32m      1\u001b[0m t1\u001b[38;5;241m=\u001b[39m(\u001b[38;5;241m10\u001b[39m,\u001b[38;5;241m20\u001b[39m,\u001b[38;5;241m30\u001b[39m,\u001b[38;5;241m50\u001b[39m,\u001b[38;5;241m59\u001b[39m,\u001b[38;5;241m500\u001b[39m)\n\u001b[1;32m----> 2\u001b[0m \u001b[38;5;28mprint\u001b[39m(\u001b[43mt1\u001b[49m\u001b[43m[\u001b[49m\u001b[38;5;28;43mlen\u001b[39;49m\u001b[43m(\u001b[49m\u001b[43mt1\u001b[49m\u001b[43m)\u001b[49m\u001b[43m]\u001b[49m)\n",
      "\u001b[1;31mIndexError\u001b[0m: tuple index out of range"
     ]
    }
   ],
   "source": [
    "t1=(10,20,30,50,59,500)\n",
    "print(t1[len(t1)])"
   ]
  },
  {
   "cell_type": "code",
   "execution_count": 30,
   "id": "8a7a72d8-f8e8-40dc-afb1-977610a8a367",
   "metadata": {},
   "outputs": [
    {
     "name": "stdout",
     "output_type": "stream",
     "text": [
      "3\n",
      "6\n"
     ]
    }
   ],
   "source": [
    "t1=(10,20,30,50,59,500,10,10)\n",
    "print(t1.count(10))\n",
    "print(t1.index(10,1))"
   ]
  },
  {
   "cell_type": "code",
   "execution_count": null,
   "id": "13793c67-87a0-4e6e-af36-4e12cb3b3c71",
   "metadata": {},
   "outputs": [],
   "source": [
    "print(\"t1\")"
   ]
  }
 ],
 "metadata": {
  "kernelspec": {
   "display_name": "Python 3 (ipykernel)",
   "language": "python",
   "name": "python3"
  },
  "language_info": {
   "codemirror_mode": {
    "name": "ipython",
    "version": 3
   },
   "file_extension": ".py",
   "mimetype": "text/x-python",
   "name": "python",
   "nbconvert_exporter": "python",
   "pygments_lexer": "ipython3",
   "version": "3.13.5"
  }
 },
 "nbformat": 4,
 "nbformat_minor": 5
}
