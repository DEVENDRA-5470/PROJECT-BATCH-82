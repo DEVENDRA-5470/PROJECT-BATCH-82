{
 "cells": [
  {
   "cell_type": "code",
   "execution_count": null,
   "id": "ffeceba1-0515-435b-8838-013bc903a0fa",
   "metadata": {},
   "outputs": [],
   "source": [
    "# pip install mysql-connector-python\n",
    "# pip install mysql-connector\n",
    "# pip install pymysql\n",
    "# pip install cryptography"
   ]
  },
  {
   "cell_type": "code",
   "execution_count": 10,
   "id": "ded6fbe0-962b-49ae-881b-6af9f1f14d77",
   "metadata": {},
   "outputs": [
    {
     "name": "stdout",
     "output_type": "stream",
     "text": [
      "<mysql.connector.connection_cext.CMySQLConnection object at 0x00000244577F7C50>\n",
      "data_science\n"
     ]
    }
   ],
   "source": [
    "# how to connect with database.\n",
    "import mysql.connector as mysql\n",
    "try:\n",
    "    mydb=mysql.connect(host=\"localhost\",user=\"root\",password=\"root@123\")\n",
    "    print(mydb)\n",
    "    cursor=mydb.cursor()\n",
    "    cursor.execute(\"SHOW DATABASES\")\n",
    "    print(cursor.fetchall()[2][0])\n",
    "except Exception as e:\n",
    "    print(\"Error :\",e)\n"
   ]
  },
  {
   "cell_type": "code",
   "execution_count": 16,
   "id": "a16903fb-e9d0-449c-b7a9-75b2a4669f3d",
   "metadata": {},
   "outputs": [
    {
     "name": "stdout",
     "output_type": "stream",
     "text": [
      "<pymysql.connections.Connection object at 0x00000244577F7C50>\n",
      "(('banking_db',), ('batch_82',), ('data_science',), ('information_schema',), ('iqindia',), ('library_db',), ('my_library',), ('myprojectdb',), ('mysql',), ('numbers',), ('performance_schema',), ('python',), ('sbi_bank',), ('school',), ('subquery_practice_one',), ('sys',))\n"
     ]
    }
   ],
   "source": [
    "# how to connect with database.\n",
    "import pymysql as mysql\n",
    "try:\n",
    "    mydb=mysql.connect(host=\"localhost\",user=\"root\",password=\"root@123\")\n",
    "    print(mydb)\n",
    "    cursor=mydb.cursor()\n",
    "    cursor.execute(\"SHOW DATABASES\")\n",
    "    print(cursor.fetchall())\n",
    "except Exception as e:\n",
    "    print(\"Error :\",e)\n"
   ]
  },
  {
   "cell_type": "code",
   "execution_count": 15,
   "id": "88fd8823-2d08-4358-9c18-a93fab61cba8",
   "metadata": {},
   "outputs": [
    {
     "name": "stdout",
     "output_type": "stream",
     "text": [
      "<pymysql.connections.Connection object at 0x00000244575A5090>\n",
      "Database Created...\n"
     ]
    }
   ],
   "source": [
    "import pymysql as mysql\n",
    "try:\n",
    "    mydb=mysql.connect(host=\"localhost\",user=\"root\",password=\"root@123\")\n",
    "    print(mydb)\n",
    "    cursor=mydb.cursor()\n",
    "    db_name=\"python\"\n",
    "    # cursor.execute(f\"DROP DATABASE {db_name}\")\n",
    "    cursor.execute(F\"CREATE DATABASE {db_name}\")\n",
    "    print(\"Database Created...\")\n",
    "except Exception as e:\n",
    "    print(\"Error :\",e)"
   ]
  },
  {
   "cell_type": "code",
   "execution_count": 70,
   "id": "6f58da48-7850-446d-8e17-81f2e13061f7",
   "metadata": {},
   "outputs": [
    {
     "name": "stdout",
     "output_type": "stream",
     "text": [
      "<pymysql.connections.Connection object at 0x0000022D3D476350>\n",
      "(('city',), ('customer',), ('demo',), ('new_customer',), ('student',), ('students',))\n"
     ]
    }
   ],
   "source": [
    "import pymysql as mysql\n",
    "try:\n",
    "    mydb=mysql.connect(host=\"localhost\",user=\"root\",password=\"root@123\",database=\"iqindia\")\n",
    "    print(mydb)\n",
    "    cursor=mydb.cursor()\n",
    "    cursor.execute(\"SHOW TABLES\")\n",
    "    # cursor.execute(\"SELECT * FROM STUDENT\")\n",
    "    \n",
    "    print(cursor.fetchall())\n",
    "except Exception as e:\n",
    "    print(\"Error :\",e)"
   ]
  },
  {
   "cell_type": "code",
   "execution_count": 1,
   "id": "950f4ede-7c61-47c6-a80b-f15fa9765524",
   "metadata": {},
   "outputs": [],
   "source": [
    "# Smmmary \n",
    "# 1.How to connect with database (mysql.connectore and pymsql)\n",
    "# 2.How to get execute quries\n",
    "# 3.How to connect with any particular database\n",
    "# 4.How to fetch databases and tables\n",
    "# 5.How to create a table in a dedicated database.\n",
    "# 6.How to insert data in the table of database\n",
    "# 7.How to read an delete\n",
    "# 8.This is the full CRUD operation using python connectivity."
   ]
  },
  {
   "cell_type": "code",
   "execution_count": 66,
   "id": "da8c2705-927f-4846-a1d8-38abe5c87827",
   "metadata": {},
   "outputs": [
    {
     "name": "stdout",
     "output_type": "stream",
     "text": [
      "Error : (1050, \"Table 'demo' already exists\")\n"
     ]
    }
   ],
   "source": [
    "# 5.How to create a table in a dedicated database.\n",
    "import pymysql as mysql\n",
    "try:\n",
    "    mydb=mysql.connect(host=\"localhost\",user=\"root\",password=\"root@123\",database=\"iqindia\")\n",
    "    cursor=mydb.cursor()\n",
    "    query=f\"\"\"CREATE TABLE DEMO (\n",
    "    SNAME VARCHAR(10),\n",
    "    SROLL INT,\n",
    "    SCLASS VARCHAR(10),\n",
    "    SADDRESS VARCHAR(100)\n",
    "    );\"\"\"\n",
    "    cursor.execute(query)\n",
    "    print(\"Your Table is Created...\")\n",
    "except Exception as e:\n",
    "    print(\"Error :\",e)"
   ]
  },
  {
   "cell_type": "code",
   "execution_count": 56,
   "id": "02b71de0-4fd6-41b6-97d0-0e446e93933e",
   "metadata": {},
   "outputs": [
    {
     "name": "stdin",
     "output_type": "stream",
     "text": [
      "Enter Your name : dev\n"
     ]
    },
    {
     "name": "stdout",
     "output_type": "stream",
     "text": [
      "Your Data inserted ...\n"
     ]
    }
   ],
   "source": [
    "# 6.How to insert data in the table of database\n",
    "import pymysql as mysql\n",
    "try:\n",
    "    name=input(\"Enter Your name :\")\n",
    "    mydb=mysql.connect(host=\"localhost\",user=\"root\",password=\"root@123\",database=\"iqindia\")\n",
    "    cursor=mydb.cursor()\n",
    "    query=f\"\"\"INSERT INTO DEMO(SNAME,SROLL,SCLASS,SADDRESS)\n",
    "    VALUES('{name}',30,\"10th\",\"NEW-DELHI\");\"\"\"\n",
    "    cursor.execute(query)\n",
    "    mydb.commit()\n",
    "    print(\"Your Data inserted ...\")\n",
    "except Exception as e:\n",
    "    print(\"Error :\",e)\n",
    "finally :\n",
    "    mydb.close()"
   ]
  },
  {
   "cell_type": "code",
   "execution_count": 60,
   "id": "01a2b149-4ce0-469c-b886-cd70320e29a0",
   "metadata": {},
   "outputs": [
    {
     "name": "stdout",
     "output_type": "stream",
     "text": [
      "No Data found in Table..\n"
     ]
    }
   ],
   "source": [
    "# 7.How to read and delete\n",
    "import pymysql as mysql\n",
    "try:\n",
    "    # name=input(\"Enter Your name :\")\n",
    "    mydb=mysql.connect(host=\"localhost\",user=\"root\",password=\"root@123\",database=\"iqindia\")\n",
    "    cursor=mydb.cursor()\n",
    "    query=f\"\"\"SELECT * FROM DEMO;\"\"\"\n",
    "    s=cursor.execute(query)\n",
    "    if s==0:\n",
    "        print(\"No Data found in Table..\")\n",
    "    else:\n",
    "        for i in cursor.fetchall():\n",
    "            print(i)\n",
    "except Exception as e:\n",
    "    print(\"Error :\",e)"
   ]
  },
  {
   "cell_type": "code",
   "execution_count": 65,
   "id": "01ef479f-361e-482c-9862-b9293c3378a4",
   "metadata": {},
   "outputs": [
    {
     "name": "stdout",
     "output_type": "stream",
     "text": [
      "Data deleted...\n",
      "Thanks ✅\n"
     ]
    }
   ],
   "source": [
    "# 7.How to read and delete\n",
    "import pymysql as mysql\n",
    "try:\n",
    "    # name=input(\"Enter Your name :\")\n",
    "    mydb=mysql.connect(host=\"localhost\",user=\"root\",password=\"root@123\",database=\"iqindia\")\n",
    "    cursor=mydb.cursor()\n",
    "    query=f\"\"\"Delete FROM DEMO;\"\"\"\n",
    "    cursor.execute(query)\n",
    "    print(\"Data deleted...\")\n",
    "    mydb.commit()\n",
    "except Exception as e:\n",
    "    print(\"Error :\",e)\n",
    "finally:\n",
    "    print(\"Thanks ✅\")"
   ]
  }
 ],
 "metadata": {
  "kernelspec": {
   "display_name": "Python 3 (ipykernel)",
   "language": "python",
   "name": "python3"
  },
  "language_info": {
   "codemirror_mode": {
    "name": "ipython",
    "version": 3
   },
   "file_extension": ".py",
   "mimetype": "text/x-python",
   "name": "python",
   "nbconvert_exporter": "python",
   "pygments_lexer": "ipython3",
   "version": "3.13.5"
  }
 },
 "nbformat": 4,
 "nbformat_minor": 5
}
