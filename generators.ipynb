{
 "cells": [
  {
   "cell_type": "code",
   "execution_count": null,
   "id": "5da6d2fe-f6e7-4a0b-9e42-3e9d2c910b38",
   "metadata": {},
   "outputs": [],
   "source": [
    "# a generator is special type of iterator that allows\n",
    "# you to iterate over a sequence of values one a time.\n",
    "# without storing the entire sequence in memory.\n",
    "# This makes generators more memory-efficient especially\n",
    "# with large dataset of stream of data."
   ]
  },
  {
   "cell_type": "code",
   "execution_count": 9,
   "id": "f4cb8a3b-6e9c-4ee8-a1c0-acfbcb923c8b",
   "metadata": {},
   "outputs": [
    {
     "name": "stdout",
     "output_type": "stream",
     "text": [
      "0\n",
      "1\n",
      "2\n",
      "[3, 4, 5, 6, 7, 8, 9]\n"
     ]
    }
   ],
   "source": [
    "def my_generator(n):\n",
    "    for i in range(n):\n",
    "        yield i\n",
    "gen=my_generator(10)\n",
    "print(next(gen))\n",
    "print(next(gen))\n",
    "print(next(gen))\n",
    "print(list(gen))"
   ]
  },
  {
   "cell_type": "code",
   "execution_count": 20,
   "id": "66396694-b6cc-442a-9bad-8634b4adf91b",
   "metadata": {},
   "outputs": [
    {
     "name": "stdout",
     "output_type": "stream",
     "text": [
      "0\n",
      "1\n",
      "[4, 9, 16]\n"
     ]
    }
   ],
   "source": [
    "my_gen=(x*x for x in range(5))\n",
    "print(next(my_gen))\n",
    "print(next(my_gen))\n",
    "print(list(my_gen))\n"
   ]
  },
  {
   "cell_type": "code",
   "execution_count": 8,
   "id": "05bf0d95-5d4a-4bce-9fd4-ed0062c6890a",
   "metadata": {},
   "outputs": [
    {
     "name": "stdout",
     "output_type": "stream",
     "text": [
      "Execution time :119.93 Seconds\n",
      "Peak memory used :0.04 MB\n",
      "large_file.txt create with size ~1\n"
     ]
    }
   ],
   "source": [
    "# Create a big file with 5gb\n",
    "import time\n",
    "import tracemalloc\n",
    "import os\n",
    "\n",
    "tracemalloc.start()\n",
    "start_time=time.time()\n",
    "\n",
    "file_path=\"large_file.txt\"\n",
    "size_in_gb=1\n",
    "line=\"This is test line for large file .\\n\"\n",
    "line_size=len(line.encode('utf-8'))\n",
    "\n",
    "num_lines=(size_in_gb*1024*1024*1024)//line_size\n",
    "with open(file_path,\"w\") as f:\n",
    "        for _ in range(num_lines):\n",
    "            f.write(line)\n",
    "\n",
    "end_time=time.time()\n",
    "current,peak=tracemalloc.get_traced_memory()\n",
    "tracemalloc.stop()\n",
    "\n",
    "print(f\"Execution time :{end_time-start_time:.2f} Seconds\")\n",
    "print(f\"Peak memory used :{peak / 1024 / 1024:.2f} MB\")\n",
    "print(f\"{file_path} create with size ~{size_in_gb}\")"
   ]
  },
  {
   "cell_type": "code",
   "execution_count": 5,
   "id": "e396d650-fb6f-4d29-bfcb-8c98f0e88c63",
   "metadata": {},
   "outputs": [
    {
     "name": "stdout",
     "output_type": "stream",
     "text": [
      "Execution time :27.97 Seconds\n",
      "Peak memory used :2468.83 MB\n"
     ]
    }
   ],
   "source": [
    "# without generator\n",
    "import time\n",
    "import tracemalloc\n",
    "\n",
    "file_path=\"large_file.txt\"\n",
    "\n",
    "def process(line):\n",
    "    return len(line)\n",
    "\n",
    "# memory trace\n",
    "tracemalloc.start()\n",
    "start_time=time.time()\n",
    "\n",
    "with open(file_path,\"r\") as f:\n",
    "    lines=f.readlines()\n",
    "\n",
    "for line in lines:\n",
    "    process(line)\n",
    "\n",
    "end_time=time.time()\n",
    "current,peak=tracemalloc.get_traced_memory()\n",
    "tracemalloc.stop()\n",
    "\n",
    "print(f\"Execution time :{end_time-start_time:.2f} Seconds\")\n",
    "print(f\"Peak memory used :{peak / 1024 / 1024:.2f} MB\")"
   ]
  },
  {
   "cell_type": "code",
   "execution_count": 3,
   "id": "aacc3b67-4be1-425f-995b-6f3178b96aea",
   "metadata": {},
   "outputs": [
    {
     "name": "stdout",
     "output_type": "stream",
     "text": [
      "Execution time :28.24 Seconds\n",
      "Peak memory used :0.03 MB\n"
     ]
    }
   ],
   "source": [
    "# with generator\n",
    "import time\n",
    "import tracemalloc\n",
    "\n",
    "file_path=\"large_file.txt\"\n",
    "\n",
    "def process(line):\n",
    "    return len(line)\n",
    "\n",
    "def file_read_generator(file_path):\n",
    "    with open(file_path,\"r\") as f:\n",
    "        for line in f:\n",
    "            yield line\n",
    "    \n",
    "# memory trace\n",
    "tracemalloc.start()\n",
    "start_time=time.time()\n",
    "\n",
    "for line in file_read_generator(file_path):\n",
    "    process(line)\n",
    "    \n",
    "end_time=time.time()\n",
    "current,peak=tracemalloc.get_traced_memory()\n",
    "tracemalloc.stop()\n",
    "\n",
    "print(f\"Execution time :{end_time-start_time:.2f} Seconds\")\n",
    "print(f\"Peak memory used :{peak / 1024 / 1024:.2f} MB\")"
   ]
  },
  {
   "cell_type": "code",
   "execution_count": 6,
   "id": "88d7522c-6385-4df2-acc6-b251b72e2eea",
   "metadata": {},
   "outputs": [
    {
     "name": "stdout",
     "output_type": "stream",
     "text": [
      "This is test line for large file .\n",
      "This is test line for large file .\n",
      "This is test line for large file .\n",
      "This is test line for large file .\n",
      "This is test line for large file .\n",
      "This is test line for large file .\n",
      "This is test line for large file .\n",
      "This is test line for large file .\n",
      "This is test line for large file .\n",
      "This is test line for large file .\n",
      "Execution time :121.18 Seconds\n",
      "Peak memory used :0.05 MB\n"
     ]
    }
   ],
   "source": [
    "# with generator read char wise\n",
    "import time\n",
    "import tracemalloc\n",
    "\n",
    "file_path=\"large_file.txt\"\n",
    "\n",
    "def process(line):\n",
    "    return len(line)\n",
    "\n",
    "def read_file(file_path):\n",
    "    with open(file_path,\"r\") as f:\n",
    "        for line in f:\n",
    "            yield line\n",
    "\n",
    "def file_read_generator(file_path,chunk_size=1024):\n",
    "    with open(file_path,\"r\") as f:\n",
    "        while chunk := f.read(chunk_size):\n",
    "            for char in chunk:\n",
    "                yield char\n",
    "    \n",
    "# memory trace\n",
    "tracemalloc.start()\n",
    "start_time=time.time()\n",
    "\n",
    "for line in file_read_generator(file_path):\n",
    "    process(line)\n",
    "\n",
    "for i,line in enumerate(read_file(file_path)):\n",
    "    if i<10:\n",
    "        print(line.strip())\n",
    "    else:\n",
    "        break\n",
    "    \n",
    "end_time=time.time()\n",
    "current,peak=tracemalloc.get_traced_memory()\n",
    "tracemalloc.stop()\n",
    "\n",
    "print(f\"Execution time :{end_time-start_time:.2f} Seconds\")\n",
    "print(f\"Peak memory used :{peak / 1024 / 1024:.2f} MB\")"
   ]
  }
 ],
 "metadata": {
  "kernelspec": {
   "display_name": "Python 3 (ipykernel)",
   "language": "python",
   "name": "python3"
  },
  "language_info": {
   "codemirror_mode": {
    "name": "ipython",
    "version": 3
   },
   "file_extension": ".py",
   "mimetype": "text/x-python",
   "name": "python",
   "nbconvert_exporter": "python",
   "pygments_lexer": "ipython3",
   "version": "3.13.7"
  }
 },
 "nbformat": 4,
 "nbformat_minor": 5
}
