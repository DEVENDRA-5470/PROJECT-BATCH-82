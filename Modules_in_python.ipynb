{
 "cells": [
  {
   "cell_type": "code",
   "execution_count": 10,
   "id": "6b26135d-6353-4306-b266-e7f828a91e70",
   "metadata": {},
   "outputs": [
    {
     "name": "stdout",
     "output_type": "stream",
     "text": [
      "5.0\n"
     ]
    }
   ],
   "source": [
    "# what is module in python\n",
    "# Module in python is collection or readymade code function(methods) and variables.\n",
    "import math\n",
    "# res=math.prod([10,20])\n",
    "res=math.sqrt(25)\n",
    "print(res)"
   ]
  },
  {
   "cell_type": "code",
   "execution_count": null,
   "id": "1af2f99d-0e22-4fed-8909-189bb3aa78fa",
   "metadata": {},
   "outputs": [],
   "source": [
    "# module types\n",
    "# inbuit modules\n",
    "# user define module."
   ]
  },
  {
   "cell_type": "code",
   "execution_count": 13,
   "id": "d18497db-fb0f-41b2-9721-c556d7661941",
   "metadata": {},
   "outputs": [
    {
     "data": {
      "text/plain": [
       "'Odd Number'"
      ]
     },
     "execution_count": 13,
     "metadata": {},
     "output_type": "execute_result"
    }
   ],
   "source": [
    "def odd_even(n):\n",
    "    if n%2==0:\n",
    "        return \"Even Number\"\n",
    "    else:\n",
    "        return \"Odd Number\"\n",
    "odd_even()"
   ]
  },
  {
   "cell_type": "code",
   "execution_count": 17,
   "id": "38ca250f-6c0e-4541-bcdf-b4380630529a",
   "metadata": {},
   "outputs": [
    {
     "data": {
      "text/plain": [
       "'Even Number'"
      ]
     },
     "execution_count": 17,
     "metadata": {},
     "output_type": "execute_result"
    }
   ],
   "source": [
    "from my_odd_even import odd_even\n",
    "odd_even(50)"
   ]
  },
  {
   "cell_type": "code",
   "execution_count": 29,
   "id": "028b621e-caaa-4995-8937-4a62711b69d8",
   "metadata": {},
   "outputs": [
    {
     "data": {
      "text/plain": [
       "'ved'"
      ]
     },
     "execution_count": 29,
     "metadata": {},
     "output_type": "execute_result"
    }
   ],
   "source": [
    "def revstr(s):\n",
    "    return s[::-1]\n",
    "revstr(\"dev\")"
   ]
  },
  {
   "cell_type": "code",
   "execution_count": 31,
   "id": "387b3ffd-4e07-4135-bc7a-9a7fef1b3d02",
   "metadata": {},
   "outputs": [
    {
     "data": {
      "text/plain": [
       "'nama'"
      ]
     },
     "execution_count": 31,
     "metadata": {},
     "output_type": "execute_result"
    }
   ],
   "source": [
    "from my_file_rev import revstr\n",
    "revstr(\"aman\")"
   ]
  },
  {
   "cell_type": "code",
   "execution_count": null,
   "id": "7ced7f96-c68c-4d51-9538-100906e56b0e",
   "metadata": {},
   "outputs": [],
   "source": [
    "# random module\n",
    "# string module\n",
    "# datetime module\n",
    "# math module\n",
    "# os module"
   ]
  },
  {
   "cell_type": "code",
   "execution_count": 119,
   "id": "574e8ad1-517e-498f-b450-fb36d0106ddc",
   "metadata": {},
   "outputs": [
    {
     "name": "stdout",
     "output_type": "stream",
     "text": [
      "9407\n"
     ]
    }
   ],
   "source": [
    "# random module\n",
    "import random\n",
    "import math\n",
    "res=random.random()*10000\n",
    "print(int(res))"
   ]
  },
  {
   "cell_type": "code",
   "execution_count": 255,
   "id": "74313e0a-e3f9-4dc7-81b5-517f65af06ea",
   "metadata": {},
   "outputs": [
    {
     "name": "stdout",
     "output_type": "stream",
     "text": [
      "63759221713\n"
     ]
    }
   ],
   "source": [
    "res=random.randint(9000000000,100000000000)\n",
    "print(res)"
   ]
  },
  {
   "cell_type": "code",
   "execution_count": 256,
   "id": "900c3933-301a-441a-a640-b3e79d2783b0",
   "metadata": {},
   "outputs": [
    {
     "name": "stdout",
     "output_type": "stream",
     "text": [
      "9558536321\n"
     ]
    }
   ],
   "source": [
    "res=random.randrange(9000000000,10000000000)\n",
    "print(res)"
   ]
  },
  {
   "cell_type": "code",
   "execution_count": 295,
   "id": "c197ecdc-474e-47d4-bb46-3b17efd84cd8",
   "metadata": {},
   "outputs": [
    {
     "name": "stdout",
     "output_type": "stream",
     "text": [
      "shubham\n"
     ]
    }
   ],
   "source": [
    "stu_name=[\"aman\",\"shivam\",\"shubham\",\"anurag\"]\n",
    "res=random.choice(stu_name)\n",
    "print(res)"
   ]
  },
  {
   "cell_type": "code",
   "execution_count": 452,
   "id": "2632578b-0d8e-4531-80e6-3f9d3625c41e",
   "metadata": {},
   "outputs": [
    {
     "name": "stdout",
     "output_type": "stream",
     "text": [
      "['shivam', 'anurag', 'anurag']\n"
     ]
    }
   ],
   "source": [
    "stu_name=[\"aman\",\"shivam\",\"shubham\",\"anurag\"]\n",
    "\n",
    "res=random.choices(stu_name,weights=[1,1,1,1],k=3)\n",
    "print(res)"
   ]
  },
  {
   "cell_type": "code",
   "execution_count": 371,
   "id": "ebbae08d-e783-4744-a5c4-c18c98349425",
   "metadata": {},
   "outputs": [
    {
     "name": "stdout",
     "output_type": "stream",
     "text": [
      "abcdefghijklmnopqrstuvwxyzABCDEFGHIJKLMNOPQRSTUVWXYZ\n"
     ]
    }
   ],
   "source": [
    "import string\n",
    "res=string.ascii_letters\n",
    "print(res)"
   ]
  },
  {
   "cell_type": "code",
   "execution_count": 372,
   "id": "d220cfbf-1a21-4e59-8efd-adee235dc5d7",
   "metadata": {},
   "outputs": [
    {
     "name": "stdout",
     "output_type": "stream",
     "text": [
      "abcdefghijklmnopqrstuvwxyz\n"
     ]
    }
   ],
   "source": [
    "res=string.ascii_lowercase\n",
    "print(res)"
   ]
  },
  {
   "cell_type": "code",
   "execution_count": 374,
   "id": "e7d54191-bdb8-4ad6-8814-ac47e2e171dc",
   "metadata": {},
   "outputs": [
    {
     "name": "stdout",
     "output_type": "stream",
     "text": [
      "ABCDEFGHIJKLMNOPQRSTUVWXYZ\n"
     ]
    }
   ],
   "source": [
    "res=string.ascii_uppercase\n",
    "print(res)"
   ]
  },
  {
   "cell_type": "code",
   "execution_count": 378,
   "id": "5e754f70-c26e-4bf6-8c28-7cf10d004b9d",
   "metadata": {},
   "outputs": [
    {
     "name": "stdout",
     "output_type": "stream",
     "text": [
      "0123456789\n"
     ]
    }
   ],
   "source": [
    "res=string.digits\n",
    "print(res)"
   ]
  },
  {
   "cell_type": "code",
   "execution_count": 382,
   "id": "3edc1289-da48-4e21-9d42-2ce6155c79ea",
   "metadata": {},
   "outputs": [
    {
     "name": "stdout",
     "output_type": "stream",
     "text": [
      "0123456789abcdefghijklmnopqrstuvwxyzABCDEFGHIJKLMNOPQRSTUVWXYZ\n"
     ]
    }
   ],
   "source": [
    "res=string.digits+string.ascii_letters\n",
    "print(res)"
   ]
  },
  {
   "cell_type": "code",
   "execution_count": 444,
   "id": "9f4ad761-9492-486d-a239-d40c6f59cdc6",
   "metadata": {},
   "outputs": [
    {
     "name": "stdout",
     "output_type": "stream",
     "text": [
      "W38pjGgmilu\n",
      "dZU38wgf2Ka\n",
      "d0QcKRorysb\n",
      "TTLRgVvcmK3\n",
      "VFtoUSjwFub\n",
      "QqJA9ntHigJ\n",
      "aXur97BUXbe\n",
      "zfe2zehkGIu\n",
      "v9XuZclOxvh\n"
     ]
    }
   ],
   "source": [
    "import random\n",
    "import string\n",
    "for i in range(1,10):\n",
    "    print(\"\".join([random.choice(string.digits+string.ascii_letters) for _ in range(11)]))\n"
   ]
  },
  {
   "cell_type": "code",
   "execution_count": 456,
   "id": "a6fa559c-b33c-4a34-a825-d5d57172275f",
   "metadata": {},
   "outputs": [
    {
     "name": "stdout",
     "output_type": "stream",
     "text": [
      "aman:tHYmKTlVGd3\n",
      "shivam:hvYBsupq0rW\n",
      "shubham:Glw4VtE3kbe\n",
      "anurag:JZPTkoKwP86\n"
     ]
    }
   ],
   "source": [
    "stu_name=[\"aman\",\"shivam\",\"shubham\",\"anurag\"]\n",
    "for i in range(len(stu_name)):\n",
    "    print(stu_name[i]+\":\"+\"\".join([random.choice(string.digits+string.ascii_letters) for _ in range(11)]))\n"
   ]
  }
 ],
 "metadata": {
  "kernelspec": {
   "display_name": "Python 3 (ipykernel)",
   "language": "python",
   "name": "python3"
  },
  "language_info": {
   "codemirror_mode": {
    "name": "ipython",
    "version": 3
   },
   "file_extension": ".py",
   "mimetype": "text/x-python",
   "name": "python",
   "nbconvert_exporter": "python",
   "pygments_lexer": "ipython3",
   "version": "3.13.5"
  }
 },
 "nbformat": 4,
 "nbformat_minor": 5
}
