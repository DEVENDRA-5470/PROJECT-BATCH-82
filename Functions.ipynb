{
 "cells": [
  {
   "cell_type": "code",
   "execution_count": null,
   "id": "8a36fd89-922a-4b19-bf02-2a96c03fd9c0",
   "metadata": {},
   "outputs": [],
   "source": [
    "# ----------------- Function in python\n",
    "# 1.Every function has thier own purpose.\n",
    "# 2.Fuction is a block of code.\n",
    "# 3.Functional programming is very easy to find and debug the error.\n",
    "# 4.Fuction are reusable as per need.\n",
    "\n",
    "# Fuction type function\n",
    "# 1.In-built method\n",
    "# 2.UDF (User-defined-function)\n",
    "\n",
    "# Parameters and arguments (args) \n",
    "# 1.Default parameters\n",
    "# 2.Positional arguments\n",
    "# 3.Keyword arguments\n",
    "# 4.Arbitrary arguments\n",
    "\n",
    "# Categories of function\n",
    "# 1.Take nothing return nothing\n",
    "# 2.Take nothing return something\n",
    "# 3.Take something return nothing\n",
    "# 4.Take something return something\n",
    "\n",
    "# lambda function (anonymous function)\n",
    "# HOF : Higher order functions(filter(),map(),reduce())\n",
    "\n",
    "# Assignment"
   ]
  },
  {
   "cell_type": "code",
   "execution_count": 2,
   "id": "690c044a-a66c-41e7-9f08-0bbca46511a7",
   "metadata": {},
   "outputs": [
    {
     "name": "stdout",
     "output_type": "stream",
     "text": [
      "outside the function\n",
      "I am function\n"
     ]
    }
   ],
   "source": [
    "# defination \n",
    "def fun():\n",
    "    print(\"I am function\")\n",
    "print(\"outside the function\")\n",
    "fun() # calling\n"
   ]
  },
  {
   "cell_type": "code",
   "execution_count": 4,
   "id": "5adec6ff-1d80-4aea-a03f-e9d625a2dc6e",
   "metadata": {},
   "outputs": [
    {
     "name": "stdout",
     "output_type": "stream",
     "text": [
      "30\n"
     ]
    }
   ],
   "source": [
    "# 1.Take nothing return nothing\n",
    "def add():\n",
    "    a=10\n",
    "    b=20\n",
    "    c=a+b\n",
    "    print(c)\n",
    "add()"
   ]
  },
  {
   "cell_type": "code",
   "execution_count": 36,
   "id": "1536dfca-5aef-482b-9b91-f66abec44727",
   "metadata": {},
   "outputs": [
    {
     "name": "stdout",
     "output_type": "stream",
     "text": [
      "name :10\n",
      "age :dev\n"
     ]
    }
   ],
   "source": [
    "# parameter and arguments\n",
    "# positional args.\n",
    "def odd_even(name,age):\n",
    "    print(f\"name :{name}\")\n",
    "    print(f\"age :{age}\")\n",
    "odd_even(10,\"dev\")"
   ]
  },
  {
   "cell_type": "code",
   "execution_count": 21,
   "id": "b48956ff-ca0f-465e-9388-77e4e6457f8c",
   "metadata": {},
   "outputs": [
    {
     "name": "stdout",
     "output_type": "stream",
     "text": [
      "a :200\n",
      "b :300\n"
     ]
    }
   ],
   "source": [
    "# default parameter\n",
    "def odd_even(a=0,b=0,c=0):\n",
    "    print(f\"a :{a}\")\n",
    "    print(f\"b :{b}\")\n",
    "odd_even(200,300,90)"
   ]
  },
  {
   "cell_type": "code",
   "execution_count": 25,
   "id": "e49beb1f-7287-4ba7-92e8-543c1f8f40eb",
   "metadata": {},
   "outputs": [
    {
     "name": "stdout",
     "output_type": "stream",
     "text": [
      "Student ID:12345\n",
      "Student Name:Dev\n",
      "Student Roll:450\n",
      "Student Mob:8900000\n"
     ]
    }
   ],
   "source": [
    "# keyword args\n",
    "def stu_profile(sid,sname,sroll,smob):\n",
    "    print(f\"Student ID:{sid}\")\n",
    "    print(f\"Student Name:{sname}\")\n",
    "    print(f\"Student Roll:{sroll}\")\n",
    "    print(f\"Student Mob:{smob}\")\n",
    "stu_profile(smob=8900000,sname=\"Dev\",sid=12345,sroll=450)"
   ]
  },
  {
   "cell_type": "code",
   "execution_count": 32,
   "id": "dddd34d4-1cc6-406d-b139-7658874cc493",
   "metadata": {},
   "outputs": [
    {
     "name": "stdout",
     "output_type": "stream",
     "text": [
      "{'smob': 8900000, 'sname': 'Dev', 'sid': 12345, 'sroll': 450}\n",
      "Student ID:N/A\n",
      "Student Name:Dev\n",
      "Student Roll:450\n",
      "Student Mob:8900000\n"
     ]
    }
   ],
   "source": [
    "def stu_profile(**kwargs):\n",
    "    print(kwargs)\n",
    "    print(f\"Student ID:{kwargs.get(\"sid\",\"N/A\")}\")\n",
    "    print(f\"Student Name:{kwargs.get(\"sname\",\"N/A\")}\")\n",
    "    print(f\"Student Roll:{kwargs.get(\"sroll\",\"N/A\")}\")\n",
    "    print(f\"Student Mob:{kwargs.get(\"smob\",\"N/A\")}\")\n",
    "stu_profile(smob=8900000,sname=\"Dev\",sid=12345,sroll=450)"
   ]
  }
 ],
 "metadata": {
  "kernelspec": {
   "display_name": "Python 3 (ipykernel)",
   "language": "python",
   "name": "python3"
  },
  "language_info": {
   "codemirror_mode": {
    "name": "ipython",
    "version": 3
   },
   "file_extension": ".py",
   "mimetype": "text/x-python",
   "name": "python",
   "nbconvert_exporter": "python",
   "pygments_lexer": "ipython3",
   "version": "3.13.5"
  }
 },
 "nbformat": 4,
 "nbformat_minor": 5
}
