{
 "cells": [
  {
   "cell_type": "code",
   "execution_count": null,
   "id": "8a36fd89-922a-4b19-bf02-2a96c03fd9c0",
   "metadata": {},
   "outputs": [],
   "source": [
    "# ----------------- Function in python\n",
    "# 1.Every function has thier own purpose.\n",
    "# 2.Fuction is a block of code.\n",
    "# 3.Functional programming is very easy to find and debug the error.\n",
    "# 4.Fuction are reusable as per need.\n",
    "\n",
    "# Fuction type function\n",
    "# 1.In-built method\n",
    "# 2.UDF (User-defined-function)\n",
    "\n",
    "# Parameters and arguments (args) \n",
    "# 1.Default parameters\n",
    "# 2.Positional arguments\n",
    "# 3.Keyword arguments\n",
    "# 4.Arbitrary arguments\n",
    "\n",
    "# Categories of function\n",
    "# 1.Take nothing return nothing\n",
    "# 2.Take nothing return something\n",
    "# 3.Take something return nothing\n",
    "# 4.Take something return something\n",
    "\n",
    "# lambda function (anonymous function)\n",
    "# HOF : Higher order functions(filter(),map(),reduce())\n",
    "\n",
    "# Assignment"
   ]
  }
 ],
 "metadata": {
  "kernelspec": {
   "display_name": "Python 3 (ipykernel)",
   "language": "python",
   "name": "python3"
  },
  "language_info": {
   "codemirror_mode": {
    "name": "ipython",
    "version": 3
   },
   "file_extension": ".py",
   "mimetype": "text/x-python",
   "name": "python",
   "nbconvert_exporter": "python",
   "pygments_lexer": "ipython3",
   "version": "3.13.5"
  }
 },
 "nbformat": 4,
 "nbformat_minor": 5
}
