{
 "cells": [
  {
   "cell_type": "code",
   "execution_count": null,
   "id": "8a36fd89-922a-4b19-bf02-2a96c03fd9c0",
   "metadata": {},
   "outputs": [],
   "source": [
    "# ----------------- Function in python\n",
    "# 1.Every function has thier own purpose.\n",
    "# 2.Fuction is a block of code.\n",
    "# 3.Functional programming is very easy to find and debug the error.\n",
    "# 4.Fuction are reusable as per need.\n",
    "\n",
    "# Fuction type function\n",
    "# 1.In-built method\n",
    "# 2.UDF (User-defined-function)\n",
    "\n",
    "# Parameters and arguments (args) \n",
    "# 1.Default parameters\n",
    "# 2.Positional arguments\n",
    "# 3.Keyword arguments\n",
    "# 4.Arbitrary arguments\n",
    "\n",
    "# Categories of function\n",
    "# 1.Take nothing return nothing\n",
    "# 2.Take nothing return something\n",
    "# 3.Take something return nothing\n",
    "# 4.Take something return something\n",
    "\n",
    "# lambda function (anonymous function)\n",
    "# HOF : Higher order functions(filter(),map(),reduce())\n",
    "\n",
    "# Assignment"
   ]
  },
  {
   "cell_type": "code",
   "execution_count": 2,
   "id": "690c044a-a66c-41e7-9f08-0bbca46511a7",
   "metadata": {},
   "outputs": [
    {
     "name": "stdout",
     "output_type": "stream",
     "text": [
      "outside the function\n",
      "I am function\n"
     ]
    }
   ],
   "source": [
    "# defination \n",
    "def fun():\n",
    "    print(\"I am function\")\n",
    "print(\"outside the function\")\n",
    "fun() # calling\n"
   ]
  },
  {
   "cell_type": "code",
   "execution_count": 4,
   "id": "5adec6ff-1d80-4aea-a03f-e9d625a2dc6e",
   "metadata": {},
   "outputs": [
    {
     "name": "stdout",
     "output_type": "stream",
     "text": [
      "30\n"
     ]
    }
   ],
   "source": [
    "# 1.Take nothing return nothing\n",
    "def add():\n",
    "    a=10\n",
    "    b=20\n",
    "    c=a+b\n",
    "    print(c)\n",
    "add()"
   ]
  },
  {
   "cell_type": "code",
   "execution_count": 36,
   "id": "1536dfca-5aef-482b-9b91-f66abec44727",
   "metadata": {},
   "outputs": [
    {
     "name": "stdout",
     "output_type": "stream",
     "text": [
      "name :10\n",
      "age :dev\n"
     ]
    }
   ],
   "source": [
    "# parameter and arguments\n",
    "# positional args.\n",
    "def odd_even(name,age):\n",
    "    print(f\"name :{name}\")\n",
    "    print(f\"age :{age}\")\n",
    "odd_even(10,\"dev\")"
   ]
  },
  {
   "cell_type": "code",
   "execution_count": 21,
   "id": "b48956ff-ca0f-465e-9388-77e4e6457f8c",
   "metadata": {},
   "outputs": [
    {
     "name": "stdout",
     "output_type": "stream",
     "text": [
      "a :200\n",
      "b :300\n"
     ]
    }
   ],
   "source": [
    "# default parameter\n",
    "def odd_even(a=0,b=0,c=0):\n",
    "    print(f\"a :{a}\")\n",
    "    print(f\"b :{b}\")\n",
    "odd_even(200,300,90)"
   ]
  },
  {
   "cell_type": "code",
   "execution_count": 25,
   "id": "e49beb1f-7287-4ba7-92e8-543c1f8f40eb",
   "metadata": {},
   "outputs": [
    {
     "name": "stdout",
     "output_type": "stream",
     "text": [
      "Student ID:12345\n",
      "Student Name:Dev\n",
      "Student Roll:450\n",
      "Student Mob:8900000\n"
     ]
    }
   ],
   "source": [
    "# keyword args\n",
    "def stu_profile(sid,sname,sroll,smob):\n",
    "    print(f\"Student ID:{sid}\")\n",
    "    print(f\"Student Name:{sname}\")\n",
    "    print(f\"Student Roll:{sroll}\")\n",
    "    print(f\"Student Mob:{smob}\")\n",
    "stu_profile(smob=8900000,sname=\"Dev\",sid=12345,sroll=450)"
   ]
  },
  {
   "cell_type": "code",
   "execution_count": 32,
   "id": "dddd34d4-1cc6-406d-b139-7658874cc493",
   "metadata": {},
   "outputs": [
    {
     "name": "stdout",
     "output_type": "stream",
     "text": [
      "{'smob': 8900000, 'sname': 'Dev', 'sid': 12345, 'sroll': 450}\n",
      "Student ID:N/A\n",
      "Student Name:Dev\n",
      "Student Roll:450\n",
      "Student Mob:8900000\n"
     ]
    }
   ],
   "source": [
    "def stu_profile(**kwargs):\n",
    "    print(kwargs)\n",
    "    print(f\"Student ID:{kwargs.get(\"sid\",\"N/A\")}\")\n",
    "    print(f\"Student Name:{kwargs.get(\"sname\",\"N/A\")}\")\n",
    "    print(f\"Student Roll:{kwargs.get(\"sroll\",\"N/A\")}\")\n",
    "    print(f\"Student Mob:{kwargs.get(\"smob\",\"N/A\")}\")\n",
    "stu_profile(smob=8900000,sname=\"Dev\",sid=12345,sroll=450)"
   ]
  },
  {
   "cell_type": "code",
   "execution_count": 10,
   "id": "c25e305b-5553-4c5b-af76-2c98e2c61eb9",
   "metadata": {},
   "outputs": [
    {
     "name": "stdout",
     "output_type": "stream",
     "text": [
      "(10, 20, 30, 40)\n",
      "240000\n"
     ]
    }
   ],
   "source": [
    "# 4.Arbitrary arguments\n",
    "import math\n",
    "def multiply(*args):\n",
    "    print(n)\n",
    "    print(math.prod(n))\n",
    "multiply(10,20,30,40)"
   ]
  },
  {
   "cell_type": "code",
   "execution_count": 12,
   "id": "097acee6-20e1-4016-8355-2f0a1bcf845f",
   "metadata": {},
   "outputs": [
    {
     "name": "stdout",
     "output_type": "stream",
     "text": [
      "240000\n"
     ]
    }
   ],
   "source": [
    "# 4.Arbitrary arguments\n",
    "def multiply(*n):\n",
    "    m=1\n",
    "    for i in n:\n",
    "        m=m*i\n",
    "    print(m)\n",
    "multiply(10,20,30,40)"
   ]
  },
  {
   "cell_type": "code",
   "execution_count": 7,
   "id": "590332c8-4734-4560-b750-d05c5762280b",
   "metadata": {},
   "outputs": [
    {
     "name": "stdout",
     "output_type": "stream",
     "text": [
      "100\n"
     ]
    }
   ],
   "source": [
    "# 4.Take something return something.\n",
    "def my_money(price):\n",
    "    return price\n",
    "res=my_money(100)\n",
    "print(res)"
   ]
  },
  {
   "cell_type": "code",
   "execution_count": 8,
   "id": "5e4b5dc2-a54f-4907-b947-2ae16d36a8d1",
   "metadata": {},
   "outputs": [
    {
     "name": "stdout",
     "output_type": "stream",
     "text": [
      "100\n"
     ]
    }
   ],
   "source": [
    "# 3.Take something return nothing\n",
    "def my_money(price):\n",
    "    print(price)\n",
    "my_money(100)\n"
   ]
  },
  {
   "cell_type": "code",
   "execution_count": 10,
   "id": "5288be1d-8d50-4441-8f25-0b4f8118f439",
   "metadata": {},
   "outputs": [
    {
     "name": "stdout",
     "output_type": "stream",
     "text": [
      "50\n"
     ]
    }
   ],
   "source": [
    "# 2.Take nothing return something\n",
    "def my_money():\n",
    "    a=20\n",
    "    b=30\n",
    "    return a+b\n",
    "r=my_money()\n",
    "print(r)"
   ]
  },
  {
   "cell_type": "code",
   "execution_count": 14,
   "id": "1435e4c1-8e37-4c0f-a3a8-6fdc7ad0589f",
   "metadata": {},
   "outputs": [
    {
     "name": "stdout",
     "output_type": "stream",
     "text": [
      "dev@1234\n",
      "dev@1234\n",
      "dev@1234\n"
     ]
    }
   ],
   "source": [
    "# Global and local scope.\n",
    "user_pass=\"dev@1234\"\n",
    "def login():\n",
    "    print(user_pass)\n",
    "print(user_pass)\n",
    "login()\n",
    "print(user_pass)"
   ]
  },
  {
   "cell_type": "code",
   "execution_count": 9,
   "id": "baded9c7-6294-4585-aba6-6d52433c3720",
   "metadata": {},
   "outputs": [
    {
     "name": "stdout",
     "output_type": "stream",
     "text": [
      "dev@1234\n",
      "dev@1234\n",
      "dev@1234\n"
     ]
    }
   ],
   "source": [
    "# Global and local scope.\n",
    "\n",
    "def login():\n",
    "    global user_pass\n",
    "    user_pass=\"dev@1234\"\n",
    "    print(user_pass)\n",
    "\n",
    "login()\n",
    "\n",
    "login()\n",
    "print(user_pass)"
   ]
  },
  {
   "cell_type": "code",
   "execution_count": 21,
   "id": "e99129ff-a328-4ce5-884b-fb02016994c0",
   "metadata": {},
   "outputs": [
    {
     "name": "stdout",
     "output_type": "stream",
     "text": [
      "30\n"
     ]
    }
   ],
   "source": [
    "# lambda function (anonymous function).\n",
    "s=lambda :10+20\n",
    "print(s())"
   ]
  },
  {
   "cell_type": "code",
   "execution_count": 1,
   "id": "70b42059-ddab-481b-a869-a9e76a265119",
   "metadata": {},
   "outputs": [
    {
     "name": "stdout",
     "output_type": "stream",
     "text": [
      "Even\n"
     ]
    }
   ],
   "source": [
    "# Wap to check number is given by user is odd or even using lambda\n",
    "check=lambda x:\"Even\" if x%2==0 else \"Odd\"\n",
    "print(check(10))"
   ]
  },
  {
   "cell_type": "code",
   "execution_count": 3,
   "id": "fe135329-fec9-4656-b602-b2e5f4b18d1e",
   "metadata": {},
   "outputs": [
    {
     "name": "stdout",
     "output_type": "stream",
     "text": [
      "Even\n"
     ]
    }
   ],
   "source": [
    "def check(n):\n",
    "    if n%2==0:\n",
    "        return \"Even\"\n",
    "    else:\n",
    "        return \"ODD\"\n",
    "print(check(10))"
   ]
  },
  {
   "cell_type": "code",
   "execution_count": 5,
   "id": "9604e7eb-7054-419f-8656-685fd22c0c29",
   "metadata": {},
   "outputs": [
    {
     "name": "stdout",
     "output_type": "stream",
     "text": [
      "30\n",
      "-10\n",
      "200\n",
      "0.5\n",
      "10\n"
     ]
    }
   ],
   "source": [
    "def calculator(a,b):\n",
    "    print(a+b)\n",
    "    print(a-b)\n",
    "    print(a*b)\n",
    "    print(a/b)\n",
    "    print(a%b)\n",
    "calculator(10,20)"
   ]
  },
  {
   "cell_type": "code",
   "execution_count": 10,
   "id": "66348b66-65d4-4338-98ab-07517f28ca7a",
   "metadata": {},
   "outputs": [
    {
     "name": "stdout",
     "output_type": "stream",
     "text": [
      "(-10, 30, 10, 0.5)\n"
     ]
    }
   ],
   "source": [
    "cal=lambda a,b:(a-b,a+b,a%b,a/b)\n",
    "res=cal(10,20)\n",
    "print(res)"
   ]
  },
  {
   "cell_type": "code",
   "execution_count": 16,
   "id": "cb1bd7af-7e03-461f-8bd6-4236a0ee7f39",
   "metadata": {},
   "outputs": [
    {
     "name": "stdout",
     "output_type": "stream",
     "text": [
      "([89, 90], [12, 45, 44, 33])\n"
     ]
    }
   ],
   "source": [
    "res=lambda x:([i for i in x if i>=50],[i for i in x if i<=50])\n",
    "print(res([12,89,45,90,44,33]))"
   ]
  },
  {
   "cell_type": "code",
   "execution_count": 15,
   "id": "3df04cb3-68ec-4f5c-8879-1df44233786d",
   "metadata": {},
   "outputs": [
    {
     "name": "stdout",
     "output_type": "stream",
     "text": [
      "[89, 90]\n"
     ]
    }
   ],
   "source": [
    "def check_pass(n):\n",
    "    new=[]\n",
    "    for i in n:\n",
    "        if i>=50:\n",
    "            new.append(i)\n",
    "    return new\n",
    "res=check_pass([12,89,45,90,44,33])\n",
    "print(res)"
   ]
  },
  {
   "cell_type": "code",
   "execution_count": 19,
   "id": "9212b9ba-8320-4c29-b679-69ce87cfaf34",
   "metadata": {},
   "outputs": [],
   "source": [
    "# HOF : Higher order functions(filter(),map(),reduce())\n",
    "# Higher order functions are functions that take another function as its argument\n",
    "# and that function passed as argument known as callback function.\n",
    "# return values as list , tuple , set.\n",
    "# filter(fun,iterator)\n",
    "# map(fun,iterator)\n",
    "# reduce(fun,iterator)"
   ]
  },
  {
   "cell_type": "code",
   "execution_count": 30,
   "id": "5d8e1b2d-e525-4ec6-b00c-c3148e9a7398",
   "metadata": {},
   "outputs": [
    {
     "name": "stdout",
     "output_type": "stream",
     "text": [
      "[89, 90]\n"
     ]
    }
   ],
   "source": [
    "def check_pass(n):\n",
    "    if n>=50:\n",
    "        return n\n",
    "marks=(12,89,45,90,44,33)\n",
    "res=(list(filter(check_pass,marks)))\n",
    "print(res)"
   ]
  },
  {
   "cell_type": "code",
   "execution_count": 37,
   "id": "185f1465-e197-4ce6-b96c-26b081bf382a",
   "metadata": {},
   "outputs": [
    {
     "name": "stdout",
     "output_type": "stream",
     "text": [
      "[12, 89, 45, 90, 44, 33]\n"
     ]
    }
   ],
   "source": [
    "# print((list(filter(lambda x:x>=50,(12,89,45,90,44,33)))))\n",
    "print((list(filter(lambda x:(x>=50),(12,89,45,90,44,33)))))\n"
   ]
  },
  {
   "cell_type": "code",
   "execution_count": 22,
   "id": "d37434e9-f209-478c-a2bd-d26b681492c2",
   "metadata": {},
   "outputs": [
    {
     "name": "stdout",
     "output_type": "stream",
     "text": [
      "[89, 90]\n"
     ]
    }
   ],
   "source": [
    "def check_pass(n):\n",
    "    new_marks=[]\n",
    "    for i in n:\n",
    "        if i>=50:\n",
    "            new_marks.append(i)\n",
    "    return new_marks\n",
    "res=check_pass([12,89,45,90,44,33])\n",
    "print(res)"
   ]
  },
  {
   "cell_type": "code",
   "execution_count": 26,
   "id": "b8083f03-431c-4ca4-a0d9-94ac09d47ff0",
   "metadata": {},
   "outputs": [
    {
     "name": "stdout",
     "output_type": "stream",
     "text": [
      "60\n"
     ]
    }
   ],
   "source": [
    "def check_pass(n):\n",
    "    if n>=50:\n",
    "        return n\n",
    "\n",
    "res=check_pass(60)\n",
    "print(res)"
   ]
  },
  {
   "cell_type": "code",
   "execution_count": 1,
   "id": "fef11879-5707-4e08-8553-a8c5019b7f82",
   "metadata": {},
   "outputs": [
    {
     "name": "stdout",
     "output_type": "stream",
     "text": [
      "[30, 55, 88, 100, 54, 32]\n"
     ]
    }
   ],
   "source": [
    "# map(fun,iterator)\n",
    "marks=[20,45,78,90,44,22]\n",
    "new_marks=map(lambda x:x+10,marks)\n",
    "print(list(new_marks))"
   ]
  },
  {
   "cell_type": "code",
   "execution_count": 2,
   "id": "9c7fd425-7783-4431-86ec-3b2d88057edc",
   "metadata": {},
   "outputs": [
    {
     "name": "stdout",
     "output_type": "stream",
     "text": [
      "[30, 55, 88, 100, 54, 32]\n"
     ]
    }
   ],
   "source": [
    "def grace_marks(n):\n",
    "    new_marks=[]\n",
    "    for i in n:\n",
    "        new_marks.append(i+10)\n",
    "    return new_marks\n",
    "print(grace_marks([20,45,78,90,44,22]))"
   ]
  },
  {
   "cell_type": "code",
   "execution_count": null,
   "id": "fb206e21-7858-437b-adba-efc18e68075d",
   "metadata": {},
   "outputs": [],
   "source": [
    "# Wap to transform the give array [20,45,78,90,44,22] to [0,0,0,0,0,0]."
   ]
  },
  {
   "cell_type": "code",
   "execution_count": null,
   "id": "34432839-57ca-4d53-adc8-5806e60ce8ec",
   "metadata": {},
   "outputs": [],
   "source": [
    "# [0,0,0,0,0,0] zeros\n",
    "# [1,1,1,1,1,1] ones\n",
    "# [-1,-1,-1,-1,-1] negative ones"
   ]
  },
  {
   "cell_type": "code",
   "execution_count": 88,
   "id": "304f47b1-d23a-4ec2-8e7f-598204b180e5",
   "metadata": {},
   "outputs": [
    {
     "name": "stdout",
     "output_type": "stream",
     "text": [
      "['aman-HR', 'shubham-DEVELOPER', 'shivam-MANAGER', 'kamal-TL']\n"
     ]
    }
   ],
   "source": [
    "import random\n",
    "emp=[\"aman\",\"shubham\",\"shivam\",\"kamal\",\"abhisek\"]\n",
    "tags=[\"HR\",\"DEVELOPER\",\"MANAGER\",\"TL\"]\n",
    "random.choice(tags)\n",
    "res=[f\"{i}-{j}\" for i,j in zip(emp,tags)]\n",
    "print(res)"
   ]
  },
  {
   "cell_type": "code",
   "execution_count": 79,
   "id": "ac5e77b4-35f1-419c-a75c-1ce93263dfa5",
   "metadata": {},
   "outputs": [
    {
     "name": "stdout",
     "output_type": "stream",
     "text": [
      "['aman-HR', 'shubham-TL', 'shivam-DEVELOPER', 'kamal-MANAGER', 'abhisek-HR']\n"
     ]
    }
   ],
   "source": [
    "import random\n",
    "emp=[\"aman\",\"shubham\",\"shivam\",\"kamal\",\"abhisek\"]\n",
    "tags=[\"HR\",\"DEVELOPER\",\"MANAGER\",\"TL\"]\n",
    "new_list=[]\n",
    "random.shuffle(tags)\n",
    "for i in range(len(emp)):\n",
    "    new_list.append(emp[i]+\"-\"+tags[i-1])\n",
    "print(new_list)"
   ]
  },
  {
   "cell_type": "code",
   "execution_count": 84,
   "id": "a505b371-1ba8-4b9c-9b4e-9864f69b216c",
   "metadata": {},
   "outputs": [
    {
     "ename": "IndexError",
     "evalue": "list index out of range",
     "output_type": "error",
     "traceback": [
      "\u001b[1;31m---------------------------------------------------------------------------\u001b[0m",
      "\u001b[1;31mIndexError\u001b[0m                                Traceback (most recent call last)",
      "Cell \u001b[1;32mIn[84], line 5\u001b[0m\n\u001b[0;32m      3\u001b[0m tags\u001b[38;5;241m=\u001b[39m[\u001b[38;5;124m\"\u001b[39m\u001b[38;5;124mHR\u001b[39m\u001b[38;5;124m\"\u001b[39m,\u001b[38;5;124m\"\u001b[39m\u001b[38;5;124mDEVELOPER\u001b[39m\u001b[38;5;124m\"\u001b[39m,\u001b[38;5;124m\"\u001b[39m\u001b[38;5;124mMANAGER\u001b[39m\u001b[38;5;124m\"\u001b[39m,\u001b[38;5;124m\"\u001b[39m\u001b[38;5;124mTL\u001b[39m\u001b[38;5;124m\"\u001b[39m]\n\u001b[0;32m      4\u001b[0m random\u001b[38;5;241m.\u001b[39mshuffle(tags)\n\u001b[1;32m----> 5\u001b[0m new_list\u001b[38;5;241m=\u001b[39m\u001b[38;5;28;43mlist\u001b[39;49m\u001b[43m(\u001b[49m\u001b[38;5;28;43mmap\u001b[39;49m\u001b[43m(\u001b[49m\u001b[38;5;28;43;01mlambda\u001b[39;49;00m\u001b[43m \u001b[49m\u001b[43mi\u001b[49m\u001b[43m:\u001b[49m\u001b[43memp\u001b[49m\u001b[43m[\u001b[49m\u001b[43mi\u001b[49m\u001b[43m]\u001b[49m\u001b[38;5;241;43m+\u001b[39;49m\u001b[38;5;124;43m\"\u001b[39;49m\u001b[38;5;124;43m-\u001b[39;49m\u001b[38;5;124;43m\"\u001b[39;49m\u001b[38;5;241;43m+\u001b[39;49m\u001b[43mtags\u001b[49m\u001b[43m[\u001b[49m\u001b[43mi\u001b[49m\u001b[43m]\u001b[49m\u001b[43m,\u001b[49m\u001b[38;5;28;43mrange\u001b[39;49m\u001b[43m(\u001b[49m\u001b[38;5;28;43mlen\u001b[39;49m\u001b[43m(\u001b[49m\u001b[43memp\u001b[49m\u001b[43m)\u001b[49m\u001b[43m)\u001b[49m\u001b[43m)\u001b[49m\u001b[43m)\u001b[49m\n\u001b[0;32m      6\u001b[0m \u001b[38;5;28mprint\u001b[39m(new_list)\n",
      "Cell \u001b[1;32mIn[84], line 5\u001b[0m, in \u001b[0;36m<lambda>\u001b[1;34m(i)\u001b[0m\n\u001b[0;32m      3\u001b[0m tags\u001b[38;5;241m=\u001b[39m[\u001b[38;5;124m\"\u001b[39m\u001b[38;5;124mHR\u001b[39m\u001b[38;5;124m\"\u001b[39m,\u001b[38;5;124m\"\u001b[39m\u001b[38;5;124mDEVELOPER\u001b[39m\u001b[38;5;124m\"\u001b[39m,\u001b[38;5;124m\"\u001b[39m\u001b[38;5;124mMANAGER\u001b[39m\u001b[38;5;124m\"\u001b[39m,\u001b[38;5;124m\"\u001b[39m\u001b[38;5;124mTL\u001b[39m\u001b[38;5;124m\"\u001b[39m]\n\u001b[0;32m      4\u001b[0m random\u001b[38;5;241m.\u001b[39mshuffle(tags)\n\u001b[1;32m----> 5\u001b[0m new_list\u001b[38;5;241m=\u001b[39m\u001b[38;5;28mlist\u001b[39m(\u001b[38;5;28mmap\u001b[39m(\u001b[38;5;28;01mlambda\u001b[39;00m i:emp[i]\u001b[38;5;241m+\u001b[39m\u001b[38;5;124m\"\u001b[39m\u001b[38;5;124m-\u001b[39m\u001b[38;5;124m\"\u001b[39m\u001b[38;5;241m+\u001b[39m\u001b[43mtags\u001b[49m\u001b[43m[\u001b[49m\u001b[43mi\u001b[49m\u001b[43m]\u001b[49m,\u001b[38;5;28mrange\u001b[39m(\u001b[38;5;28mlen\u001b[39m(emp))))\n\u001b[0;32m      6\u001b[0m \u001b[38;5;28mprint\u001b[39m(new_list)\n",
      "\u001b[1;31mIndexError\u001b[0m: list index out of range"
     ]
    }
   ],
   "source": [
    "import random\n",
    "emp=[\"aman\",\"shubham\",\"shivam\",\"kamal\",\"abhisek\"]\n",
    "tags=[\"HR\",\"DEVELOPER\",\"MANAGER\",\"TL\"]\n",
    "random.shuffle(tags)\n",
    "new_list=list(map(lambda i:emp[i]+\"-\"+tags[i],range(len(emp))))\n",
    "print(new_list)\n"
   ]
  },
  {
   "cell_type": "code",
   "execution_count": null,
   "id": "22bf687f-f16b-4704-9c1a-ccdb6499bca5",
   "metadata": {},
   "outputs": [],
   "source": [
    "emp=[\"aman\",\"shubham\",\"shivam\",\"kamal\",\"abhisek\"]\n",
    "res1=[\"AMAN\",\"SHUBHAM\",\"SHIVAM\",\"KAMAL\",\"ABHISEK\"]\n",
    "res1=[\"AMan\",\"SHubHAM\",\"shivam\",\"KAmal\",\"AbhiShek\"] # find total upper count tottal lower count."
   ]
  },
  {
   "cell_type": "code",
   "execution_count": 12,
   "id": "c61359c5-db8a-4cfa-ac32-3b5e28599412",
   "metadata": {},
   "outputs": [
    {
     "name": "stdout",
     "output_type": "stream",
     "text": [
      "11\n",
      "19\n"
     ]
    }
   ],
   "source": [
    "res1=[\"AMan\",\"SHubHAM\",\"shivam\",\"KAmal\",\"AbhiShek\"] # find total upper count tottal lower count.\n",
    "all_char=\"\".join(res1)\n",
    "upper=len(list(filter(lambda ch:ch.isupper(),all_char)))\n",
    "lower=len(list(filter(lambda ch:ch.islower(),all_char)))\n",
    "print(upper)\n",
    "print(lower)\n"
   ]
  },
  {
   "cell_type": "code",
   "execution_count": 13,
   "id": "dd07a53b-62cf-4689-8ca8-8c824fba1839",
   "metadata": {},
   "outputs": [
    {
     "name": "stdout",
     "output_type": "stream",
     "text": [
      "['THEMTHEN', 'SHUBHTHEM', 'SHIVTHEM', 'KTHEMTHEL', 'THEBHISEK']\n"
     ]
    }
   ],
   "source": [
    "res1=[\"AMAN\",\"SHUBHAM\",\"SHIVAM\",\"KAMAL\",\"ABHISEK\"] \n",
    "res=list(map(lambda x:x.replace(\"A\",\"THE\"),res1))\n",
    "print(res)"
   ]
  },
  {
   "cell_type": "code",
   "execution_count": 36,
   "id": "375d2d04-babc-4b33-b02b-1c2f35e72071",
   "metadata": {},
   "outputs": [
    {
     "name": "stdout",
     "output_type": "stream",
     "text": [
      "Product with a:['apple', 'realme']\n",
      "Product with i:['iphone', 'vivo', 'nothing']\n",
      "Product Unable to found with :z \n"
     ]
    }
   ],
   "source": [
    "prod_list=[\"iphone\",\"vivo\",\"apple\",\"oppo\",\"oneplus\",\"nothing\",\"realme\"]\n",
    "user_char=\"aiz\"\n",
    "for i in user_char:\n",
    "    res=list(filter(lambda x:i in x,prod_list))\n",
    "    if res==[]:\n",
    "        print(f\"Product Unable to found with :{i} \")\n",
    "    else:\n",
    "        print(f\"Product with {i}:{res}\")"
   ]
  },
  {
   "cell_type": "code",
   "execution_count": 1,
   "id": "9dc3ff67-94e9-4f4b-a614-a2a5602b88a7",
   "metadata": {},
   "outputs": [],
   "source": [
    "from functools import reduce\n",
    "# reduce : HOF\n",
    "# a function that take two args .\n",
    "# a sequence (like list)\n",
    "# an optional initalizer\n",
    "# then is applies the commulatively (step by step) to the itesm seq.\n"
   ]
  },
  {
   "cell_type": "code",
   "execution_count": 28,
   "id": "7d3fc7b9-7dad-4ea0-842e-265123315130",
   "metadata": {},
   "outputs": [
    {
     "name": "stdout",
     "output_type": "stream",
     "text": [
      "12\n"
     ]
    }
   ],
   "source": [
    "my_list=[1,2,3]\n",
    "res=reduce(lambda x,y:x*y,my_list,5)\n",
    "print(res)"
   ]
  },
  {
   "cell_type": "code",
   "execution_count": 20,
   "id": "4468a029-9162-43f9-be30-f8c49da3d740",
   "metadata": {},
   "outputs": [
    {
     "name": "stdout",
     "output_type": "stream",
     "text": [
      "15\n"
     ]
    }
   ],
   "source": [
    "my_list=[1,2,3,4,5]\n",
    "s=0\n",
    "for i in my_list:\n",
    "    s=s+i\n",
    "print(s)"
   ]
  },
  {
   "cell_type": "code",
   "execution_count": 43,
   "id": "8fa67063-dadd-411f-b0cb-7360946a73e3",
   "metadata": {},
   "outputs": [
    {
     "name": "stdout",
     "output_type": "stream",
     "text": [
      "16\n"
     ]
    }
   ],
   "source": [
    "# gcd.\n",
    "import math\n",
    "num=[48,64,80]\n",
    "gcd=reduce(math.gcd,num)\n",
    "print(gcd)"
   ]
  },
  {
   "cell_type": "code",
   "execution_count": 50,
   "id": "f8e0684d-ca30-464d-9afa-141f76cbc75c",
   "metadata": {},
   "outputs": [
    {
     "name": "stdout",
     "output_type": "stream",
     "text": [
      "[767, 1, 2, 4, 5, 67, 30, 40, 90]\n"
     ]
    }
   ],
   "source": [
    "my_list=[[1,2],[4,5],[67],[30,40,90]]\n",
    "flat=reduce(lambda x,y:x+y,my_list,[767])\n",
    "print(flat)"
   ]
  },
  {
   "cell_type": "code",
   "execution_count": 49,
   "id": "c4ef8010-e35c-41b8-b585-2f6a13c94f7b",
   "metadata": {},
   "outputs": [
    {
     "name": "stdout",
     "output_type": "stream",
     "text": [
      "hello python is awesome\n"
     ]
    }
   ],
   "source": [
    "word=[\"python\",\"is\",\"awesome\"]\n",
    "sen=reduce(lambda x,y:x+\" \"+y,word,\"hello\")\n",
    "print(sen)\n"
   ]
  },
  {
   "cell_type": "code",
   "execution_count": 63,
   "id": "909478fa-7ef6-407b-a7f7-94535bdc12af",
   "metadata": {},
   "outputs": [
    {
     "name": "stdout",
     "output_type": "stream",
     "text": [
      "True\n"
     ]
    }
   ],
   "source": [
    "emp_id=[3,30,44,60,8]\n",
    "all_even=reduce(lambda x,y:x and y %2 == 0,emp_id)\n",
    "print(all_even)"
   ]
  },
  {
   "cell_type": "code",
   "execution_count": 61,
   "id": "12d44bfa-7b12-4c3e-8ba7-a58a6a0ce7f6",
   "metadata": {},
   "outputs": [
    {
     "name": "stdout",
     "output_type": "stream",
     "text": [
      "120\n"
     ]
    }
   ],
   "source": [
    "emp_balance=[100,-20,50,-10]\n",
    "balance=reduce(lambda x,y:x+y,emp_balance)\n",
    "print(balance)"
   ]
  }
 ],
 "metadata": {
  "kernelspec": {
   "display_name": "Python 3 (ipykernel)",
   "language": "python",
   "name": "python3"
  },
  "language_info": {
   "codemirror_mode": {
    "name": "ipython",
    "version": 3
   },
   "file_extension": ".py",
   "mimetype": "text/x-python",
   "name": "python",
   "nbconvert_exporter": "python",
   "pygments_lexer": "ipython3",
   "version": "3.13.5"
  }
 },
 "nbformat": 4,
 "nbformat_minor": 5
}
