{
 "cells": [
  {
   "cell_type": "code",
   "execution_count": null,
   "id": "8a36fd89-922a-4b19-bf02-2a96c03fd9c0",
   "metadata": {},
   "outputs": [],
   "source": [
    "# ----------------- Function in python\n",
    "# 1.Every function has thier own purpose.\n",
    "# 2.Fuction is a block of code.\n",
    "# 3.Functional programming is very easy to find and debug the error.\n",
    "# 4.Fuction are reusable as per need.\n",
    "\n",
    "# Fuction type function\n",
    "# 1.In-built method\n",
    "# 2.UDF (User-defined-function)\n",
    "\n",
    "# Parameters and arguments (args) \n",
    "# 1.Default parameters\n",
    "# 2.Positional arguments\n",
    "# 3.Keyword arguments\n",
    "# 4.Arbitrary arguments\n",
    "\n",
    "# Categories of function\n",
    "# 1.Take nothing return nothing\n",
    "# 2.Take nothing return something\n",
    "# 3.Take something return nothing\n",
    "# 4.Take something return something\n",
    "\n",
    "# lambda function (anonymous function)\n",
    "# HOF : Higher order functions(filter(),map(),reduce())\n",
    "\n",
    "# Assignment"
   ]
  },
  {
   "cell_type": "code",
   "execution_count": 2,
   "id": "690c044a-a66c-41e7-9f08-0bbca46511a7",
   "metadata": {},
   "outputs": [
    {
     "name": "stdout",
     "output_type": "stream",
     "text": [
      "outside the function\n",
      "I am function\n"
     ]
    }
   ],
   "source": [
    "# defination \n",
    "def fun():\n",
    "    print(\"I am function\")\n",
    "print(\"outside the function\")\n",
    "fun() # calling\n"
   ]
  },
  {
   "cell_type": "code",
   "execution_count": 4,
   "id": "5adec6ff-1d80-4aea-a03f-e9d625a2dc6e",
   "metadata": {},
   "outputs": [
    {
     "name": "stdout",
     "output_type": "stream",
     "text": [
      "30\n"
     ]
    }
   ],
   "source": [
    "# 1.Take nothing return nothing\n",
    "def add():\n",
    "    a=10\n",
    "    b=20\n",
    "    c=a+b\n",
    "    print(c)\n",
    "add()"
   ]
  },
  {
   "cell_type": "code",
   "execution_count": 36,
   "id": "1536dfca-5aef-482b-9b91-f66abec44727",
   "metadata": {},
   "outputs": [
    {
     "name": "stdout",
     "output_type": "stream",
     "text": [
      "name :10\n",
      "age :dev\n"
     ]
    }
   ],
   "source": [
    "# parameter and arguments\n",
    "# positional args.\n",
    "def odd_even(name,age):\n",
    "    print(f\"name :{name}\")\n",
    "    print(f\"age :{age}\")\n",
    "odd_even(10,\"dev\")"
   ]
  },
  {
   "cell_type": "code",
   "execution_count": 21,
   "id": "b48956ff-ca0f-465e-9388-77e4e6457f8c",
   "metadata": {},
   "outputs": [
    {
     "name": "stdout",
     "output_type": "stream",
     "text": [
      "a :200\n",
      "b :300\n"
     ]
    }
   ],
   "source": [
    "# default parameter\n",
    "def odd_even(a=0,b=0,c=0):\n",
    "    print(f\"a :{a}\")\n",
    "    print(f\"b :{b}\")\n",
    "odd_even(200,300,90)"
   ]
  },
  {
   "cell_type": "code",
   "execution_count": 25,
   "id": "e49beb1f-7287-4ba7-92e8-543c1f8f40eb",
   "metadata": {},
   "outputs": [
    {
     "name": "stdout",
     "output_type": "stream",
     "text": [
      "Student ID:12345\n",
      "Student Name:Dev\n",
      "Student Roll:450\n",
      "Student Mob:8900000\n"
     ]
    }
   ],
   "source": [
    "# keyword args\n",
    "def stu_profile(sid,sname,sroll,smob):\n",
    "    print(f\"Student ID:{sid}\")\n",
    "    print(f\"Student Name:{sname}\")\n",
    "    print(f\"Student Roll:{sroll}\")\n",
    "    print(f\"Student Mob:{smob}\")\n",
    "stu_profile(smob=8900000,sname=\"Dev\",sid=12345,sroll=450)"
   ]
  },
  {
   "cell_type": "code",
   "execution_count": 32,
   "id": "dddd34d4-1cc6-406d-b139-7658874cc493",
   "metadata": {},
   "outputs": [
    {
     "name": "stdout",
     "output_type": "stream",
     "text": [
      "{'smob': 8900000, 'sname': 'Dev', 'sid': 12345, 'sroll': 450}\n",
      "Student ID:N/A\n",
      "Student Name:Dev\n",
      "Student Roll:450\n",
      "Student Mob:8900000\n"
     ]
    }
   ],
   "source": [
    "def stu_profile(**kwargs):\n",
    "    print(kwargs)\n",
    "    print(f\"Student ID:{kwargs.get(\"sid\",\"N/A\")}\")\n",
    "    print(f\"Student Name:{kwargs.get(\"sname\",\"N/A\")}\")\n",
    "    print(f\"Student Roll:{kwargs.get(\"sroll\",\"N/A\")}\")\n",
    "    print(f\"Student Mob:{kwargs.get(\"smob\",\"N/A\")}\")\n",
    "stu_profile(smob=8900000,sname=\"Dev\",sid=12345,sroll=450)"
   ]
  },
  {
   "cell_type": "code",
   "execution_count": 10,
   "id": "c25e305b-5553-4c5b-af76-2c98e2c61eb9",
   "metadata": {},
   "outputs": [
    {
     "name": "stdout",
     "output_type": "stream",
     "text": [
      "(10, 20, 30, 40)\n",
      "240000\n"
     ]
    }
   ],
   "source": [
    "# 4.Arbitrary arguments\n",
    "import math\n",
    "def multiply(*args):\n",
    "    print(n)\n",
    "    print(math.prod(n))\n",
    "multiply(10,20,30,40)"
   ]
  },
  {
   "cell_type": "code",
   "execution_count": 12,
   "id": "097acee6-20e1-4016-8355-2f0a1bcf845f",
   "metadata": {},
   "outputs": [
    {
     "name": "stdout",
     "output_type": "stream",
     "text": [
      "240000\n"
     ]
    }
   ],
   "source": [
    "# 4.Arbitrary arguments\n",
    "def multiply(*n):\n",
    "    m=1\n",
    "    for i in n:\n",
    "        m=m*i\n",
    "    print(m)\n",
    "multiply(10,20,30,40)"
   ]
  },
  {
   "cell_type": "code",
   "execution_count": 7,
   "id": "590332c8-4734-4560-b750-d05c5762280b",
   "metadata": {},
   "outputs": [
    {
     "name": "stdout",
     "output_type": "stream",
     "text": [
      "100\n"
     ]
    }
   ],
   "source": [
    "# 4.Take something return something.\n",
    "def my_money(price):\n",
    "    return price\n",
    "res=my_money(100)\n",
    "print(res)"
   ]
  },
  {
   "cell_type": "code",
   "execution_count": 8,
   "id": "5e4b5dc2-a54f-4907-b947-2ae16d36a8d1",
   "metadata": {},
   "outputs": [
    {
     "name": "stdout",
     "output_type": "stream",
     "text": [
      "100\n"
     ]
    }
   ],
   "source": [
    "# 3.Take something return nothing\n",
    "def my_money(price):\n",
    "    print(price)\n",
    "my_money(100)\n"
   ]
  },
  {
   "cell_type": "code",
   "execution_count": 10,
   "id": "5288be1d-8d50-4441-8f25-0b4f8118f439",
   "metadata": {},
   "outputs": [
    {
     "name": "stdout",
     "output_type": "stream",
     "text": [
      "50\n"
     ]
    }
   ],
   "source": [
    "# 2.Take nothing return something\n",
    "def my_money():\n",
    "    a=20\n",
    "    b=30\n",
    "    return a+b\n",
    "r=my_money()\n",
    "print(r)"
   ]
  },
  {
   "cell_type": "code",
   "execution_count": 14,
   "id": "1435e4c1-8e37-4c0f-a3a8-6fdc7ad0589f",
   "metadata": {},
   "outputs": [
    {
     "name": "stdout",
     "output_type": "stream",
     "text": [
      "dev@1234\n",
      "dev@1234\n",
      "dev@1234\n"
     ]
    }
   ],
   "source": [
    "# Global and local scope.\n",
    "user_pass=\"dev@1234\"\n",
    "def login():\n",
    "    print(user_pass)\n",
    "print(user_pass)\n",
    "login()\n",
    "print(user_pass)"
   ]
  },
  {
   "cell_type": "code",
   "execution_count": 9,
   "id": "baded9c7-6294-4585-aba6-6d52433c3720",
   "metadata": {},
   "outputs": [
    {
     "name": "stdout",
     "output_type": "stream",
     "text": [
      "dev@1234\n",
      "dev@1234\n",
      "dev@1234\n"
     ]
    }
   ],
   "source": [
    "# Global and local scope.\n",
    "\n",
    "def login():\n",
    "    global user_pass\n",
    "    user_pass=\"dev@1234\"\n",
    "    print(user_pass)\n",
    "\n",
    "login()\n",
    "\n",
    "login()\n",
    "print(user_pass)"
   ]
  },
  {
   "cell_type": "code",
   "execution_count": 21,
   "id": "e99129ff-a328-4ce5-884b-fb02016994c0",
   "metadata": {},
   "outputs": [
    {
     "name": "stdout",
     "output_type": "stream",
     "text": [
      "30\n"
     ]
    }
   ],
   "source": [
    "# lambda function (anonymous function).\n",
    "s=lambda :10+20\n",
    "print(s())"
   ]
  },
  {
   "cell_type": "code",
   "execution_count": 1,
   "id": "70b42059-ddab-481b-a869-a9e76a265119",
   "metadata": {},
   "outputs": [
    {
     "name": "stdout",
     "output_type": "stream",
     "text": [
      "Even\n"
     ]
    }
   ],
   "source": [
    "# Wap to check number is given by user is odd or even using lambda\n",
    "check=lambda x:\"Even\" if x%2==0 else \"Odd\"\n",
    "print(check(10))"
   ]
  },
  {
   "cell_type": "code",
   "execution_count": 3,
   "id": "fe135329-fec9-4656-b602-b2e5f4b18d1e",
   "metadata": {},
   "outputs": [
    {
     "name": "stdout",
     "output_type": "stream",
     "text": [
      "Even\n"
     ]
    }
   ],
   "source": [
    "def check(n):\n",
    "    if n%2==0:\n",
    "        return \"Even\"\n",
    "    else:\n",
    "        return \"ODD\"\n",
    "print(check(10))"
   ]
  },
  {
   "cell_type": "code",
   "execution_count": 5,
   "id": "9604e7eb-7054-419f-8656-685fd22c0c29",
   "metadata": {},
   "outputs": [
    {
     "name": "stdout",
     "output_type": "stream",
     "text": [
      "30\n",
      "-10\n",
      "200\n",
      "0.5\n",
      "10\n"
     ]
    }
   ],
   "source": [
    "def calculator(a,b):\n",
    "    print(a+b)\n",
    "    print(a-b)\n",
    "    print(a*b)\n",
    "    print(a/b)\n",
    "    print(a%b)\n",
    "calculator(10,20)"
   ]
  },
  {
   "cell_type": "code",
   "execution_count": 10,
   "id": "66348b66-65d4-4338-98ab-07517f28ca7a",
   "metadata": {},
   "outputs": [
    {
     "name": "stdout",
     "output_type": "stream",
     "text": [
      "(-10, 30, 10, 0.5)\n"
     ]
    }
   ],
   "source": [
    "cal=lambda a,b:(a-b,a+b,a%b,a/b)\n",
    "res=cal(10,20)\n",
    "print(res)"
   ]
  },
  {
   "cell_type": "code",
   "execution_count": 16,
   "id": "cb1bd7af-7e03-461f-8bd6-4236a0ee7f39",
   "metadata": {},
   "outputs": [
    {
     "name": "stdout",
     "output_type": "stream",
     "text": [
      "([89, 90], [12, 45, 44, 33])\n"
     ]
    }
   ],
   "source": [
    "res=lambda x:([i for i in x if i>=50],[i for i in x if i<=50])\n",
    "print(res([12,89,45,90,44,33]))"
   ]
  },
  {
   "cell_type": "code",
   "execution_count": 15,
   "id": "3df04cb3-68ec-4f5c-8879-1df44233786d",
   "metadata": {},
   "outputs": [
    {
     "name": "stdout",
     "output_type": "stream",
     "text": [
      "[89, 90]\n"
     ]
    }
   ],
   "source": [
    "def check_pass(n):\n",
    "    new=[]\n",
    "    for i in n:\n",
    "        if i>=50:\n",
    "            new.append(i)\n",
    "    return new\n",
    "res=check_pass([12,89,45,90,44,33])\n",
    "print(res)"
   ]
  },
  {
   "cell_type": "code",
   "execution_count": 19,
   "id": "9212b9ba-8320-4c29-b679-69ce87cfaf34",
   "metadata": {},
   "outputs": [],
   "source": [
    "# HOF : Higher order functions(filter(),map(),reduce())\n",
    "# Higher order functions are functions that take another function as its argument\n",
    "# and that function passed as argument known as callback function.\n",
    "# return values as list , tuple , set.\n",
    "# filter(fun,iterator)\n",
    "# map(fun,iterator)\n",
    "# reduce(fun,iterator)"
   ]
  },
  {
   "cell_type": "code",
   "execution_count": 30,
   "id": "5d8e1b2d-e525-4ec6-b00c-c3148e9a7398",
   "metadata": {},
   "outputs": [
    {
     "name": "stdout",
     "output_type": "stream",
     "text": [
      "[89, 90]\n"
     ]
    }
   ],
   "source": [
    "def check_pass(n):\n",
    "    if n>=50:\n",
    "        return n\n",
    "marks=(12,89,45,90,44,33)\n",
    "res=(list(filter(check_pass,marks)))\n",
    "print(res)"
   ]
  },
  {
   "cell_type": "code",
   "execution_count": 37,
   "id": "185f1465-e197-4ce6-b96c-26b081bf382a",
   "metadata": {},
   "outputs": [
    {
     "name": "stdout",
     "output_type": "stream",
     "text": [
      "[12, 89, 45, 90, 44, 33]\n"
     ]
    }
   ],
   "source": [
    "# print((list(filter(lambda x:x>=50,(12,89,45,90,44,33)))))\n",
    "print((list(filter(lambda x:(x>=50),(12,89,45,90,44,33)))))\n"
   ]
  },
  {
   "cell_type": "code",
   "execution_count": 22,
   "id": "d37434e9-f209-478c-a2bd-d26b681492c2",
   "metadata": {},
   "outputs": [
    {
     "name": "stdout",
     "output_type": "stream",
     "text": [
      "[89, 90]\n"
     ]
    }
   ],
   "source": [
    "def check_pass(n):\n",
    "    new_marks=[]\n",
    "    for i in n:\n",
    "        if i>=50:\n",
    "            new_marks.append(i)\n",
    "    return new_marks\n",
    "res=check_pass([12,89,45,90,44,33])\n",
    "print(res)"
   ]
  },
  {
   "cell_type": "code",
   "execution_count": 26,
   "id": "b8083f03-431c-4ca4-a0d9-94ac09d47ff0",
   "metadata": {},
   "outputs": [
    {
     "name": "stdout",
     "output_type": "stream",
     "text": [
      "60\n"
     ]
    }
   ],
   "source": [
    "def check_pass(n):\n",
    "    if n>=50:\n",
    "        return n\n",
    "\n",
    "res=check_pass(60)\n",
    "print(res)"
   ]
  }
 ],
 "metadata": {
  "kernelspec": {
   "display_name": "Python 3 (ipykernel)",
   "language": "python",
   "name": "python3"
  },
  "language_info": {
   "codemirror_mode": {
    "name": "ipython",
    "version": 3
   },
   "file_extension": ".py",
   "mimetype": "text/x-python",
   "name": "python",
   "nbconvert_exporter": "python",
   "pygments_lexer": "ipython3",
   "version": "3.13.5"
  }
 },
 "nbformat": 4,
 "nbformat_minor": 5
}
