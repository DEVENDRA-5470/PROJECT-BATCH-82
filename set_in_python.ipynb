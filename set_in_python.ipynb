{
 "cells": [
  {
   "cell_type": "code",
   "execution_count": null,
   "id": "04f3fcbd-485a-425f-9d80-bb3fe9044524",
   "metadata": {},
   "outputs": [],
   "source": [
    "# ---------------------- Set\n",
    "# Defination and properties\n",
    "# Creation\n",
    "# Accessing\n",
    "# Modification \n",
    "# slicing\n",
    "# Traversing\n",
    "# Built-in-methods\n",
    "# Assignment."
   ]
  }
 ],
 "metadata": {
  "kernelspec": {
   "display_name": "Python 3 (ipykernel)",
   "language": "python",
   "name": "python3"
  },
  "language_info": {
   "codemirror_mode": {
    "name": "ipython",
    "version": 3
   },
   "file_extension": ".py",
   "mimetype": "text/x-python",
   "name": "python",
   "nbconvert_exporter": "python",
   "pygments_lexer": "ipython3",
   "version": "3.13.5"
  }
 },
 "nbformat": 4,
 "nbformat_minor": 5
}
