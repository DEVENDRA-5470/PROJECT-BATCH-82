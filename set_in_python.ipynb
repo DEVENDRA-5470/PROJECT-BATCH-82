{
 "cells": [
  {
   "cell_type": "code",
   "execution_count": null,
   "id": "04f3fcbd-485a-425f-9d80-bb3fe9044524",
   "metadata": {},
   "outputs": [],
   "source": [
    "# ---------------------- Set\n",
    "# Defination and properties\n",
    "# Creation\n",
    "# Accessing ❌\n",
    "# Modification ❌\n",
    "# slicing ❌\n",
    "# Traversing\n",
    "# Built-in-methods\n",
    "# Assignment."
   ]
  },
  {
   "cell_type": "code",
   "execution_count": 2,
   "id": "b4f63257-fb62-45df-a7ed-2b195913bec9",
   "metadata": {},
   "outputs": [],
   "source": [
    "# Defination and properties\n",
    "# 1.Set is a data structure in python user store unique values.\n",
    "# 2.Set does not allow duplicate values.\n",
    "# 3.Set are unordered and unindixed and immutable"
   ]
  },
  {
   "cell_type": "code",
   "execution_count": 5,
   "id": "088235f4-347e-4140-b6d1-320927096cc1",
   "metadata": {},
   "outputs": [
    {
     "name": "stdout",
     "output_type": "stream",
     "text": [
      "{1, 'b', 2, 'c', 10, 12, 'a'}\n"
     ]
    }
   ],
   "source": [
    "# Creation\n",
    "# 1.Using {}\n",
    "set1={\"a\",\"b\",\"c\",1,2,10,2,12,10}\n",
    "print(set1)\n",
    "# print(set1[0]) "
   ]
  },
  {
   "cell_type": "code",
   "execution_count": 14,
   "id": "854b8e66-8501-4337-b4f7-a53f4100fb32",
   "metadata": {},
   "outputs": [
    {
     "name": "stdout",
     "output_type": "stream",
     "text": [
      "{1, 2}\n"
     ]
    }
   ],
   "source": [
    "# 2.Using set()\n",
    "set2=set([1,1,1,1,1,1,2])\n",
    "print(set2)"
   ]
  },
  {
   "cell_type": "code",
   "execution_count": 20,
   "id": "75a41169-4de1-4c39-b1de-364976e3745b",
   "metadata": {},
   "outputs": [
    {
     "name": "stdout",
     "output_type": "stream",
     "text": [
      "(0, 1)\n",
      "(1, 'b')\n",
      "(2, 2)\n",
      "(3, 'c')\n",
      "(4, 10)\n",
      "(5, 12)\n",
      "(6, 'a')\n"
     ]
    }
   ],
   "source": [
    "# Traversing\n",
    "# set1={\"a\",\"b\",\"c\",1,2,10,2,12,10}\n",
    "# for i in range(len(set1)):\n",
    "#     print(set1[i])\n",
    "\n",
    "# set1={\"a\",\"b\",\"c\",1,2,10,2,12,10}\n",
    "# for i in enumerate(set1):\n",
    "#     print(i)"
   ]
  },
  {
   "cell_type": "code",
   "execution_count": 21,
   "id": "e6fbbe35-cbf4-46ab-830e-269aeda88867",
   "metadata": {},
   "outputs": [
    {
     "name": "stdout",
     "output_type": "stream",
     "text": [
      "{1, 2, 3, 4, 5, 6, 7, 10, 20, 23}\n"
     ]
    }
   ],
   "source": [
    "# Built-in-methods\n",
    "s1={1,2,3,4,5,6,7}\n",
    "s2={10,20,1,23,6,4}\n",
    "res=s1.union(s2)\n",
    "print(res)"
   ]
  },
  {
   "cell_type": "code",
   "execution_count": 22,
   "id": "0e5dd6c9-7110-4f35-ac51-11b57fa1e278",
   "metadata": {},
   "outputs": [
    {
     "name": "stdout",
     "output_type": "stream",
     "text": [
      "{1, 4, 6}\n"
     ]
    }
   ],
   "source": [
    "s1={1,2,3,4,5,6,7}\n",
    "s2={10,20,1,23,6,4}\n",
    "res=s1.intersection(s2)\n",
    "print(res)"
   ]
  },
  {
   "cell_type": "code",
   "execution_count": 31,
   "id": "82a26d21-ac69-4b25-b56d-d8ebbdf944bd",
   "metadata": {},
   "outputs": [
    {
     "name": "stdout",
     "output_type": "stream",
     "text": [
      "{'e', 'd'}\n"
     ]
    }
   ],
   "source": [
    "s1={\"a\",\"b\",\"c\",\"d\"}\n",
    "s2={\"a\",\"b\",\"c\",\"e\"}\n",
    "res=s2.symmetric_difference(s1)\n",
    "print(res)"
   ]
  },
  {
   "cell_type": "code",
   "execution_count": 33,
   "id": "311de553-f954-4c69-964b-3ee09a635501",
   "metadata": {},
   "outputs": [
    {
     "name": "stdout",
     "output_type": "stream",
     "text": [
      "{'e'}\n"
     ]
    }
   ],
   "source": [
    "s1={\"a\",\"b\",\"c\",\"d\"}\n",
    "s2={\"a\",\"b\",\"c\",\"e\"}\n",
    "res=s2.difference(s1)\n",
    "print(res)"
   ]
  },
  {
   "cell_type": "code",
   "execution_count": 37,
   "id": "da5e1e06-3e7d-4ab4-b132-d020220aeb42",
   "metadata": {},
   "outputs": [
    {
     "name": "stdout",
     "output_type": "stream",
     "text": [
      "True\n"
     ]
    }
   ],
   "source": [
    "s1={\"a\",\"b\",\"c\",\"e\"}\n",
    "s2={\"a\",\"x\",\"c\",\"e\",\"m\",\"d\",\"b\"}\n",
    "res=s2.issuperset(s1)\n",
    "print(res)"
   ]
  },
  {
   "cell_type": "code",
   "execution_count": 39,
   "id": "935e3844-fa57-496b-a24c-d9e442c6bf2f",
   "metadata": {},
   "outputs": [
    {
     "name": "stdout",
     "output_type": "stream",
     "text": [
      "True\n"
     ]
    }
   ],
   "source": [
    "s1={\"a\",\"b\",\"c\",\"e\"}\n",
    "s2={\"a\",\"x\",\"c\",\"e\",\"m\",\"d\",\"b\"}\n",
    "res=s1.issubset(s2)\n",
    "print(res)"
   ]
  },
  {
   "cell_type": "code",
   "execution_count": 40,
   "id": "e069ce32-19bb-4115-a662-d3d50cb2781a",
   "metadata": {},
   "outputs": [
    {
     "name": "stdout",
     "output_type": "stream",
     "text": [
      "{'b', 'm', 'c', 'e', 'x', 'd', 'a'}\n"
     ]
    }
   ],
   "source": [
    "s1={\"a\",\"b\",\"c\",\"e\"}\n",
    "s2={\"a\",\"x\",\"c\",\"e\",\"m\",\"d\",\"b\"}\n",
    "s1.update(s2)\n",
    "print(s1)"
   ]
  },
  {
   "cell_type": "code",
   "execution_count": 42,
   "id": "6cddf435-b8f9-428a-bd25-1fc62dc5d267",
   "metadata": {},
   "outputs": [
    {
     "name": "stdout",
     "output_type": "stream",
     "text": [
      "{'m', 'c', 'python', 'a', 'b', 87978, 'e', 'x', 'd'}\n"
     ]
    }
   ],
   "source": [
    "s2={\"a\",\"x\",\"c\",\"e\",\"m\",\"d\",\"b\"}\n",
    "s2.add(87978)\n",
    "s2.add(\"python\")\n",
    "print(s2)"
   ]
  },
  {
   "cell_type": "code",
   "execution_count": 46,
   "id": "ccff5a82-9013-4cf5-8929-2f6fd14d3a74",
   "metadata": {},
   "outputs": [
    {
     "name": "stdout",
     "output_type": "stream",
     "text": [
      "{'e', 'x', 'd', 'a'}\n",
      "b m c\n"
     ]
    }
   ],
   "source": [
    "s2={\"a\",\"x\",\"c\",\"e\",\"m\",\"d\",\"b\"}\n",
    "d1=s2.pop()\n",
    "d2=s2.pop()\n",
    "d3=s2.pop()\n",
    "print(s2)\n",
    "print(d1,d2,d3)"
   ]
  },
  {
   "cell_type": "code",
   "execution_count": 55,
   "id": "7da4b343-ad90-415d-807d-42aadb0fe3af",
   "metadata": {},
   "outputs": [
    {
     "ename": "KeyError",
     "evalue": "'g'",
     "output_type": "error",
     "traceback": [
      "\u001b[1;31m---------------------------------------------------------------------------\u001b[0m",
      "\u001b[1;31mKeyError\u001b[0m                                  Traceback (most recent call last)",
      "Cell \u001b[1;32mIn[55], line 2\u001b[0m\n\u001b[0;32m      1\u001b[0m s2\u001b[38;5;241m=\u001b[39m{\u001b[38;5;124m\"\u001b[39m\u001b[38;5;124ma\u001b[39m\u001b[38;5;124m\"\u001b[39m,\u001b[38;5;124m\"\u001b[39m\u001b[38;5;124mx\u001b[39m\u001b[38;5;124m\"\u001b[39m,\u001b[38;5;124m\"\u001b[39m\u001b[38;5;124mc\u001b[39m\u001b[38;5;124m\"\u001b[39m,\u001b[38;5;124m\"\u001b[39m\u001b[38;5;124me\u001b[39m\u001b[38;5;124m\"\u001b[39m,\u001b[38;5;124m\"\u001b[39m\u001b[38;5;124mm\u001b[39m\u001b[38;5;124m\"\u001b[39m,\u001b[38;5;124m\"\u001b[39m\u001b[38;5;124md\u001b[39m\u001b[38;5;124m\"\u001b[39m,\u001b[38;5;124m\"\u001b[39m\u001b[38;5;124mb\u001b[39m\u001b[38;5;124m\"\u001b[39m}\n\u001b[1;32m----> 2\u001b[0m \u001b[43ms2\u001b[49m\u001b[38;5;241;43m.\u001b[39;49m\u001b[43mremove\u001b[49m\u001b[43m(\u001b[49m\u001b[38;5;124;43m'\u001b[39;49m\u001b[38;5;124;43mg\u001b[39;49m\u001b[38;5;124;43m'\u001b[39;49m\u001b[43m)\u001b[49m\n\u001b[0;32m      3\u001b[0m \u001b[38;5;28mprint\u001b[39m(s2)\n",
      "\u001b[1;31mKeyError\u001b[0m: 'g'"
     ]
    }
   ],
   "source": [
    "s2={\"a\",\"x\",\"c\",\"e\",\"m\",\"d\",\"b\"}\n",
    "s2.remove('g')\n",
    "print(s2)"
   ]
  },
  {
   "cell_type": "code",
   "execution_count": 61,
   "id": "515f3475-a198-4f0f-a6b9-19a9adc70a35",
   "metadata": {},
   "outputs": [
    {
     "name": "stdout",
     "output_type": "stream",
     "text": [
      "{'b', 'm', 'c', 'e', 'x', 'a'}\n"
     ]
    }
   ],
   "source": [
    "s2={\"a\",\"x\",\"c\",\"e\",\"m\",\"d\",\"b\"}\n",
    "s2.discard(\"d\")\n",
    "print(s2)"
   ]
  },
  {
   "cell_type": "code",
   "execution_count": 62,
   "id": "2175bc4d-a3fa-4edd-89d3-b3d37cc9a3b2",
   "metadata": {},
   "outputs": [
    {
     "name": "stdout",
     "output_type": "stream",
     "text": [
      "set()\n"
     ]
    }
   ],
   "source": [
    "s2={\"a\",\"x\",\"c\",\"e\",\"m\",\"d\",\"b\"}\n",
    "s2.clear()\n",
    "print(s2)"
   ]
  },
  {
   "cell_type": "code",
   "execution_count": 67,
   "id": "771be75c-efdb-4a63-b2bd-9a0a1cbf425b",
   "metadata": {},
   "outputs": [],
   "source": [
    "# print(sum([7,89,90]))\n",
    "# print(min([7,89,90]))\n",
    "# print(max([7,89,90]))"
   ]
  }
 ],
 "metadata": {
  "kernelspec": {
   "display_name": "Python 3 (ipykernel)",
   "language": "python",
   "name": "python3"
  },
  "language_info": {
   "codemirror_mode": {
    "name": "ipython",
    "version": 3
   },
   "file_extension": ".py",
   "mimetype": "text/x-python",
   "name": "python",
   "nbconvert_exporter": "python",
   "pygments_lexer": "ipython3",
   "version": "3.13.5"
  }
 },
 "nbformat": 4,
 "nbformat_minor": 5
}
