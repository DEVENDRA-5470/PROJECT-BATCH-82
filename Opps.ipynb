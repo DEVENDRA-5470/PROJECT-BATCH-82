{
 "cells": [
  {
   "cell_type": "code",
   "execution_count": null,
   "id": "8de7cd16-47c2-4bd3-b9b7-bf5be890ade6",
   "metadata": {},
   "outputs": [],
   "source": [
    "# Oop : What is object-oriented-programming ?\n",
    "# Object oriented programming is a way of writing code solutions in the form of\n",
    "# classes and objects.\n",
    "\n",
    "# What is class ?\n",
    "# class is a template or blueprint of data and methods.\n",
    "# class is a group of data(properities) and methods(features).\n",
    "\n",
    "# What is Object.\n",
    "# Object is a instance of a class.\n",
    "# Object is a real world existance with help of blueprint of class. \n",
    "# Objects holds all the attributes/property and behaviour/methods.\n"
   ]
  },
  {
   "cell_type": "code",
   "execution_count": null,
   "id": "04c14296-33da-4721-b033-ab1777a117ce",
   "metadata": {},
   "outputs": [],
   "source": [
    "class Laptop:\n",
    "    # data/properties/attribute (class variable)\n",
    "    name=\"acer\"\n",
    "    ram=\"8gb\"\n",
    "    color=\"silver\"\n",
    "    model=2025\n",
    "\n",
    "    # behaviour/method/feature\n",
    "    def gaming(self):\n",
    "        return \"Yes You can play games\"\n",
    "    def calling(self):\n",
    "        return \"Calling Activated\"\n",
    "    "
   ]
  },
  {
   "cell_type": "code",
   "execution_count": null,
   "id": "a8040a61-27b5-4eee-9b8f-ee38847ebd79",
   "metadata": {},
   "outputs": [],
   "source": [
    "lap1=Laptop()\n",
    "print(lap1.model)\n",
    "print(lap1.ram)\n",
    "print(lap1.color)"
   ]
  },
  {
   "cell_type": "code",
   "execution_count": null,
   "id": "8506ec2b-a551-428e-b6f2-acfbfc592986",
   "metadata": {},
   "outputs": [],
   "source": [
    "lap1.gaming()"
   ]
  },
  {
   "cell_type": "code",
   "execution_count": null,
   "id": "c0c2e69f-4161-44db-8ab4-6eeb7369f7f0",
   "metadata": {},
   "outputs": [],
   "source": [
    "# Constructor : it is method which invokes automatically when any instance or object created."
   ]
  },
  {
   "cell_type": "code",
   "execution_count": null,
   "id": "70ef8ece-9871-4c07-9774-776e381ee267",
   "metadata": {},
   "outputs": [],
   "source": []
  },
  {
   "cell_type": "code",
   "execution_count": null,
   "id": "17bb2b78-251a-48da-a5f7-264a982b3941",
   "metadata": {},
   "outputs": [],
   "source": [
    "class Laptop:\n",
    "   # class variable\n",
    "   parent_var=\"Parent-owner\"\n",
    "   def __init__(self,name,ram,model,color):\n",
    "       # instance variable\n",
    "       self.name=name\n",
    "       self.ram=ram\n",
    "       self.model=model\n",
    "       self.color=color\n",
    "       \n",
    "   def show_detail(self):\n",
    "        print(f\"Name : {self.name}\")\n",
    "        print(f\"Rame : {self.ram}\")\n",
    "        print(F\"Model : {self.model}\")\n",
    "       \n",
    "   def __str__(self):\n",
    "       return f\"[{self.name},{self.ram},{self.model},{self.color}]\""
   ]
  },
  {
   "cell_type": "code",
   "execution_count": 122,
   "id": "757d0427-679a-43b9-9faf-615fbe2dacb5",
   "metadata": {},
   "outputs": [
    {
     "name": "stdout",
     "output_type": "stream",
     "text": [
      "Parent-owner\n"
     ]
    }
   ],
   "source": [
    "obj1=Laptop(\"Acer\",\"8gb\",2025,\"silver\")\n",
    "print(obj1.parent_var)\n"
   ]
  },
  {
   "cell_type": "code",
   "execution_count": 125,
   "id": "5df9e6ba-404a-4dd2-bc0f-c4bdb62b174a",
   "metadata": {},
   "outputs": [],
   "source": [
    "obj1.name=\"\""
   ]
  },
  {
   "cell_type": "code",
   "execution_count": 126,
   "id": "757ae7fe-f16f-470d-97c2-790c72ffa97f",
   "metadata": {},
   "outputs": [
    {
     "name": "stdout",
     "output_type": "stream",
     "text": [
      "\n"
     ]
    }
   ],
   "source": [
    "print(obj1.name)"
   ]
  },
  {
   "cell_type": "code",
   "execution_count": null,
   "id": "15800b4d-7764-4d9d-a917-813f3abc8a9f",
   "metadata": {},
   "outputs": [],
   "source": [
    "print(obj1.model)\n",
    "print(obj1.name)"
   ]
  },
  {
   "cell_type": "code",
   "execution_count": null,
   "id": "e0e38eda-d930-48da-bd95-fd3db9ec182c",
   "metadata": {},
   "outputs": [],
   "source": [
    "obj2=Laptop(\"lenovo\",\"18gb\",2020,\"s\")\n",
    "obj3=Laptop(\"HP\",\"16gb\",2024,\"g\")\n",
    "obj4=Laptop(\"dell\",\"8gb\",2025,\"y\")"
   ]
  },
  {
   "cell_type": "code",
   "execution_count": null,
   "id": "f71b559d-0967-4aa5-8353-4723c72f69ad",
   "metadata": {},
   "outputs": [],
   "source": [
    "print(obj1.parent_var)\n",
    "print(obj2.parent_var)\n",
    "print(obj3.parent_var)\n",
    "print(obj4.parent_var)"
   ]
  },
  {
   "cell_type": "code",
   "execution_count": null,
   "id": "3772ee00-f08f-4219-8d46-3afb57a3795d",
   "metadata": {},
   "outputs": [],
   "source": [
    "obj1.show_detail()"
   ]
  },
  {
   "cell_type": "code",
   "execution_count": null,
   "id": "5865bea6-6299-4bbd-9886-61b546ffb1d2",
   "metadata": {},
   "outputs": [],
   "source": [
    "obj2.show_detail()"
   ]
  },
  {
   "cell_type": "code",
   "execution_count": null,
   "id": "1d02f0d4-1ba3-41bd-a770-1ab6660a4faf",
   "metadata": {},
   "outputs": [],
   "source": [
    "obj3.show_detail()"
   ]
  },
  {
   "cell_type": "code",
   "execution_count": null,
   "id": "97e08fa4-6a1e-4e72-a061-46b7cc731056",
   "metadata": {},
   "outputs": [],
   "source": [
    "class list():\n",
    "    method\n",
    "    def appen\n",
    "    def __str__(**self)\n",
    "\n",
    "l=[4,89,90,90]\n",
    "print(type(l))\n",
    "print(l)"
   ]
  },
  {
   "cell_type": "code",
   "execution_count": null,
   "id": "63babe42-4585-421e-800b-d43f46033d18",
   "metadata": {},
   "outputs": [],
   "source": [
    "obj4=Laptop(\"dell\",\"8gb\",2025)"
   ]
  },
  {
   "cell_type": "code",
   "execution_count": null,
   "id": "e5b87be9-2ae1-47cf-9e43-aa7daaba52b8",
   "metadata": {},
   "outputs": [],
   "source": [
    "# class\n",
    "# object/instance\n",
    "# properties/attr/data\n",
    "# behavior/methods/featurs\n",
    "# constructor (__init__)\n",
    "# class variables\n",
    "# instance variables."
   ]
  },
  {
   "cell_type": "code",
   "execution_count": null,
   "id": "dc690297-a70a-4e0e-a5ea-83fb6ff5a84c",
   "metadata": {},
   "outputs": [],
   "source": [
    "# Four pillars of oops:\n",
    "# 1.Inheritance\n",
    "# 2.Encapsulation\n",
    "# 3.Polymorphism\n",
    "# 4.Abstraction"
   ]
  },
  {
   "cell_type": "code",
   "execution_count": null,
   "id": "6a695343-0741-4110-94e5-1285f85dcd88",
   "metadata": {},
   "outputs": [],
   "source": [
    "# 1.Inheritance.\n",
    "# Inheritance is a methedology in oops by using we can inherites the property and methods \n",
    "# of base class(parent) to derived class(child).\n",
    "# 1.Single inheritance\n",
    "# 2.Multiple inheritance\n",
    "# 3.Multilevel inheritance\n",
    "# 4.Hierarichacal inheritance\n",
    "# 5.Hybrid inheritace."
   ]
  },
  {
   "cell_type": "code",
   "execution_count": 7,
   "id": "ce09d97a-c9a4-4a85-b81f-5cf237c16b5d",
   "metadata": {},
   "outputs": [
    {
     "name": "stdout",
     "output_type": "stream",
     "text": [
      "Sending Vedio msg...\n",
      "Sending text msg...\n"
     ]
    },
    {
     "data": {
      "text/plain": [
       "'Meta'"
      ]
     },
     "execution_count": 7,
     "metadata": {},
     "output_type": "execute_result"
    }
   ],
   "source": [
    "# 1.Single inheritance.\n",
    "# One parent class(base) one child class(derived).\n",
    "class Whatsappv1:\n",
    "    parent=\"Meta\"\n",
    "    version=\"v1\"\n",
    "    def send_text_msg(self):\n",
    "        print(\"Sending text msg...\")\n",
    "\n",
    "class Whatsappv2(Whatsappv1):\n",
    "    version=\"v2\"\n",
    "    def send_vedio_msg(self):\n",
    "        print(\"Sending Vedio msg...\")\n",
    "\n",
    "user1=Whatsappv2()\n",
    "user1.send_vedio_msg()\n",
    "user1.send_text_msg()\n",
    "user1.version\n",
    "user1.parent"
   ]
  },
  {
   "cell_type": "code",
   "execution_count": 10,
   "id": "438bb248-0518-45bc-b038-8845e5d4e529",
   "metadata": {},
   "outputs": [
    {
     "name": "stdout",
     "output_type": "stream",
     "text": [
      "Sending Vedio msg...\n",
      "Sending text msg...\n",
      "Sending Status msg...\n"
     ]
    }
   ],
   "source": [
    "# 2.Multilevel inheritance.\n",
    "class Whatsappv1:\n",
    "    parent=\"Meta\"\n",
    "    version=\"v1\"\n",
    "    def send_text_msg(self):\n",
    "        print(\"Sending text msg...\")\n",
    "\n",
    "class Whatsappv2(Whatsappv1):\n",
    "    version=\"v2\"\n",
    "    def send_vedio_msg(self):\n",
    "        print(\"Sending Vedio msg...\")\n",
    "\n",
    "class Whatsappv3(Whatsappv2):\n",
    "    version=\"v3\"\n",
    "    def send_status_msg(self):\n",
    "        print(\"Sending Status msg...\")\n",
    "\n",
    "user1=Whatsappv3()\n",
    "user1.send_vedio_msg()\n",
    "user1.send_text_msg()\n",
    "user1.send_status_msg()"
   ]
  },
  {
   "cell_type": "code",
   "execution_count": 25,
   "id": "f4529be6-e5b6-46e1-b42c-3424a0b9521e",
   "metadata": {},
   "outputs": [
    {
     "ename": "AttributeError",
     "evalue": "'Whatsappv3' object has no attribute 'send_vedio_msg'",
     "output_type": "error",
     "traceback": [
      "\u001b[1;31m---------------------------------------------------------------------------\u001b[0m",
      "\u001b[1;31mAttributeError\u001b[0m                            Traceback (most recent call last)",
      "Cell \u001b[1;32mIn[25], line 19\u001b[0m\n\u001b[0;32m     16\u001b[0m         \u001b[38;5;28mprint\u001b[39m(\u001b[38;5;124m\"\u001b[39m\u001b[38;5;124mSending Status msg...\u001b[39m\u001b[38;5;124m\"\u001b[39m)\n\u001b[0;32m     18\u001b[0m user1\u001b[38;5;241m=\u001b[39mWhatsappv3()\n\u001b[1;32m---> 19\u001b[0m \u001b[43muser1\u001b[49m\u001b[38;5;241;43m.\u001b[39;49m\u001b[43msend_vedio_msg\u001b[49m()\n\u001b[0;32m     20\u001b[0m user1\u001b[38;5;241m.\u001b[39msend_text_msg()\n\u001b[0;32m     21\u001b[0m user1\u001b[38;5;241m.\u001b[39msend_status_msg()\n",
      "\u001b[1;31mAttributeError\u001b[0m: 'Whatsappv3' object has no attribute 'send_vedio_msg'"
     ]
    }
   ],
   "source": [
    "# 3.Multiple inheritance.\n",
    "class Whatsappv1:\n",
    "    parent=\"Meta\"\n",
    "    version=\"v1\"\n",
    "    def send_text_msg(self):\n",
    "        print(\"Sending text msg...\")\n",
    "\n",
    "class Whatsappv2(Whatsappv1):\n",
    "    version=\"v2\"\n",
    "    def send_vedio_msg(self):\n",
    "        print(\"Sending Vedio msg...\")\n",
    "    \n",
    "class Whatsappv3(Whatsappv1):\n",
    "    version=\"v3\"\n",
    "    \n",
    "    def send_status_msg(self):\n",
    "        print(\"Sending Status msg...\")\n",
    "\n",
    "user1=Whatsappv3()\n",
    "user1.send_vedio_msg()\n",
    "user1.send_text_msg()\n",
    "user1.send_status_msg()\n",
    "user1.parent"
   ]
  },
  {
   "cell_type": "code",
   "execution_count": 13,
   "id": "5672daf9-e7f0-4bfa-a46d-b242db0c8e81",
   "metadata": {},
   "outputs": [],
   "source": [
    "# class Human:\n",
    "#     def __init__(self,**kwargs):\n",
    "#         self.name=kwargs.get('name',\"N/A\")\n",
    "#         self.age=kwargs.get('age',\"N/A\")\n",
    "#         self.color=kwargs.get('color',\"N/A\")\n",
    "#         self.address=kwargs.get('address',\"N/A\")\n",
    "#         self.mob=kwargs.get('mob',\"N/A\")\n",
    "\n",
    "#     def show_details(self):\n",
    "#         print(f\"Name :{self.name}\")\n",
    "#         print(f\"Age :{self.age}\")\n",
    "#         print(f\"Color :{self.color}\")\n",
    "#         print(f\"Address :{self.address}\")\n",
    "#         print(f\"Mobile :{self.mob}\")\n",
    "\n",
    "# objects=[]\n",
    "# import random\n",
    "# for i in range(1,10):\n",
    "#     obj1=Human(mob=8797978,name=random.choice([\"a\",\"b\",\"c\",\"d\"]),age=33,color=\"brown\",address=\"odisa\")\n",
    "#     objects.append(obj1)\n",
    "\n",
    "# for obj in objects:\n",
    "#     print(\"---------\")\n",
    "#     obj.show_details()"
   ]
  },
  {
   "cell_type": "code",
   "execution_count": 27,
   "id": "4fb84d34-bd7a-4407-982a-7e4b2a68788d",
   "metadata": {},
   "outputs": [
    {
     "name": "stdout",
     "output_type": "stream",
     "text": [
      "Hello i am grand parent...\n",
      "Hello i am parent...\n",
      "Hello i am child...\n"
     ]
    }
   ],
   "source": [
    "# Super method. (MRO) : Method Resolution order\n",
    "class Grand_parent:\n",
    "    def hello(self):\n",
    "        print(\"Hello i am grand parent...\")\n",
    "        \n",
    "class Parent(Grand_parent):\n",
    "    def hello(self):\n",
    "        super().hello()\n",
    "        print(\"Hello i am parent...\")\n",
    "\n",
    "class Child(Parent):\n",
    "    def hello(self):\n",
    "        super().hello()\n",
    "        print(\"Hello i am child...\")\n",
    "\n",
    "c=Child()\n",
    "c.hello()"
   ]
  },
  {
   "cell_type": "code",
   "execution_count": 2,
   "id": "e17bd24f-983a-4b67-8037-480772ee4f0f",
   "metadata": {},
   "outputs": [
    {
     "name": "stdout",
     "output_type": "stream",
     "text": [
      "Parent name : aman\n",
      "Child name : rohan\n",
      "Child age : 20\n",
      "Child Mob : 87989887\n"
     ]
    }
   ],
   "source": [
    "# Super method. (MRO) : Method Resolution order\n",
    "        \n",
    "class Parent:\n",
    "    def __init__(self,name,age,address):\n",
    "        self.name=name\n",
    "        self.age=age\n",
    "        self.address=address\n",
    "\n",
    "    def show_details(self):\n",
    "        print(f\"Parent name : {self.name}\")\n",
    "    \n",
    "class Child(Parent):\n",
    "    def __init__(self,name,age,address,mob):\n",
    "        super().__init__(name,age,address)\n",
    "        self.mob=mob\n",
    "        \n",
    "    def show_details(self):\n",
    "        print(f\"Child name : {self.name}\")\n",
    "        print(f\"Child age : {self.age}\")\n",
    "        print(f\"Child Mob : {self.mob}\")\n",
    "        \n",
    "        \n",
    "p=Parent(\"aman\",34,\"oddisa\")\n",
    "p.show_details()\n",
    "\n",
    "c=Child(\"rohan\",20,\"odissa\",87989887)\n",
    "c.show_details()"
   ]
  },
  {
   "cell_type": "code",
   "execution_count": null,
   "id": "38b5ca3b-7b27-4a71-9ffd-e011e116d236",
   "metadata": {},
   "outputs": [],
   "source": [
    "# hybrid inheritance\n",
    "# Hirer inheritace\n",
    "\n",
    "# Next\n",
    "classmethod\n",
    "staticmethod"
   ]
  },
  {
   "cell_type": "code",
   "execution_count": 1,
   "id": "3becabf2-6dee-4b40-90d5-e87944fa4670",
   "metadata": {},
   "outputs": [
    {
     "ename": "SyntaxError",
     "evalue": "invalid syntax (4198637681.py, line 11)",
     "output_type": "error",
     "traceback": [
      "\u001b[1;36m  Cell \u001b[1;32mIn[1], line 11\u001b[1;36m\u001b[0m\n\u001b[1;33m    .to_upper()\u001b[0m\n\u001b[1;37m    ^\u001b[0m\n\u001b[1;31mSyntaxError\u001b[0m\u001b[1;31m:\u001b[0m invalid syntax\n"
     ]
    }
   ],
   "source": [
    "# Write a programme for class TextEditor:\n",
    "# Provide functionality:\n",
    "# 1.to_upper\n",
    "# 2.to_lower\n",
    "# 3.count_upper\n",
    "# 4.count_lower\n",
    "# 5.count_show_vowel\n",
    "# 6.count_show_consonant\n",
    "# 7.get_text_status\n",
    "\"this is python\"\n",
    ".to_upper()\n",
    ".get_text_status()"
   ]
  },
  {
   "cell_type": "code",
   "execution_count": 27,
   "id": "76a052e5-e460-4084-96ce-2f8d4513966f",
   "metadata": {},
   "outputs": [
    {
     "name": "stdout",
     "output_type": "stream",
     "text": [
      "File written ✅\n",
      "File written ✅\n",
      "File Updated ✅\n",
      "File Updated ✅\n",
      "File Updated ✅\n",
      "File Updated ✅\n",
      "<bound method FileSystem.opr_count of <class '__main__.FileSystem'>>\n"
     ]
    }
   ],
   "source": [
    "# wap to create file creation system when ever any object created.\n",
    "class FileSystem:\n",
    "    count_opr=0\n",
    "    \n",
    "    def __init__(self,file):\n",
    "        FileSystem.count_opr+=1\n",
    "        self.file=file\n",
    "        try:\n",
    "            with open(f\"{self.file}.txt\",\"x\") as file:\n",
    "                print(\"File created..\")\n",
    "        except Exception as e:\n",
    "            pass\n",
    "\n",
    "    def write_data(self,data):\n",
    "        FileSystem.count_opr+=1\n",
    "        try:\n",
    "            with open(f\"{self.file}.txt\",\"w+\") as file:\n",
    "                file.write(data)\n",
    "                print(\"File written ✅\")\n",
    "        except Exception as e:\n",
    "            pass\n",
    "    \n",
    "    def update_data(self,data):\n",
    "        FileSystem.count_opr+=1\n",
    "        try:\n",
    "            with open(f\"{self.file}.txt\",\"a+\") as file:\n",
    "                file.write(data)\n",
    "                print(\"File Updated ✅\")\n",
    "        except Exception as e:\n",
    "            pass\n",
    "\n",
    "    def read_data():\n",
    "        pass\n",
    "\n",
    "    def count_char_file():\n",
    "        pass\n",
    "\n",
    "    def count_word_in_file():\n",
    "        pass\n",
    "\n",
    "    def count_lowercase():\n",
    "        pass\n",
    "\n",
    "    def count_uppercase():\n",
    "        pass\n",
    "\n",
    "    def count_special_char():\n",
    "        pass\n",
    "\n",
    "    @classmethod\n",
    "    def opr_count(cls):\n",
    "        if cls.count_opr > 5:\n",
    "            return f\"Email sent :{cls.count_opr}\"\n",
    "        else:\n",
    "            return f\"Email not sent :{cls.count_opr}\"\n",
    "        \n",
    "\n",
    "\n",
    "\n",
    "obj=FileSystem(\"file1\")\n",
    "obj.write_data(\"This is my data\")\n",
    "obj.write_data(\"This is new data @ % *\")\n",
    "obj.update_data(\"This is updated data\")\n",
    "obj.update_data(\"This is updated data\")\n",
    "obj.update_data(\"This is updated data\")\n",
    "obj.update_data(\"This is updated data\")\n",
    "print(FileSystem.opr_count)"
   ]
  }
 ],
 "metadata": {
  "kernelspec": {
   "display_name": "Python 3",
   "language": "python",
   "name": "python3"
  },
  "language_info": {
   "codemirror_mode": {
    "name": "ipython",
    "version": 3
   },
   "file_extension": ".py",
   "mimetype": "text/x-python",
   "name": "python",
   "nbconvert_exporter": "python",
   "pygments_lexer": "ipython3",
   "version": "3.13.5"
  }
 },
 "nbformat": 4,
 "nbformat_minor": 5
}
