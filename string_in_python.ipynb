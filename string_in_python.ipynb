{
 "cells": [
  {
   "cell_type": "code",
   "execution_count": null,
   "id": "de9de988-1cd2-431a-935d-bf0947d8f698",
   "metadata": {},
   "outputs": [],
   "source": [
    "# ---------------------- String \n",
    "# Defination and properties\n",
    "# Creation \n",
    "# Accessing #self assesment\n",
    "# Modification \n",
    "# slicing  #self assesment\n",
    "# Traversing #self assesment\n",
    "# Built-in-methods\n",
    "# Assignment."
   ]
  },
  {
   "cell_type": "code",
   "execution_count": null,
   "id": "f797d8b6-590f-4995-b3f0-517d22e3c353",
   "metadata": {},
   "outputs": [],
   "source": [
    "# Defination and properties\n",
    "# String is a data structure in python used to store series of char,num,symbols.\n",
    "# String are indexed,ordered and support slicing\n",
    "# String are immutable in nature.\n",
    "# String can be created by using (''),(\"\"),(\"\"\" \"\"\")"
   ]
  },
  {
   "cell_type": "code",
   "execution_count": 6,
   "id": "abe14030-c300-4cfa-983d-6ff4996b96b7",
   "metadata": {},
   "outputs": [
    {
     "name": "stdout",
     "output_type": "stream",
     "text": [
      "How 'are' you\n",
      "How \"are\" you\n",
      "\n",
      "How \n",
      "'ar'e \n",
      "\"kuch\"\n",
      "you\n"
     ]
    }
   ],
   "source": [
    "# Creation\n",
    "str1=\"How 'are' you\"\n",
    "str2='How \"are\" you'\n",
    "str3=\"\"\"\n",
    "How \n",
    "'ar'e \n",
    "\"kuch\"\n",
    "you\"\"\"\n",
    "print(str1)\n",
    "print(str2)\n",
    "print(str3)"
   ]
  },
  {
   "cell_type": "code",
   "execution_count": null,
   "id": "729ed072-4a8f-42b1-88d9-5755da60fe9e",
   "metadata": {},
   "outputs": [],
   "source": [
    "# Accessing # self assesment\n",
    "# slicing  #self assesment\n",
    "# Traversing #self assesment"
   ]
  },
  {
   "cell_type": "code",
   "execution_count": 6,
   "id": "30f11ff7-1472-41e0-b15a-4763a8938670",
   "metadata": {},
   "outputs": [
    {
     "name": "stdout",
     "output_type": "stream",
     "text": [
      "True\n",
      "False\n",
      "False\n"
     ]
    }
   ],
   "source": [
    "# Built-in-methods.\n",
    "\n",
    "# data=\"THIS IS MY STRING\"\n",
    "# print(data.isupper()) \n",
    "# print(data.islower())\n",
    "# print(data.istitle())"
   ]
  },
  {
   "cell_type": "code",
   "execution_count": 19,
   "id": "73940887-41a2-45b6-97ac-0f7157990257",
   "metadata": {},
   "outputs": [
    {
     "name": "stdout",
     "output_type": "stream",
     "text": [
      "False\n"
     ]
    }
   ],
   "source": [
    "# str3=\"\"\n",
    "# print(str3.isspace())\n",
    "# str4=\"7897\"\n",
    "# print(str4.isdigit())\n",
    "# str5=\"ejfdklf@#\"\n",
    "# print(str5.isalnum())\n",
    "# str5=\"🙏\"\n",
    "# print(str5.isascii())\n"
   ]
  },
  {
   "cell_type": "code",
   "execution_count": 28,
   "id": "f844005c-e51c-4bb3-9e35-b9dd05a26760",
   "metadata": {},
   "outputs": [
    {
     "name": "stdout",
     "output_type": "stream",
     "text": [
      "java for data science\n",
      "python for data science\n"
     ]
    }
   ],
   "source": [
    "my_data=\"python for data science\"\n",
    "# my_data[0]=\"z\"\n",
    "res=my_data.replace(\"python\",\"java\")\n",
    "print(res)\n",
    "print(my_data)"
   ]
  },
  {
   "cell_type": "code",
   "execution_count": 35,
   "id": "8a4b9d44-b2e8-4d4d-b672-60a95666cec0",
   "metadata": {},
   "outputs": [],
   "source": [
    "# my_data=\"python for data science\"\n",
    "# res=my_data.endswith(\"ce\")\n",
    "\n",
    "# my_data=\"python for data science\"\n",
    "# res=my_data.startswith(\"pyt\")\n",
    "# print(res)"
   ]
  },
  {
   "cell_type": "code",
   "execution_count": 43,
   "id": "fc9e25cc-8d62-425f-be54-37af7e304593",
   "metadata": {},
   "outputs": [
    {
     "name": "stdout",
     "output_type": "stream",
     "text": [
      "python for data science\n",
      "p*y*t*h*o*n* *f*o*r* *d*a*t*a* *s*c*i*e*n*c*e\n"
     ]
    }
   ],
   "source": [
    "# my_data=\"python for data science\"\n",
    "# new=\"*\".join(my_data)\n",
    "# print(my_data)\n",
    "# print(new)"
   ]
  },
  {
   "cell_type": "code",
   "execution_count": 63,
   "id": "025e5619-ffc2-43a6-bd78-020303ff255a",
   "metadata": {},
   "outputs": [
    {
     "name": "stdout",
     "output_type": "stream",
     "text": [
      "['python', 'for', 'data', 'science']\n"
     ]
    }
   ],
   "source": [
    "# my_data=\"python for data science\"\n",
    "# res=my_data.split(\" \")\n",
    "# print(res)"
   ]
  },
  {
   "cell_type": "code",
   "execution_count": 72,
   "id": "0baf5230-4a60-4db6-9fc7-68518db77e04",
   "metadata": {},
   "outputs": [
    {
     "name": "stdout",
     "output_type": "stream",
     "text": [
      "    python for data science     \n",
      "python for data science\n"
     ]
    }
   ],
   "source": [
    "my_data=\"    python for data science     \"\n",
    "# new=my_data.lstrip()\n",
    "# new=my_data.rstrip()\n",
    "new=my_data.strip()\n",
    "print((my_data))\n",
    "print((new))"
   ]
  },
  {
   "cell_type": "code",
   "execution_count": 85,
   "id": "ebe98add-9fb8-458c-9488-7a17abdad573",
   "metadata": {},
   "outputs": [
    {
     "name": "stdout",
     "output_type": "stream",
     "text": [
      "PYTHOn FOf DATA SCIENCE\n"
     ]
    }
   ],
   "source": [
    "my_data=\"pythoN foF data science\"\n",
    "# print(my_data.upper())\n",
    "# print(my_data.lower())\n",
    "# print(my_data.title())\n",
    "# res=my_data.swapcase()\n",
    "print(res)"
   ]
  },
  {
   "cell_type": "code",
   "execution_count": 86,
   "id": "5b5d1c45-b53e-45a2-a2c7-0c49343b3367",
   "metadata": {},
   "outputs": [
    {
     "name": "stdout",
     "output_type": "stream",
     "text": [
      "python programming\n"
     ]
    }
   ],
   "source": [
    "# my_data=\"Python Programming\"\n",
    "# print(my_data.casefold())"
   ]
  },
  {
   "cell_type": "code",
   "execution_count": 89,
   "id": "14e24245-f7f2-41c5-b03b-c71edc1a3636",
   "metadata": {},
   "outputs": [
    {
     "name": "stdout",
     "output_type": "stream",
     "text": [
      "0002890000\n"
     ]
    }
   ],
   "source": [
    "# my_data=\"2890000\"\n",
    "# res=my_data.zfill(10)\n",
    "# print(res)"
   ]
  },
  {
   "cell_type": "code",
   "execution_count": 105,
   "id": "3f1c570b-0d4c-4a0f-ba6a-154e238fb68e",
   "metadata": {},
   "outputs": [
    {
     "name": "stdout",
     "output_type": "stream",
     "text": [
      "090\n"
     ]
    }
   ],
   "source": [
    "# mark=90\n",
    "# res=str(mark)\n",
    "# print(res.zfill(3))"
   ]
  },
  {
   "cell_type": "code",
   "execution_count": 114,
   "id": "2ee2c0b3-a012-442a-9901-8f1b45d5291c",
   "metadata": {},
   "outputs": [
    {
     "name": "stdout",
     "output_type": "stream",
     "text": [
      "6\n"
     ]
    }
   ],
   "source": [
    "# my_data=\"pynthon\"\n",
    "# # res=my_data.lstrip(\"py\")\n",
    "# # res=my_data.rstrip(\"on  \")\n",
    "# res=my_data.find(\"n\",3)\n",
    "# print(res)"
   ]
  },
  {
   "cell_type": "code",
   "execution_count": 116,
   "id": "dc2fcc09-2cee-402e-abfd-0777232cb06a",
   "metadata": {},
   "outputs": [
    {
     "name": "stdin",
     "output_type": "stream",
     "text": [
      "Enter your Username :    Dev@1234\n",
      "Enter your password :     Pass@123#PASS\n"
     ]
    },
    {
     "name": "stdout",
     "output_type": "stream",
     "text": [
      "pass@123#pass\n",
      "dev@1234\n",
      "\n",
      "dev@1234\n",
      "pass@123#pass\n"
     ]
    }
   ],
   "source": [
    "username=input(\"Enter your Username :\").strip().lower()\n",
    "password=input(\"Enter your password :\").strip().lower()\n",
    "store_user=username\n",
    "store_pass=password\n",
    "print(store_pass)\n",
    "print(store_user)\n",
    "print()\n",
    "print(username)\n",
    "print(password)"
   ]
  },
  {
   "cell_type": "code",
   "execution_count": 118,
   "id": "41a8b688-85bd-4b14-8d30-a31b6fa3cf92",
   "metadata": {},
   "outputs": [
    {
     "name": "stdout",
     "output_type": "stream",
     "text": [
      "dev@123\n"
     ]
    }
   ],
   "source": [
    "password=\"dev@ 123\"\n",
    "res=password.replace(\" \",\"\")\n",
    "print(res)"
   ]
  }
 ],
 "metadata": {
  "kernelspec": {
   "display_name": "Python 3 (ipykernel)",
   "language": "python",
   "name": "python3"
  },
  "language_info": {
   "codemirror_mode": {
    "name": "ipython",
    "version": 3
   },
   "file_extension": ".py",
   "mimetype": "text/x-python",
   "name": "python",
   "nbconvert_exporter": "python",
   "pygments_lexer": "ipython3",
   "version": "3.13.5"
  }
 },
 "nbformat": 4,
 "nbformat_minor": 5
}
